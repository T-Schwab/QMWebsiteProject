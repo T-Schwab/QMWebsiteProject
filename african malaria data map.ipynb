{
 "cells": [
  {
   "cell_type": "code",
   "execution_count": 11,
   "id": "5fb79a96",
   "metadata": {
    "scrolled": true
   },
   "outputs": [
    {
     "name": "stdout",
     "output_type": "stream",
     "text": [
      "筛选后的数据预览：\n",
      "   ISO3         Name Admin Level          Metric               Units  Year  \\\n",
      "10  AFG  Afghanistan      admin0  Incidence Rate  Cases per Thousand  2020   \n",
      "23  AGO       Angola      admin0  Incidence Rate  Cases per Thousand  2020   \n",
      "36  ARG    Argentina      admin0  Incidence Rate  Cases per Thousand  2020   \n",
      "49  ARM      Armenia      admin0  Incidence Rate  Cases per Thousand  2020   \n",
      "62  AZE   Azerbaijan      admin0  Incidence Rate  Cases per Thousand  2020   \n",
      "\n",
      "         Value  \n",
      "10    0.274987  \n",
      "23  235.067713  \n",
      "36    0.000000  \n",
      "49    0.000000  \n",
      "62    0.000000  \n",
      "\n",
      "分组后的数据预览：\n",
      "  ISO3         Name       Value\n",
      "0  AFG  Afghanistan    0.274987\n",
      "1  AGO       Angola  235.067713\n",
      "2  ARG    Argentina    0.000000\n",
      "3  ARM      Armenia    0.000000\n",
      "4  AZE   Azerbaijan    0.000000\n"
     ]
    },
    {
     "ename": "OSError",
     "evalue": "Cannot save file into a non-existent directory: '/path/to'",
     "output_type": "error",
     "traceback": [
      "\u001b[0;31m---------------------------------------------------------------------------\u001b[0m",
      "\u001b[0;31mOSError\u001b[0m                                   Traceback (most recent call last)",
      "Cell \u001b[0;32mIn[11], line 25\u001b[0m\n\u001b[1;32m     22\u001b[0m \u001b[38;5;28mprint\u001b[39m(df_grouped\u001b[38;5;241m.\u001b[39mhead())\n\u001b[1;32m     24\u001b[0m \u001b[38;5;66;03m# Optional: 保存筛选后的数据\u001b[39;00m\n\u001b[0;32m---> 25\u001b[0m df_grouped\u001b[38;5;241m.\u001b[39mto_csv(\u001b[38;5;124m'\u001b[39m\u001b[38;5;124m/path/to/filtered_malaria_data.csv\u001b[39m\u001b[38;5;124m'\u001b[39m, index\u001b[38;5;241m=\u001b[39m\u001b[38;5;28;01mFalse\u001b[39;00m)\n",
      "File \u001b[0;32m~/anaconda3/lib/python3.11/site-packages/pandas/core/generic.py:3772\u001b[0m, in \u001b[0;36mNDFrame.to_csv\u001b[0;34m(self, path_or_buf, sep, na_rep, float_format, columns, header, index, index_label, mode, encoding, compression, quoting, quotechar, lineterminator, chunksize, date_format, doublequote, escapechar, decimal, errors, storage_options)\u001b[0m\n\u001b[1;32m   3761\u001b[0m df \u001b[38;5;241m=\u001b[39m \u001b[38;5;28mself\u001b[39m \u001b[38;5;28;01mif\u001b[39;00m \u001b[38;5;28misinstance\u001b[39m(\u001b[38;5;28mself\u001b[39m, ABCDataFrame) \u001b[38;5;28;01melse\u001b[39;00m \u001b[38;5;28mself\u001b[39m\u001b[38;5;241m.\u001b[39mto_frame()\n\u001b[1;32m   3763\u001b[0m formatter \u001b[38;5;241m=\u001b[39m DataFrameFormatter(\n\u001b[1;32m   3764\u001b[0m     frame\u001b[38;5;241m=\u001b[39mdf,\n\u001b[1;32m   3765\u001b[0m     header\u001b[38;5;241m=\u001b[39mheader,\n\u001b[0;32m   (...)\u001b[0m\n\u001b[1;32m   3769\u001b[0m     decimal\u001b[38;5;241m=\u001b[39mdecimal,\n\u001b[1;32m   3770\u001b[0m )\n\u001b[0;32m-> 3772\u001b[0m \u001b[38;5;28;01mreturn\u001b[39;00m DataFrameRenderer(formatter)\u001b[38;5;241m.\u001b[39mto_csv(\n\u001b[1;32m   3773\u001b[0m     path_or_buf,\n\u001b[1;32m   3774\u001b[0m     lineterminator\u001b[38;5;241m=\u001b[39mlineterminator,\n\u001b[1;32m   3775\u001b[0m     sep\u001b[38;5;241m=\u001b[39msep,\n\u001b[1;32m   3776\u001b[0m     encoding\u001b[38;5;241m=\u001b[39mencoding,\n\u001b[1;32m   3777\u001b[0m     errors\u001b[38;5;241m=\u001b[39merrors,\n\u001b[1;32m   3778\u001b[0m     compression\u001b[38;5;241m=\u001b[39mcompression,\n\u001b[1;32m   3779\u001b[0m     quoting\u001b[38;5;241m=\u001b[39mquoting,\n\u001b[1;32m   3780\u001b[0m     columns\u001b[38;5;241m=\u001b[39mcolumns,\n\u001b[1;32m   3781\u001b[0m     index_label\u001b[38;5;241m=\u001b[39mindex_label,\n\u001b[1;32m   3782\u001b[0m     mode\u001b[38;5;241m=\u001b[39mmode,\n\u001b[1;32m   3783\u001b[0m     chunksize\u001b[38;5;241m=\u001b[39mchunksize,\n\u001b[1;32m   3784\u001b[0m     quotechar\u001b[38;5;241m=\u001b[39mquotechar,\n\u001b[1;32m   3785\u001b[0m     date_format\u001b[38;5;241m=\u001b[39mdate_format,\n\u001b[1;32m   3786\u001b[0m     doublequote\u001b[38;5;241m=\u001b[39mdoublequote,\n\u001b[1;32m   3787\u001b[0m     escapechar\u001b[38;5;241m=\u001b[39mescapechar,\n\u001b[1;32m   3788\u001b[0m     storage_options\u001b[38;5;241m=\u001b[39mstorage_options,\n\u001b[1;32m   3789\u001b[0m )\n",
      "File \u001b[0;32m~/anaconda3/lib/python3.11/site-packages/pandas/io/formats/format.py:1186\u001b[0m, in \u001b[0;36mDataFrameRenderer.to_csv\u001b[0;34m(self, path_or_buf, encoding, sep, columns, index_label, mode, compression, quoting, quotechar, lineterminator, chunksize, date_format, doublequote, escapechar, errors, storage_options)\u001b[0m\n\u001b[1;32m   1165\u001b[0m     created_buffer \u001b[38;5;241m=\u001b[39m \u001b[38;5;28;01mFalse\u001b[39;00m\n\u001b[1;32m   1167\u001b[0m csv_formatter \u001b[38;5;241m=\u001b[39m CSVFormatter(\n\u001b[1;32m   1168\u001b[0m     path_or_buf\u001b[38;5;241m=\u001b[39mpath_or_buf,\n\u001b[1;32m   1169\u001b[0m     lineterminator\u001b[38;5;241m=\u001b[39mlineterminator,\n\u001b[0;32m   (...)\u001b[0m\n\u001b[1;32m   1184\u001b[0m     formatter\u001b[38;5;241m=\u001b[39m\u001b[38;5;28mself\u001b[39m\u001b[38;5;241m.\u001b[39mfmt,\n\u001b[1;32m   1185\u001b[0m )\n\u001b[0;32m-> 1186\u001b[0m csv_formatter\u001b[38;5;241m.\u001b[39msave()\n\u001b[1;32m   1188\u001b[0m \u001b[38;5;28;01mif\u001b[39;00m created_buffer:\n\u001b[1;32m   1189\u001b[0m     \u001b[38;5;28;01massert\u001b[39;00m \u001b[38;5;28misinstance\u001b[39m(path_or_buf, StringIO)\n",
      "File \u001b[0;32m~/anaconda3/lib/python3.11/site-packages/pandas/io/formats/csvs.py:240\u001b[0m, in \u001b[0;36mCSVFormatter.save\u001b[0;34m(self)\u001b[0m\n\u001b[1;32m    236\u001b[0m \u001b[38;5;250m\u001b[39m\u001b[38;5;124;03m\"\"\"\u001b[39;00m\n\u001b[1;32m    237\u001b[0m \u001b[38;5;124;03mCreate the writer & save.\u001b[39;00m\n\u001b[1;32m    238\u001b[0m \u001b[38;5;124;03m\"\"\"\u001b[39;00m\n\u001b[1;32m    239\u001b[0m \u001b[38;5;66;03m# apply compression and byte/text conversion\u001b[39;00m\n\u001b[0;32m--> 240\u001b[0m \u001b[38;5;28;01mwith\u001b[39;00m get_handle(\n\u001b[1;32m    241\u001b[0m     \u001b[38;5;28mself\u001b[39m\u001b[38;5;241m.\u001b[39mfilepath_or_buffer,\n\u001b[1;32m    242\u001b[0m     \u001b[38;5;28mself\u001b[39m\u001b[38;5;241m.\u001b[39mmode,\n\u001b[1;32m    243\u001b[0m     encoding\u001b[38;5;241m=\u001b[39m\u001b[38;5;28mself\u001b[39m\u001b[38;5;241m.\u001b[39mencoding,\n\u001b[1;32m    244\u001b[0m     errors\u001b[38;5;241m=\u001b[39m\u001b[38;5;28mself\u001b[39m\u001b[38;5;241m.\u001b[39merrors,\n\u001b[1;32m    245\u001b[0m     compression\u001b[38;5;241m=\u001b[39m\u001b[38;5;28mself\u001b[39m\u001b[38;5;241m.\u001b[39mcompression,\n\u001b[1;32m    246\u001b[0m     storage_options\u001b[38;5;241m=\u001b[39m\u001b[38;5;28mself\u001b[39m\u001b[38;5;241m.\u001b[39mstorage_options,\n\u001b[1;32m    247\u001b[0m ) \u001b[38;5;28;01mas\u001b[39;00m handles:\n\u001b[1;32m    248\u001b[0m     \u001b[38;5;66;03m# Note: self.encoding is irrelevant here\u001b[39;00m\n\u001b[1;32m    249\u001b[0m     \u001b[38;5;28mself\u001b[39m\u001b[38;5;241m.\u001b[39mwriter \u001b[38;5;241m=\u001b[39m csvlib\u001b[38;5;241m.\u001b[39mwriter(\n\u001b[1;32m    250\u001b[0m         handles\u001b[38;5;241m.\u001b[39mhandle,\n\u001b[1;32m    251\u001b[0m         lineterminator\u001b[38;5;241m=\u001b[39m\u001b[38;5;28mself\u001b[39m\u001b[38;5;241m.\u001b[39mlineterminator,\n\u001b[0;32m   (...)\u001b[0m\n\u001b[1;32m    256\u001b[0m         quotechar\u001b[38;5;241m=\u001b[39m\u001b[38;5;28mself\u001b[39m\u001b[38;5;241m.\u001b[39mquotechar,\n\u001b[1;32m    257\u001b[0m     )\n\u001b[1;32m    259\u001b[0m     \u001b[38;5;28mself\u001b[39m\u001b[38;5;241m.\u001b[39m_save()\n",
      "File \u001b[0;32m~/anaconda3/lib/python3.11/site-packages/pandas/io/common.py:737\u001b[0m, in \u001b[0;36mget_handle\u001b[0;34m(path_or_buf, mode, encoding, compression, memory_map, is_text, errors, storage_options)\u001b[0m\n\u001b[1;32m    735\u001b[0m \u001b[38;5;66;03m# Only for write methods\u001b[39;00m\n\u001b[1;32m    736\u001b[0m \u001b[38;5;28;01mif\u001b[39;00m \u001b[38;5;124m\"\u001b[39m\u001b[38;5;124mr\u001b[39m\u001b[38;5;124m\"\u001b[39m \u001b[38;5;129;01mnot\u001b[39;00m \u001b[38;5;129;01min\u001b[39;00m mode \u001b[38;5;129;01mand\u001b[39;00m is_path:\n\u001b[0;32m--> 737\u001b[0m     check_parent_directory(\u001b[38;5;28mstr\u001b[39m(handle))\n\u001b[1;32m    739\u001b[0m \u001b[38;5;28;01mif\u001b[39;00m compression:\n\u001b[1;32m    740\u001b[0m     \u001b[38;5;28;01mif\u001b[39;00m compression \u001b[38;5;241m!=\u001b[39m \u001b[38;5;124m\"\u001b[39m\u001b[38;5;124mzstd\u001b[39m\u001b[38;5;124m\"\u001b[39m:\n\u001b[1;32m    741\u001b[0m         \u001b[38;5;66;03m# compression libraries do not like an explicit text-mode\u001b[39;00m\n",
      "File \u001b[0;32m~/anaconda3/lib/python3.11/site-packages/pandas/io/common.py:600\u001b[0m, in \u001b[0;36mcheck_parent_directory\u001b[0;34m(path)\u001b[0m\n\u001b[1;32m    598\u001b[0m parent \u001b[38;5;241m=\u001b[39m Path(path)\u001b[38;5;241m.\u001b[39mparent\n\u001b[1;32m    599\u001b[0m \u001b[38;5;28;01mif\u001b[39;00m \u001b[38;5;129;01mnot\u001b[39;00m parent\u001b[38;5;241m.\u001b[39mis_dir():\n\u001b[0;32m--> 600\u001b[0m     \u001b[38;5;28;01mraise\u001b[39;00m \u001b[38;5;167;01mOSError\u001b[39;00m(\u001b[38;5;124mrf\u001b[39m\u001b[38;5;124m\"\u001b[39m\u001b[38;5;124mCannot save file into a non-existent directory: \u001b[39m\u001b[38;5;124m'\u001b[39m\u001b[38;5;132;01m{\u001b[39;00mparent\u001b[38;5;132;01m}\u001b[39;00m\u001b[38;5;124m'\u001b[39m\u001b[38;5;124m\"\u001b[39m)\n",
      "\u001b[0;31mOSError\u001b[0m: Cannot save file into a non-existent directory: '/path/to'"
     ]
    }
   ],
   "source": [
    "import pandas as pd\n",
    "\n",
    "file_path = '/Users/MinxuanLuo/Desktop/National Unit-data.csv'  \n",
    "df = pd.read_csv(file_path)\n",
    "\n",
    "df_filtered = df[(df['Metric'] == 'Incidence Rate') & (df['Value'].notnull())]\n",
    "\n",
    "df_filtered = df_filtered[df_filtered['Year'] == 2020]\n",
    "\n",
    "print(\"筛选后的数据预览：\")\n",
    "print(df_filtered.head())\n",
    "\n",
    "df_grouped = df_filtered.groupby(['ISO3', 'Name']).agg({'Value': 'mean'}).reset_index()\n",
    "\n",
    "print(\"\\n分组后的数据预览：\")\n",
    "print(df_grouped.head())\n",
    "\n",
    "df_grouped.to_csv('/path/to/filtered_malaria_data.csv', index=False)\n"
   ]
  },
  {
   "cell_type": "code",
   "execution_count": 15,
   "id": "ae0ee629",
   "metadata": {},
   "outputs": [
    {
     "name": "stdout",
     "output_type": "stream",
     "text": [
      "数据预览：\n",
      "  ISO3    Name Admin Level          Metric               Units  Year  \\\n",
      "0  AGO  Angola      admin0  Incidence Rate  Cases per Thousand  2010   \n",
      "1  AGO  Angola      admin0  Incidence Rate  Cases per Thousand  2011   \n",
      "2  AGO  Angola      admin0  Incidence Rate  Cases per Thousand  2012   \n",
      "3  AGO  Angola      admin0  Incidence Rate  Cases per Thousand  2013   \n",
      "4  AGO  Angola      admin0  Incidence Rate  Cases per Thousand  2014   \n",
      "\n",
      "        Value  \n",
      "0  170.528639  \n",
      "1  156.720342  \n",
      "2  153.045672  \n",
      "3  156.944737  \n",
      "4  164.041127  \n",
      "数据中包含的国家： 50\n",
      "国家列表： ['AGO' 'BDI' 'BEN' 'BFA' 'BWA' 'CAF' 'CIV' 'CMR' 'COD' 'COG' 'COM' 'CPV'\n",
      " 'DJI' 'DZA' 'ERI' 'ETH' 'GAB' 'GHA' 'GIN' 'GMB' 'GNB' 'GNQ' 'KEN' 'LBR'\n",
      " 'MAR' 'MDG' 'MLI' 'MOZ' 'MRT' 'MWI' 'MYT' 'NAM' 'NER' 'NGA' 'RWA' 'SDN'\n",
      " 'SEN' 'SLE' 'SOM' 'SSD' 'STP' 'SUR' 'SWZ' 'TCD' 'TGO' 'TZA' 'UGA' 'ZAF'\n",
      " 'ZMB' 'ZWE']\n"
     ]
    }
   ],
   "source": [
    "import pandas as pd\n",
    "\n",
    "file_path = '/Users/MinxuanLuo/Desktop/National Unit-data.csv'  \n",
    "df = pd.read_csv(file_path)\n",
    "\n",
    "print(\"数据预览：\")\n",
    "print(df.head())\n",
    "\n",
    "print(\"数据中包含的国家：\", df['ISO3'].nunique())\n",
    "print(\"国家列表：\", df['ISO3'].unique())\n"
   ]
  },
  {
   "cell_type": "code",
   "execution_count": 4,
   "id": "f464e032",
   "metadata": {},
   "outputs": [
    {
     "name": "stdout",
     "output_type": "stream",
     "text": [
      "Data Preview:\n",
      "  ISO3    Name Admin Level          Metric               Units  Year  \\\n",
      "0  AGO  Angola      admin0  Incidence Rate  Cases per Thousand  2010   \n",
      "1  AGO  Angola      admin0  Incidence Rate  Cases per Thousand  2011   \n",
      "2  AGO  Angola      admin0  Incidence Rate  Cases per Thousand  2012   \n",
      "3  AGO  Angola      admin0  Incidence Rate  Cases per Thousand  2013   \n",
      "4  AGO  Angola      admin0  Incidence Rate  Cases per Thousand  2014   \n",
      "\n",
      "        Value  \n",
      "0  170.528639  \n",
      "1  156.720342  \n",
      "2  153.045672  \n",
      "3  156.944737  \n",
      "4  164.041127  \n",
      "Number of countries included: 50\n",
      "List of countries: ['AGO' 'BDI' 'BEN' 'BFA' 'BWA' 'CAF' 'CIV' 'CMR' 'COD' 'COG' 'COM' 'CPV'\n",
      " 'DJI' 'DZA' 'ERI' 'ETH' 'GAB' 'GHA' 'GIN' 'GMB' 'GNB' 'GNQ' 'KEN' 'LBR'\n",
      " 'MAR' 'MDG' 'MLI' 'MOZ' 'MRT' 'MWI' 'MYT' 'NAM' 'NER' 'NGA' 'RWA' 'SDN'\n",
      " 'SEN' 'SLE' 'SOM' 'SSD' 'STP' 'SUR' 'SWZ' 'TCD' 'TGO' 'TZA' 'UGA' 'ZAF'\n",
      " 'ZMB' 'ZWE']\n"
     ]
    },
    {
     "data": {
      "application/vnd.plotly.v1+json": {
       "config": {
        "plotlyServerURL": "https://plot.ly"
       },
       "data": [
        {
         "coloraxis": "coloraxis",
         "customdata": [
          [
           170.528639164104
          ],
          [
           169.149489144511
          ],
          [
           414.681516736922
          ],
          [
           560.269703448359
          ],
          [
           2.47151091417165
          ],
          [
           409.631575763183
          ],
          [
           464.946223509612
          ],
          [
           297.17133414959403
          ],
          [
           385.374694902412
          ],
          [
           215.016956566321
          ],
          [
           206.65620461106295
          ],
          [
           0.340043029178498
          ],
          [
           2.83081732674666
          ],
          [
           1.09578186790296e-15
          ],
          [
           12.2054373314182
          ],
          [
           156.33955073072102
          ],
          [
           171.311491759761
          ],
          [
           369.45788097368
          ],
          [
           412.080600133526
          ],
          [
           287.561331144649
          ],
          [
           123.085928892066
          ],
          [
           287.322448812358
          ],
          [
           65.5828439728554
          ],
          [
           322.42163339547903
          ],
          [
           3.1896543834930503e-19
          ],
          [
           90.9954851063694
          ],
          [
           371.58024708897
          ],
          [
           370.821106787606
          ],
          [
           67.2833396109472
          ],
          [
           373.291328210963
          ],
          [
           0
          ],
          [
           1.89209792046845
          ],
          [
           345.84025477726397
          ],
          [
           373.054855943521
          ],
          [
           70.9923234470929
          ],
          [
           33.0444099351249
          ],
          [
           127.479818215246
          ],
          [
           446.50789162515497
          ],
          [
           41.281929009611
          ],
          [
           280.650905173661
          ],
          [
           29.9567407603664
          ],
          [
           2.79289176355178
          ],
          [
           1.88966610340674
          ],
          [
           239.438938309324
          ],
          [
           309.479099705331
          ],
          [
           145.969950636519
          ],
          [
           406.520001435192
          ],
          [
           0.532456588443035
          ],
          [
           165.32635102339
          ],
          [
           154.955133605989
          ]
         ],
         "geo": "geo",
         "hovertemplate": "<b>%{hovertext}</b><br><br>Year=2010<br>ISO3=%{location}<br>Value=%{z}<extra></extra>",
         "hovertext": [
          "Angola",
          "Burundi",
          "Benin",
          "Burkina Faso",
          "Botswana",
          "Central African Republic",
          "Côte d'Ivoire",
          "Cameroon",
          "Democratic Republic of the Congo",
          "Congo",
          "Comoros",
          "Cape Verde",
          "Djibouti",
          "Algeria",
          "Eritrea",
          "Ethiopia",
          "Gabon",
          "Ghana",
          "Guinea",
          "Gambia",
          "Guinea-Bissau",
          "Equatorial Guinea",
          "Kenya",
          "Liberia",
          "Morocco",
          "Madagascar",
          "Mali",
          "Mozambique",
          "Mauritania",
          "Malawi",
          "Mayotte",
          "Namibia",
          "Niger",
          "Nigeria",
          "Rwanda",
          "Sudan",
          "Senegal",
          "Sierra Leone",
          "Somalia",
          "South Sudan",
          "Sao Tome And Principe",
          "Suriname",
          "Eswatini",
          "Chad",
          "Togo",
          "Tanzania",
          "Uganda",
          "South Africa",
          "Zambia",
          "Zimbabwe"
         ],
         "locationmode": "ISO-3",
         "locations": [
          "AGO",
          "BDI",
          "BEN",
          "BFA",
          "BWA",
          "CAF",
          "CIV",
          "CMR",
          "COD",
          "COG",
          "COM",
          "CPV",
          "DJI",
          "DZA",
          "ERI",
          "ETH",
          "GAB",
          "GHA",
          "GIN",
          "GMB",
          "GNB",
          "GNQ",
          "KEN",
          "LBR",
          "MAR",
          "MDG",
          "MLI",
          "MOZ",
          "MRT",
          "MWI",
          "MYT",
          "NAM",
          "NER",
          "NGA",
          "RWA",
          "SDN",
          "SEN",
          "SLE",
          "SOM",
          "SSD",
          "STP",
          "SUR",
          "SWZ",
          "TCD",
          "TGO",
          "TZA",
          "UGA",
          "ZAF",
          "ZMB",
          "ZWE"
         ],
         "name": "",
         "type": "choropleth",
         "z": [
          170.528639164104,
          169.149489144511,
          414.681516736922,
          560.269703448359,
          2.47151091417165,
          409.631575763183,
          464.946223509612,
          297.17133414959403,
          385.374694902412,
          215.016956566321,
          206.65620461106295,
          0.340043029178498,
          2.83081732674666,
          1.09578186790296e-15,
          12.2054373314182,
          156.33955073072102,
          171.311491759761,
          369.45788097368,
          412.080600133526,
          287.561331144649,
          123.085928892066,
          287.322448812358,
          65.5828439728554,
          322.42163339547903,
          3.1896543834930503e-19,
          90.9954851063694,
          371.58024708897,
          370.821106787606,
          67.2833396109472,
          373.291328210963,
          0,
          1.89209792046845,
          345.84025477726397,
          373.054855943521,
          70.9923234470929,
          33.0444099351249,
          127.479818215246,
          446.50789162515497,
          41.281929009611,
          280.650905173661,
          29.9567407603664,
          2.79289176355178,
          1.88966610340674,
          239.438938309324,
          309.479099705331,
          145.969950636519,
          406.520001435192,
          0.532456588443035,
          165.32635102339,
          154.955133605989
         ]
        }
       ],
       "frames": [
        {
         "data": [
          {
           "coloraxis": "coloraxis",
           "customdata": [
            [
             170.528639164104
            ],
            [
             169.149489144511
            ],
            [
             414.681516736922
            ],
            [
             560.269703448359
            ],
            [
             2.47151091417165
            ],
            [
             409.631575763183
            ],
            [
             464.946223509612
            ],
            [
             297.17133414959403
            ],
            [
             385.374694902412
            ],
            [
             215.016956566321
            ],
            [
             206.65620461106295
            ],
            [
             0.340043029178498
            ],
            [
             2.83081732674666
            ],
            [
             1.09578186790296e-15
            ],
            [
             12.2054373314182
            ],
            [
             156.33955073072102
            ],
            [
             171.311491759761
            ],
            [
             369.45788097368
            ],
            [
             412.080600133526
            ],
            [
             287.561331144649
            ],
            [
             123.085928892066
            ],
            [
             287.322448812358
            ],
            [
             65.5828439728554
            ],
            [
             322.42163339547903
            ],
            [
             3.1896543834930503e-19
            ],
            [
             90.9954851063694
            ],
            [
             371.58024708897
            ],
            [
             370.821106787606
            ],
            [
             67.2833396109472
            ],
            [
             373.291328210963
            ],
            [
             0
            ],
            [
             1.89209792046845
            ],
            [
             345.84025477726397
            ],
            [
             373.054855943521
            ],
            [
             70.9923234470929
            ],
            [
             33.0444099351249
            ],
            [
             127.479818215246
            ],
            [
             446.50789162515497
            ],
            [
             41.281929009611
            ],
            [
             280.650905173661
            ],
            [
             29.9567407603664
            ],
            [
             2.79289176355178
            ],
            [
             1.88966610340674
            ],
            [
             239.438938309324
            ],
            [
             309.479099705331
            ],
            [
             145.969950636519
            ],
            [
             406.520001435192
            ],
            [
             0.532456588443035
            ],
            [
             165.32635102339
            ],
            [
             154.955133605989
            ]
           ],
           "geo": "geo",
           "hovertemplate": "<b>%{hovertext}</b><br><br>Year=2010<br>ISO3=%{location}<br>Value=%{z}<extra></extra>",
           "hovertext": [
            "Angola",
            "Burundi",
            "Benin",
            "Burkina Faso",
            "Botswana",
            "Central African Republic",
            "Côte d'Ivoire",
            "Cameroon",
            "Democratic Republic of the Congo",
            "Congo",
            "Comoros",
            "Cape Verde",
            "Djibouti",
            "Algeria",
            "Eritrea",
            "Ethiopia",
            "Gabon",
            "Ghana",
            "Guinea",
            "Gambia",
            "Guinea-Bissau",
            "Equatorial Guinea",
            "Kenya",
            "Liberia",
            "Morocco",
            "Madagascar",
            "Mali",
            "Mozambique",
            "Mauritania",
            "Malawi",
            "Mayotte",
            "Namibia",
            "Niger",
            "Nigeria",
            "Rwanda",
            "Sudan",
            "Senegal",
            "Sierra Leone",
            "Somalia",
            "South Sudan",
            "Sao Tome And Principe",
            "Suriname",
            "Eswatini",
            "Chad",
            "Togo",
            "Tanzania",
            "Uganda",
            "South Africa",
            "Zambia",
            "Zimbabwe"
           ],
           "locationmode": "ISO-3",
           "locations": [
            "AGO",
            "BDI",
            "BEN",
            "BFA",
            "BWA",
            "CAF",
            "CIV",
            "CMR",
            "COD",
            "COG",
            "COM",
            "CPV",
            "DJI",
            "DZA",
            "ERI",
            "ETH",
            "GAB",
            "GHA",
            "GIN",
            "GMB",
            "GNB",
            "GNQ",
            "KEN",
            "LBR",
            "MAR",
            "MDG",
            "MLI",
            "MOZ",
            "MRT",
            "MWI",
            "MYT",
            "NAM",
            "NER",
            "NGA",
            "RWA",
            "SDN",
            "SEN",
            "SLE",
            "SOM",
            "SSD",
            "STP",
            "SUR",
            "SWZ",
            "TCD",
            "TGO",
            "TZA",
            "UGA",
            "ZAF",
            "ZMB",
            "ZWE"
           ],
           "name": "",
           "type": "choropleth",
           "z": [
            170.528639164104,
            169.149489144511,
            414.681516736922,
            560.269703448359,
            2.47151091417165,
            409.631575763183,
            464.946223509612,
            297.17133414959403,
            385.374694902412,
            215.016956566321,
            206.65620461106295,
            0.340043029178498,
            2.83081732674666,
            1.09578186790296e-15,
            12.2054373314182,
            156.33955073072102,
            171.311491759761,
            369.45788097368,
            412.080600133526,
            287.561331144649,
            123.085928892066,
            287.322448812358,
            65.5828439728554,
            322.42163339547903,
            3.1896543834930503e-19,
            90.9954851063694,
            371.58024708897,
            370.821106787606,
            67.2833396109472,
            373.291328210963,
            0,
            1.89209792046845,
            345.84025477726397,
            373.054855943521,
            70.9923234470929,
            33.0444099351249,
            127.479818215246,
            446.50789162515497,
            41.281929009611,
            280.650905173661,
            29.9567407603664,
            2.79289176355178,
            1.88966610340674,
            239.438938309324,
            309.479099705331,
            145.969950636519,
            406.520001435192,
            0.532456588443035,
            165.32635102339,
            154.955133605989
           ]
          }
         ],
         "name": "2010"
        },
        {
         "data": [
          {
           "coloraxis": "coloraxis",
           "customdata": [
            [
             156.72034170101702
            ],
            [
             163.574248874801
            ],
            [
             382.572767760647
            ],
            [
             542.1844197948529
            ],
            [
             0.7990053317174399
            ],
            [
             397.7336108565139
            ],
            [
             461.457696456553
            ],
            [
             265.68538154254003
            ],
            [
             361.858198491598
            ],
            [
             215.361140123327
            ],
            [
             163.87066245078998
            ],
            [
             0.0495311353078
            ],
            [
             0.101790286295816
            ],
            [
             5.882888182455132e-16
            ],
            [
             15.848603205628
            ],
            [
             126.374475924687
            ],
            [
             188.815128083613
            ],
            [
             374.540135912533
            ],
            [
             425.81506059316297
            ],
            [
             460.664946029491
            ],
            [
             127.448571415357
            ],
            [
             287.962583038255
            ],
            [
             67.34675215348999
            ],
            [
             307.93069648301304
            ],
            [
             1.6265747923426902e-19
            ],
            [
             83.89496989314469
            ],
            [
             392.618441498426
            ],
            [
             368.428853939031
            ],
            [
             90.3561782347168
            ],
            [
             363.35440064970896
            ],
            [
             0
            ],
            [
             2.40716095463497
            ],
            [
             348.223224818599
            ],
            [
             347.46896802892604
            ],
            [
             71.0298903428755
            ],
            [
             32.5298140373659
            ],
            [
             103.595263123432
            ],
            [
             436.345713457722
            ],
            [
             33.8084326056559
            ],
            [
             286.802270730113
            ],
            [
             76.324084711701
            ],
            [
             1.39724231600726
            ],
            [
             1.43547456143898
            ],
            [
             224.097014606663
            ],
            [
             301.93841953135296
            ],
            [
             132.38259532439102
            ],
            [
             384.840089163899
            ],
            [
             0.6880308193269661
            ],
            [
             175.759593436511
            ],
            [
             107.424674154693
            ]
           ],
           "geo": "geo",
           "hovertemplate": "<b>%{hovertext}</b><br><br>Year=2011<br>ISO3=%{location}<br>Value=%{z}<extra></extra>",
           "hovertext": [
            "Angola",
            "Burundi",
            "Benin",
            "Burkina Faso",
            "Botswana",
            "Central African Republic",
            "Côte d'Ivoire",
            "Cameroon",
            "Democratic Republic of the Congo",
            "Congo",
            "Comoros",
            "Cape Verde",
            "Djibouti",
            "Algeria",
            "Eritrea",
            "Ethiopia",
            "Gabon",
            "Ghana",
            "Guinea",
            "Gambia",
            "Guinea-Bissau",
            "Equatorial Guinea",
            "Kenya",
            "Liberia",
            "Morocco",
            "Madagascar",
            "Mali",
            "Mozambique",
            "Mauritania",
            "Malawi",
            "Mayotte",
            "Namibia",
            "Niger",
            "Nigeria",
            "Rwanda",
            "Sudan",
            "Senegal",
            "Sierra Leone",
            "Somalia",
            "South Sudan",
            "Sao Tome And Principe",
            "Suriname",
            "Eswatini",
            "Chad",
            "Togo",
            "Tanzania",
            "Uganda",
            "South Africa",
            "Zambia",
            "Zimbabwe"
           ],
           "locationmode": "ISO-3",
           "locations": [
            "AGO",
            "BDI",
            "BEN",
            "BFA",
            "BWA",
            "CAF",
            "CIV",
            "CMR",
            "COD",
            "COG",
            "COM",
            "CPV",
            "DJI",
            "DZA",
            "ERI",
            "ETH",
            "GAB",
            "GHA",
            "GIN",
            "GMB",
            "GNB",
            "GNQ",
            "KEN",
            "LBR",
            "MAR",
            "MDG",
            "MLI",
            "MOZ",
            "MRT",
            "MWI",
            "MYT",
            "NAM",
            "NER",
            "NGA",
            "RWA",
            "SDN",
            "SEN",
            "SLE",
            "SOM",
            "SSD",
            "STP",
            "SUR",
            "SWZ",
            "TCD",
            "TGO",
            "TZA",
            "UGA",
            "ZAF",
            "ZMB",
            "ZWE"
           ],
           "name": "",
           "type": "choropleth",
           "z": [
            156.72034170101702,
            163.574248874801,
            382.572767760647,
            542.1844197948529,
            0.7990053317174399,
            397.7336108565139,
            461.457696456553,
            265.68538154254003,
            361.858198491598,
            215.361140123327,
            163.87066245078998,
            0.0495311353078,
            0.101790286295816,
            5.882888182455132e-16,
            15.848603205628,
            126.374475924687,
            188.815128083613,
            374.540135912533,
            425.81506059316297,
            460.664946029491,
            127.448571415357,
            287.962583038255,
            67.34675215348999,
            307.93069648301304,
            1.6265747923426902e-19,
            83.89496989314469,
            392.618441498426,
            368.428853939031,
            90.3561782347168,
            363.35440064970896,
            0,
            2.40716095463497,
            348.223224818599,
            347.46896802892604,
            71.0298903428755,
            32.5298140373659,
            103.595263123432,
            436.345713457722,
            33.8084326056559,
            286.802270730113,
            76.324084711701,
            1.39724231600726,
            1.43547456143898,
            224.097014606663,
            301.93841953135296,
            132.38259532439102,
            384.840089163899,
            0.6880308193269661,
            175.759593436511,
            107.424674154693
           ]
          }
         ],
         "name": "2011"
        },
        {
         "data": [
          {
           "coloraxis": "coloraxis",
           "customdata": [
            [
             153.04567217423502
            ],
            [
             163.633904717758
            ],
            [
             364.706090661041
            ],
            [
             519.798730580462
            ],
            [
             0.349755658260848
            ],
            [
             387.107888499934
            ],
            [
             374.609564158203
            ],
            [
             255.65941907533
            ],
            [
             334.43195122209903
            ],
            [
             215.484817527018
            ],
            [
             197.864746302366
            ],
            [
             0.0062385693400906
            ],
            [
             0.059569192805281
            ],
            [
             0.00071578554298
            ],
            [
             9.0237890802126
            ],
            [
             144.052013354405
            ],
            [
             196.492171741729
            ],
            [
             363.40538875939
            ],
            [
             429.405159002899
            ],
            [
             493.89250822534495
            ],
            [
             124.297307205905
            ],
            [
             307.691400584711
            ],
            [
             69.83200028131931
            ],
            [
             292.654211231316
            ],
            [
             2.02472208010982e-07
            ],
            [
             86.0171933381911
            ],
            [
             426.170890583854
            ],
            [
             367.9085792087
            ],
            [
             49.9796709613274
            ],
            [
             318.506794094302
            ],
            [
             0
            ],
            [
             0.352094790400672
            ],
            [
             345.575343989818
            ],
            [
             325.991392813646
            ],
            [
             60.7960026080368
            ],
            [
             32.818014903158605
            ],
            [
             116.339205897921
            ],
            [
             426.006570720831
            ],
            [
             34.2662059193741
            ],
            [
             282.96763777587205
            ],
            [
             113.134287596695
            ],
            [
             1.01705680902764
            ],
            [
             1.34175528045476
            ],
            [
             212.52773785629304
            ],
            [
             330.128225085301
            ],
            [
             120.971810606374
            ],
            [
             356.31248814835396
            ],
            [
             0.514763185578388
            ],
            [
             195.538535333912
            ],
            [
             93.5468401606945
            ]
           ],
           "geo": "geo",
           "hovertemplate": "<b>%{hovertext}</b><br><br>Year=2012<br>ISO3=%{location}<br>Value=%{z}<extra></extra>",
           "hovertext": [
            "Angola",
            "Burundi",
            "Benin",
            "Burkina Faso",
            "Botswana",
            "Central African Republic",
            "Côte d'Ivoire",
            "Cameroon",
            "Democratic Republic of the Congo",
            "Congo",
            "Comoros",
            "Cape Verde",
            "Djibouti",
            "Algeria",
            "Eritrea",
            "Ethiopia",
            "Gabon",
            "Ghana",
            "Guinea",
            "Gambia",
            "Guinea-Bissau",
            "Equatorial Guinea",
            "Kenya",
            "Liberia",
            "Morocco",
            "Madagascar",
            "Mali",
            "Mozambique",
            "Mauritania",
            "Malawi",
            "Mayotte",
            "Namibia",
            "Niger",
            "Nigeria",
            "Rwanda",
            "Sudan",
            "Senegal",
            "Sierra Leone",
            "Somalia",
            "South Sudan",
            "Sao Tome And Principe",
            "Suriname",
            "Eswatini",
            "Chad",
            "Togo",
            "Tanzania",
            "Uganda",
            "South Africa",
            "Zambia",
            "Zimbabwe"
           ],
           "locationmode": "ISO-3",
           "locations": [
            "AGO",
            "BDI",
            "BEN",
            "BFA",
            "BWA",
            "CAF",
            "CIV",
            "CMR",
            "COD",
            "COG",
            "COM",
            "CPV",
            "DJI",
            "DZA",
            "ERI",
            "ETH",
            "GAB",
            "GHA",
            "GIN",
            "GMB",
            "GNB",
            "GNQ",
            "KEN",
            "LBR",
            "MAR",
            "MDG",
            "MLI",
            "MOZ",
            "MRT",
            "MWI",
            "MYT",
            "NAM",
            "NER",
            "NGA",
            "RWA",
            "SDN",
            "SEN",
            "SLE",
            "SOM",
            "SSD",
            "STP",
            "SUR",
            "SWZ",
            "TCD",
            "TGO",
            "TZA",
            "UGA",
            "ZAF",
            "ZMB",
            "ZWE"
           ],
           "name": "",
           "type": "choropleth",
           "z": [
            153.04567217423502,
            163.633904717758,
            364.706090661041,
            519.798730580462,
            0.349755658260848,
            387.107888499934,
            374.609564158203,
            255.65941907533,
            334.43195122209903,
            215.484817527018,
            197.864746302366,
            0.0062385693400906,
            0.059569192805281,
            0.00071578554298,
            9.0237890802126,
            144.052013354405,
            196.492171741729,
            363.40538875939,
            429.405159002899,
            493.89250822534495,
            124.297307205905,
            307.691400584711,
            69.83200028131931,
            292.654211231316,
            2.02472208010982e-07,
            86.0171933381911,
            426.170890583854,
            367.9085792087,
            49.9796709613274,
            318.506794094302,
            0,
            0.352094790400672,
            345.575343989818,
            325.991392813646,
            60.7960026080368,
            32.818014903158605,
            116.339205897921,
            426.006570720831,
            34.2662059193741,
            282.96763777587205,
            113.134287596695,
            1.01705680902764,
            1.34175528045476,
            212.52773785629304,
            330.128225085301,
            120.971810606374,
            356.31248814835396,
            0.514763185578388,
            195.538535333912,
            93.5468401606945
           ]
          }
         ],
         "name": "2012"
        },
        {
         "data": [
          {
           "coloraxis": "coloraxis",
           "customdata": [
            [
             156.94473700890498
            ],
            [
             171.55797045189598
            ],
            [
             360.63093231659
            ],
            [
             480.391706739056
            ],
            [
             0.821467476387445
            ],
            [
             378.85822571925297
            ],
            [
             287.646833002764
            ],
            [
             263.610525564356
            ],
            [
             308.01562061772705
            ],
            [
             216.139893972278
            ],
            [
             182.844682335854
            ],
            [
             0.1138410775861119
            ],
            [
             3.26747823614565
            ],
            [
             7.493604421426669e-16
            ],
            [
             6.17233665223083
            ],
            [
             160.67713652332398
            ],
            [
             202.177577430629
            ],
            [
             339.038176914299
            ],
            [
             411.172595414993
            ],
            [
             425.27210274606296
            ],
            [
             118.729331427563
            ],
            [
             327.519670822632
            ],
            [
             70.6096911715774
            ],
            [
             294.785707573179
            ],
            [
             2.0385384864995501e-19
            ],
            [
             93.6756235846658
            ],
            [
             441.468524118792
            ],
            [
             366.15232059797296
            ],
            [
             58.993712693539905
            ],
            [
             283.77258983582897
            ],
            [
             0
            ],
            [
             5.9460446840520005
            ],
            [
             343.445515764807
            ],
            [
             307.39465865779
            ],
            [
             50.6086436482328
            ],
            [
             34.414893875183
            ],
            [
             95.9379247927703
            ],
            [
             409.526517159629
            ],
            [
             40.2111488515686
            ],
            [
             279.47195388234803
            ],
            [
             91.1507259349595
            ],
            [
             0.970861371483538
            ],
            [
             3.12366798058088
            ],
            [
             207.125669168827
            ],
            [
             361.908040054153
            ],
            [
             131.070120437154
            ],
            [
             315.692145971929
            ],
            [
             0.938991628068556
            ],
            [
             223.455314468961
            ],
            [
             134.115684137192
            ]
           ],
           "geo": "geo",
           "hovertemplate": "<b>%{hovertext}</b><br><br>Year=2013<br>ISO3=%{location}<br>Value=%{z}<extra></extra>",
           "hovertext": [
            "Angola",
            "Burundi",
            "Benin",
            "Burkina Faso",
            "Botswana",
            "Central African Republic",
            "Côte d'Ivoire",
            "Cameroon",
            "Democratic Republic of the Congo",
            "Congo",
            "Comoros",
            "Cape Verde",
            "Djibouti",
            "Algeria",
            "Eritrea",
            "Ethiopia",
            "Gabon",
            "Ghana",
            "Guinea",
            "Gambia",
            "Guinea-Bissau",
            "Equatorial Guinea",
            "Kenya",
            "Liberia",
            "Morocco",
            "Madagascar",
            "Mali",
            "Mozambique",
            "Mauritania",
            "Malawi",
            "Mayotte",
            "Namibia",
            "Niger",
            "Nigeria",
            "Rwanda",
            "Sudan",
            "Senegal",
            "Sierra Leone",
            "Somalia",
            "South Sudan",
            "Sao Tome And Principe",
            "Suriname",
            "Eswatini",
            "Chad",
            "Togo",
            "Tanzania",
            "Uganda",
            "South Africa",
            "Zambia",
            "Zimbabwe"
           ],
           "locationmode": "ISO-3",
           "locations": [
            "AGO",
            "BDI",
            "BEN",
            "BFA",
            "BWA",
            "CAF",
            "CIV",
            "CMR",
            "COD",
            "COG",
            "COM",
            "CPV",
            "DJI",
            "DZA",
            "ERI",
            "ETH",
            "GAB",
            "GHA",
            "GIN",
            "GMB",
            "GNB",
            "GNQ",
            "KEN",
            "LBR",
            "MAR",
            "MDG",
            "MLI",
            "MOZ",
            "MRT",
            "MWI",
            "MYT",
            "NAM",
            "NER",
            "NGA",
            "RWA",
            "SDN",
            "SEN",
            "SLE",
            "SOM",
            "SSD",
            "STP",
            "SUR",
            "SWZ",
            "TCD",
            "TGO",
            "TZA",
            "UGA",
            "ZAF",
            "ZMB",
            "ZWE"
           ],
           "name": "",
           "type": "choropleth",
           "z": [
            156.94473700890498,
            171.55797045189598,
            360.63093231659,
            480.391706739056,
            0.821467476387445,
            378.85822571925297,
            287.646833002764,
            263.610525564356,
            308.01562061772705,
            216.139893972278,
            182.844682335854,
            0.1138410775861119,
            3.26747823614565,
            7.493604421426669e-16,
            6.17233665223083,
            160.67713652332398,
            202.177577430629,
            339.038176914299,
            411.172595414993,
            425.27210274606296,
            118.729331427563,
            327.519670822632,
            70.6096911715774,
            294.785707573179,
            2.0385384864995501e-19,
            93.6756235846658,
            441.468524118792,
            366.15232059797296,
            58.993712693539905,
            283.77258983582897,
            0,
            5.9460446840520005,
            343.445515764807,
            307.39465865779,
            50.6086436482328,
            34.414893875183,
            95.9379247927703,
            409.526517159629,
            40.2111488515686,
            279.47195388234803,
            91.1507259349595,
            0.970861371483538,
            3.12366798058088,
            207.125669168827,
            361.908040054153,
            131.070120437154,
            315.692145971929,
            0.938991628068556,
            223.455314468961,
            134.115684137192
           ]
          }
         ],
         "name": "2013"
        },
        {
         "data": [
          {
           "coloraxis": "coloraxis",
           "customdata": [
            [
             164.041126850167
            ],
            [
             179.15183743350897
            ],
            [
             366.868776221183
            ],
            [
             443.061107329034
            ],
            [
             2.24373983725935
            ],
            [
             370.774860306137
            ],
            [
             257.982830282941
            ],
            [
             265.31368267979997
            ],
            [
             295.041358887949
            ],
            [
             209.930082030757
            ],
            [
             8.19382187910378
            ],
            [
             0.134457066869397
            ],
            [
             27.1872675301902
            ],
            [
             0
            ],
            [
             15.5814795738565
            ],
            [
             80.03925746568571
            ],
            [
             198.712870916796
            ],
            [
             307.699715680932
            ],
            [
             394.418576447097
            ],
            [
             264.885296937599
            ],
            [
             104.258686938464
            ],
            [
             327.504434174677
            ],
            [
             70.6208442633442
            ],
            [
             315.466340197903
            ],
            [
             0
            ],
            [
             97.0713945170247
            ],
            [
             416.843522477759
            ],
            [
             356.843092522643
            ],
            [
             109.663777562309
            ],
            [
             256.800970046616
            ],
            [
             0
            ],
            [
             19.5380409358638
            ],
            [
             338.902715989026
            ],
            [
             297.422350307639
            ],
            [
             47.7344785127407
            ],
            [
             38.099843360382195
            ],
            [
             60.3195725239488
            ],
            [
             391.224460783308
            ],
            [
             46.4545961880848
            ],
            [
             271.094142234081
            ],
            [
             17.1586968819652
            ],
            [
             0.9286038602651768
            ],
            [
             1.2760386957918
            ],
            [
             210.983040022702
            ],
            [
             364.323849288265
            ],
            [
             144.85170506723998
            ],
            [
             293.306680431279
            ],
            [
             0.97295687787822
            ],
            [
             228.647596957489
            ],
            [
             165.458028872301
            ]
           ],
           "geo": "geo",
           "hovertemplate": "<b>%{hovertext}</b><br><br>Year=2014<br>ISO3=%{location}<br>Value=%{z}<extra></extra>",
           "hovertext": [
            "Angola",
            "Burundi",
            "Benin",
            "Burkina Faso",
            "Botswana",
            "Central African Republic",
            "Côte d'Ivoire",
            "Cameroon",
            "Democratic Republic of the Congo",
            "Congo",
            "Comoros",
            "Cape Verde",
            "Djibouti",
            "Algeria",
            "Eritrea",
            "Ethiopia",
            "Gabon",
            "Ghana",
            "Guinea",
            "Gambia",
            "Guinea-Bissau",
            "Equatorial Guinea",
            "Kenya",
            "Liberia",
            "Morocco",
            "Madagascar",
            "Mali",
            "Mozambique",
            "Mauritania",
            "Malawi",
            "Mayotte",
            "Namibia",
            "Niger",
            "Nigeria",
            "Rwanda",
            "Sudan",
            "Senegal",
            "Sierra Leone",
            "Somalia",
            "South Sudan",
            "Sao Tome And Principe",
            "Suriname",
            "Eswatini",
            "Chad",
            "Togo",
            "Tanzania",
            "Uganda",
            "South Africa",
            "Zambia",
            "Zimbabwe"
           ],
           "locationmode": "ISO-3",
           "locations": [
            "AGO",
            "BDI",
            "BEN",
            "BFA",
            "BWA",
            "CAF",
            "CIV",
            "CMR",
            "COD",
            "COG",
            "COM",
            "CPV",
            "DJI",
            "DZA",
            "ERI",
            "ETH",
            "GAB",
            "GHA",
            "GIN",
            "GMB",
            "GNB",
            "GNQ",
            "KEN",
            "LBR",
            "MAR",
            "MDG",
            "MLI",
            "MOZ",
            "MRT",
            "MWI",
            "MYT",
            "NAM",
            "NER",
            "NGA",
            "RWA",
            "SDN",
            "SEN",
            "SLE",
            "SOM",
            "SSD",
            "STP",
            "SUR",
            "SWZ",
            "TCD",
            "TGO",
            "TZA",
            "UGA",
            "ZAF",
            "ZMB",
            "ZWE"
           ],
           "name": "",
           "type": "choropleth",
           "z": [
            164.041126850167,
            179.15183743350897,
            366.868776221183,
            443.061107329034,
            2.24373983725935,
            370.774860306137,
            257.982830282941,
            265.31368267979997,
            295.041358887949,
            209.930082030757,
            8.19382187910378,
            0.134457066869397,
            27.1872675301902,
            0,
            15.5814795738565,
            80.03925746568571,
            198.712870916796,
            307.699715680932,
            394.418576447097,
            264.885296937599,
            104.258686938464,
            327.504434174677,
            70.6208442633442,
            315.466340197903,
            0,
            97.0713945170247,
            416.843522477759,
            356.843092522643,
            109.663777562309,
            256.800970046616,
            0,
            19.5380409358638,
            338.902715989026,
            297.422350307639,
            47.7344785127407,
            38.099843360382195,
            60.3195725239488,
            391.224460783308,
            46.4545961880848,
            271.094142234081,
            17.1586968819652,
            0.9286038602651768,
            1.2760386957918,
            210.983040022702,
            364.323849288265,
            144.85170506723998,
            293.306680431279,
            0.97295687787822,
            228.647596957489,
            165.458028872301
           ]
          }
         ],
         "name": "2014"
        },
        {
         "data": [
          {
           "coloraxis": "coloraxis",
           "customdata": [
            [
             174.499634385672
            ],
            [
             198.506747818672
            ],
            [
             391.2965551156579
            ],
            [
             409.480707564792
            ],
            [
             0.543892886374424
            ],
            [
             353.921407113811
            ],
            [
             243.936970718339
            ],
            [
             264.29215088686396
            ],
            [
             298.88812794283797
            ],
            [
             207.709416054907
            ],
            [
             6.72491970937699
            ],
            [
             0.0347894031151822
            ],
            [
             25.7952344599366
            ],
            [
             0
            ],
            [
             9.52612006952165
            ],
            [
             81.57116211161241
            ],
            [
             188.801070665618
            ],
            [
             270.710682442238
            ],
            [
             383.313115649396
            ],
            [
             346.03437385159805
            ],
            [
             89.2416502940882
            ],
            [
             325.620635323496
            ],
            [
             69.2078830826312
            ],
            [
             325.035060203373
            ],
            [
             0
            ],
            [
             92.7432408390509
            ],
            [
             345.426415538792
            ],
            [
             345.879425071762
            ],
            [
             129.825966863465
            ],
            [
             236.735970433368
            ],
            [
             0
            ],
            [
             10.9319057292935
            ],
            [
             326.983624345993
            ],
            [
             290.800354723328
            ],
            [
             50.157231822296296
            ],
            [
             41.6939365927263
            ],
            [
             95.6820733877915
            ],
            [
             377.602907824589
            ],
            [
             55.049482285972
            ],
            [
             266.709433444667
            ],
            [
             17.5575233150213
            ],
            [
             0.0906140534071283
            ],
            [
             1.0107593143216
            ],
            [
             210.545493212078
            ],
            [
             350.66219073691303
            ],
            [
             141.57952785263998
            ],
            [
             264.44539885578797
            ],
            [
             0.3728273552304589
            ],
            [
             214.54611336836
            ],
            [
             150.47711732516
            ]
           ],
           "geo": "geo",
           "hovertemplate": "<b>%{hovertext}</b><br><br>Year=2015<br>ISO3=%{location}<br>Value=%{z}<extra></extra>",
           "hovertext": [
            "Angola",
            "Burundi",
            "Benin",
            "Burkina Faso",
            "Botswana",
            "Central African Republic",
            "Côte d'Ivoire",
            "Cameroon",
            "Democratic Republic of the Congo",
            "Congo",
            "Comoros",
            "Cape Verde",
            "Djibouti",
            "Algeria",
            "Eritrea",
            "Ethiopia",
            "Gabon",
            "Ghana",
            "Guinea",
            "Gambia",
            "Guinea-Bissau",
            "Equatorial Guinea",
            "Kenya",
            "Liberia",
            "Morocco",
            "Madagascar",
            "Mali",
            "Mozambique",
            "Mauritania",
            "Malawi",
            "Mayotte",
            "Namibia",
            "Niger",
            "Nigeria",
            "Rwanda",
            "Sudan",
            "Senegal",
            "Sierra Leone",
            "Somalia",
            "South Sudan",
            "Sao Tome And Principe",
            "Suriname",
            "Eswatini",
            "Chad",
            "Togo",
            "Tanzania",
            "Uganda",
            "South Africa",
            "Zambia",
            "Zimbabwe"
           ],
           "locationmode": "ISO-3",
           "locations": [
            "AGO",
            "BDI",
            "BEN",
            "BFA",
            "BWA",
            "CAF",
            "CIV",
            "CMR",
            "COD",
            "COG",
            "COM",
            "CPV",
            "DJI",
            "DZA",
            "ERI",
            "ETH",
            "GAB",
            "GHA",
            "GIN",
            "GMB",
            "GNB",
            "GNQ",
            "KEN",
            "LBR",
            "MAR",
            "MDG",
            "MLI",
            "MOZ",
            "MRT",
            "MWI",
            "MYT",
            "NAM",
            "NER",
            "NGA",
            "RWA",
            "SDN",
            "SEN",
            "SLE",
            "SOM",
            "SSD",
            "STP",
            "SUR",
            "SWZ",
            "TCD",
            "TGO",
            "TZA",
            "UGA",
            "ZAF",
            "ZMB",
            "ZWE"
           ],
           "name": "",
           "type": "choropleth",
           "z": [
            174.499634385672,
            198.506747818672,
            391.2965551156579,
            409.480707564792,
            0.543892886374424,
            353.921407113811,
            243.936970718339,
            264.29215088686396,
            298.88812794283797,
            207.709416054907,
            6.72491970937699,
            0.0347894031151822,
            25.7952344599366,
            0,
            9.52612006952165,
            81.57116211161241,
            188.801070665618,
            270.710682442238,
            383.313115649396,
            346.03437385159805,
            89.2416502940882,
            325.620635323496,
            69.2078830826312,
            325.035060203373,
            0,
            92.7432408390509,
            345.426415538792,
            345.879425071762,
            129.825966863465,
            236.735970433368,
            0,
            10.9319057292935,
            326.983624345993,
            290.800354723328,
            50.157231822296296,
            41.6939365927263,
            95.6820733877915,
            377.602907824589,
            55.049482285972,
            266.709433444667,
            17.5575233150213,
            0.0906140534071283,
            1.0107593143216,
            210.545493212078,
            350.66219073691303,
            141.57952785263998,
            264.44539885578797,
            0.3728273552304589,
            214.54611336836,
            150.47711732516
           ]
          }
         ],
         "name": "2015"
        },
        {
         "data": [
          {
           "coloraxis": "coloraxis",
           "customdata": [
            [
             187.862720380855
            ],
            [
             232.337151949804
            ],
            [
             420.480955396724
            ],
            [
             360.895944792002
            ],
            [
             1.31246641292217
            ],
            [
             340.286460287459
            ],
            [
             245.141906908453
            ],
            [
             261.50579814961003
            ],
            [
             305.811203941089
            ],
            [
             214.297586334843
            ],
            [
             5.14013942331076
            ],
            [
             0.2456624444711949
            ],
            [
             33.6637214476239
            ],
            [
             0
            ],
            [
             13.5647916112603
            ],
            [
             63.5021451184246
            ],
            [
             183.679823339277
            ],
            [
             229.473488633415
            ],
            [
             366.388447993376
            ],
            [
             204.354120377427
            ],
            [
             74.4563802380115
            ],
            [
             306.561331891049
            ],
            [
             64.9370949856526
            ],
            [
             349.186960858158
            ],
            [
             0
            ],
            [
             89.8577852756908
            ],
            [
             265.641677840743
            ],
            [
             337.15078955641496
            ],
            [
             161.78450063601
            ],
            [
             221.601504957562
            ],
            [
             0
            ],
            [
             23.930897690705105
            ],
            [
             308.158594135885
            ],
            [
             284.264403200465
            ],
            [
             56.7417665401405
            ],
            [
             50.6266037719502
            ],
            [
             63.67695640314471
            ],
            [
             373.463927038922
            ],
            [
             54.6723148576583
            ],
            [
             258.66340925180197
            ],
            [
             18.9156216313445
            ],
            [
             0.0208405081529078
            ],
            [
             0.8164403613859801
            ],
            [
             209.92911063748
            ],
            [
             318.492118497184
            ],
            [
             134.75201104051098
            ],
            [
             276.50560971359
            ],
            [
             0.441627319281366
            ],
            [
             200.090745488371
            ],
            [
             110.836149247623
            ]
           ],
           "geo": "geo",
           "hovertemplate": "<b>%{hovertext}</b><br><br>Year=2016<br>ISO3=%{location}<br>Value=%{z}<extra></extra>",
           "hovertext": [
            "Angola",
            "Burundi",
            "Benin",
            "Burkina Faso",
            "Botswana",
            "Central African Republic",
            "Côte d'Ivoire",
            "Cameroon",
            "Democratic Republic of the Congo",
            "Congo",
            "Comoros",
            "Cape Verde",
            "Djibouti",
            "Algeria",
            "Eritrea",
            "Ethiopia",
            "Gabon",
            "Ghana",
            "Guinea",
            "Gambia",
            "Guinea-Bissau",
            "Equatorial Guinea",
            "Kenya",
            "Liberia",
            "Morocco",
            "Madagascar",
            "Mali",
            "Mozambique",
            "Mauritania",
            "Malawi",
            "Mayotte",
            "Namibia",
            "Niger",
            "Nigeria",
            "Rwanda",
            "Sudan",
            "Senegal",
            "Sierra Leone",
            "Somalia",
            "South Sudan",
            "Sao Tome And Principe",
            "Suriname",
            "Eswatini",
            "Chad",
            "Togo",
            "Tanzania",
            "Uganda",
            "South Africa",
            "Zambia",
            "Zimbabwe"
           ],
           "locationmode": "ISO-3",
           "locations": [
            "AGO",
            "BDI",
            "BEN",
            "BFA",
            "BWA",
            "CAF",
            "CIV",
            "CMR",
            "COD",
            "COG",
            "COM",
            "CPV",
            "DJI",
            "DZA",
            "ERI",
            "ETH",
            "GAB",
            "GHA",
            "GIN",
            "GMB",
            "GNB",
            "GNQ",
            "KEN",
            "LBR",
            "MAR",
            "MDG",
            "MLI",
            "MOZ",
            "MRT",
            "MWI",
            "MYT",
            "NAM",
            "NER",
            "NGA",
            "RWA",
            "SDN",
            "SEN",
            "SLE",
            "SOM",
            "SSD",
            "STP",
            "SUR",
            "SWZ",
            "TCD",
            "TGO",
            "TZA",
            "UGA",
            "ZAF",
            "ZMB",
            "ZWE"
           ],
           "name": "",
           "type": "choropleth",
           "z": [
            187.862720380855,
            232.337151949804,
            420.480955396724,
            360.895944792002,
            1.31246641292217,
            340.286460287459,
            245.141906908453,
            261.50579814961003,
            305.811203941089,
            214.297586334843,
            5.14013942331076,
            0.2456624444711949,
            33.6637214476239,
            0,
            13.5647916112603,
            63.5021451184246,
            183.679823339277,
            229.473488633415,
            366.388447993376,
            204.354120377427,
            74.4563802380115,
            306.561331891049,
            64.9370949856526,
            349.186960858158,
            0,
            89.8577852756908,
            265.641677840743,
            337.15078955641496,
            161.78450063601,
            221.601504957562,
            0,
            23.930897690705105,
            308.158594135885,
            284.264403200465,
            56.7417665401405,
            50.6266037719502,
            63.67695640314471,
            373.463927038922,
            54.6723148576583,
            258.66340925180197,
            18.9156216313445,
            0.0208405081529078,
            0.8164403613859801,
            209.92911063748,
            318.492118497184,
            134.75201104051098,
            276.50560971359,
            0.441627319281366,
            200.090745488371,
            110.836149247623
           ]
          }
         ],
         "name": "2016"
        },
        {
         "data": [
          {
           "coloraxis": "coloraxis",
           "customdata": [
            [
             213.022318671321
            ],
            [
             250.795780447647
            ],
            [
             418.21129156979
            ],
            [
             335.848355238161
            ],
            [
             3.49532180261492
            ],
            [
             336.51412129518
            ],
            [
             254.675222926133
            ],
            [
             249.294375376546
            ],
            [
             316.215409708732
            ],
            [
             231.693936033622
            ],
            [
             13.369773197919098
            ],
            [
             1.89305959012866
            ],
            [
             26.346240430862498
            ],
            [
             0
            ],
            [
             14.4478382160457
            ],
            [
             56.359085490686894
            ],
            [
             179.939428364141
            ],
            [
             194.366264844427
            ],
            [
             358.718071056564
            ],
            [
             98.8486588428154
            ],
            [
             64.81434504222031
            ],
            [
             284.16889023123997
            ],
            [
             63.6040807176894
            ],
            [
             365.415322910268
            ],
            [
             0
            ],
            [
             91.9631190398386
            ],
            [
             224.860090351473
            ],
            [
             326.309384082523
            ],
            [
             124.302604136036
            ],
            [
             216.129800463335
            ],
            [
             0
            ],
            [
             67.10768257711611
            ],
            [
             300.026071910141
            ],
            [
             289.565147324314
            ],
            [
             64.7972395790986
            ],
            [
             53.0418370896948
            ],
            [
             70.2467680971567
            ],
            [
             360.189488427073
            ],
            [
             54.9015196511108
            ],
            [
             269.30357098251
            ],
            [
             18.3789106220968
            ],
            [
             0.111932500109277
            ],
            [
             1.4565607575742998
            ],
            [
             212.060834749428
            ],
            [
             270.946115213702
            ],
            [
             123.910840567415
            ],
            [
             271.507009539484
            ],
            [
             2.18001812760451
            ],
            [
             184.572641251927
            ],
            [
             161.80048679682298
            ]
           ],
           "geo": "geo",
           "hovertemplate": "<b>%{hovertext}</b><br><br>Year=2017<br>ISO3=%{location}<br>Value=%{z}<extra></extra>",
           "hovertext": [
            "Angola",
            "Burundi",
            "Benin",
            "Burkina Faso",
            "Botswana",
            "Central African Republic",
            "Côte d'Ivoire",
            "Cameroon",
            "Democratic Republic of the Congo",
            "Congo",
            "Comoros",
            "Cape Verde",
            "Djibouti",
            "Algeria",
            "Eritrea",
            "Ethiopia",
            "Gabon",
            "Ghana",
            "Guinea",
            "Gambia",
            "Guinea-Bissau",
            "Equatorial Guinea",
            "Kenya",
            "Liberia",
            "Morocco",
            "Madagascar",
            "Mali",
            "Mozambique",
            "Mauritania",
            "Malawi",
            "Mayotte",
            "Namibia",
            "Niger",
            "Nigeria",
            "Rwanda",
            "Sudan",
            "Senegal",
            "Sierra Leone",
            "Somalia",
            "South Sudan",
            "Sao Tome And Principe",
            "Suriname",
            "Eswatini",
            "Chad",
            "Togo",
            "Tanzania",
            "Uganda",
            "South Africa",
            "Zambia",
            "Zimbabwe"
           ],
           "locationmode": "ISO-3",
           "locations": [
            "AGO",
            "BDI",
            "BEN",
            "BFA",
            "BWA",
            "CAF",
            "CIV",
            "CMR",
            "COD",
            "COG",
            "COM",
            "CPV",
            "DJI",
            "DZA",
            "ERI",
            "ETH",
            "GAB",
            "GHA",
            "GIN",
            "GMB",
            "GNB",
            "GNQ",
            "KEN",
            "LBR",
            "MAR",
            "MDG",
            "MLI",
            "MOZ",
            "MRT",
            "MWI",
            "MYT",
            "NAM",
            "NER",
            "NGA",
            "RWA",
            "SDN",
            "SEN",
            "SLE",
            "SOM",
            "SSD",
            "STP",
            "SUR",
            "SWZ",
            "TCD",
            "TGO",
            "TZA",
            "UGA",
            "ZAF",
            "ZMB",
            "ZWE"
           ],
           "name": "",
           "type": "choropleth",
           "z": [
            213.022318671321,
            250.795780447647,
            418.21129156979,
            335.848355238161,
            3.49532180261492,
            336.51412129518,
            254.675222926133,
            249.294375376546,
            316.215409708732,
            231.693936033622,
            13.369773197919098,
            1.89305959012866,
            26.346240430862498,
            0,
            14.4478382160457,
            56.359085490686894,
            179.939428364141,
            194.366264844427,
            358.718071056564,
            98.8486588428154,
            64.81434504222031,
            284.16889023123997,
            63.6040807176894,
            365.415322910268,
            0,
            91.9631190398386,
            224.860090351473,
            326.309384082523,
            124.302604136036,
            216.129800463335,
            0,
            67.10768257711611,
            300.026071910141,
            289.565147324314,
            64.7972395790986,
            53.0418370896948,
            70.2467680971567,
            360.189488427073,
            54.9015196511108,
            269.30357098251,
            18.3789106220968,
            0.111932500109277,
            1.4565607575742998,
            212.060834749428,
            270.946115213702,
            123.910840567415,
            271.507009539484,
            2.18001812760451,
            184.572641251927,
            161.80048679682298
           ]
          }
         ],
         "name": "2017"
        },
        {
         "data": [
          {
           "coloraxis": "coloraxis",
           "customdata": [
            [
             229.367069975744
            ],
            [
             287.604821964682
            ],
            [
             405.045258601711
            ],
            [
             319.02059849270995
            ],
            [
             1.03142432771818
            ],
            [
             334.99091201886597
            ],
            [
             269.175218501594
            ],
            [
             237.233096811929
            ],
            [
             329.758488074037
            ],
            [
             244.8396630538
            ],
            [
             54.550026133656495
            ],
            [
             0.0091998805131559
            ],
            [
             43.5809137787371
            ],
            [
             0
            ],
            [
             12.4507362303505
            ],
            [
             43.2193894163743
            ],
            [
             176.161669266746
            ],
            [
             168.50228802484702
            ],
            [
             348.992306031524
            ],
            [
             102.493298652053
            ],
            [
             64.5382814804092
            ],
            [
             259.481351591626
            ],
            [
             61.2385130432304
            ],
            [
             355.87065366459296
            ],
            [
             0
            ],
            [
             99.5091403154285
            ],
            [
             207.672949251199
            ],
            [
             319.22901195495
            ],
            [
             127.577376984298
            ],
            [
             205.71865274465
            ],
            [
             0
            ],
            [
             39.0095771195159
            ],
            [
             296.06063541489203
            ],
            [
             297.266172321603
            ],
            [
             64.1803057336155
            ],
            [
             59.282486253795206
            ],
            [
             94.1442982548988
            ],
            [
             346.70034871968903
            ],
            [
             55.614784895570594
            ],
            [
             275.401855384311
            ],
            [
             23.982361127232203
            ],
            [
             0.0372383281798735
            ],
            [
             2.18108158930867
            ],
            [
             220.574860137136
            ],
            [
             243.819997385236
            ],
            [
             113.47235976101
            ],
            [
             254.50751614010397
            ],
            [
             0.912482005237812
            ],
            [
             184.18731862176
            ],
            [
             97.11891632156532
            ]
           ],
           "geo": "geo",
           "hovertemplate": "<b>%{hovertext}</b><br><br>Year=2018<br>ISO3=%{location}<br>Value=%{z}<extra></extra>",
           "hovertext": [
            "Angola",
            "Burundi",
            "Benin",
            "Burkina Faso",
            "Botswana",
            "Central African Republic",
            "Côte d'Ivoire",
            "Cameroon",
            "Democratic Republic of the Congo",
            "Congo",
            "Comoros",
            "Cape Verde",
            "Djibouti",
            "Algeria",
            "Eritrea",
            "Ethiopia",
            "Gabon",
            "Ghana",
            "Guinea",
            "Gambia",
            "Guinea-Bissau",
            "Equatorial Guinea",
            "Kenya",
            "Liberia",
            "Morocco",
            "Madagascar",
            "Mali",
            "Mozambique",
            "Mauritania",
            "Malawi",
            "Mayotte",
            "Namibia",
            "Niger",
            "Nigeria",
            "Rwanda",
            "Sudan",
            "Senegal",
            "Sierra Leone",
            "Somalia",
            "South Sudan",
            "Sao Tome And Principe",
            "Suriname",
            "Eswatini",
            "Chad",
            "Togo",
            "Tanzania",
            "Uganda",
            "South Africa",
            "Zambia",
            "Zimbabwe"
           ],
           "locationmode": "ISO-3",
           "locations": [
            "AGO",
            "BDI",
            "BEN",
            "BFA",
            "BWA",
            "CAF",
            "CIV",
            "CMR",
            "COD",
            "COG",
            "COM",
            "CPV",
            "DJI",
            "DZA",
            "ERI",
            "ETH",
            "GAB",
            "GHA",
            "GIN",
            "GMB",
            "GNB",
            "GNQ",
            "KEN",
            "LBR",
            "MAR",
            "MDG",
            "MLI",
            "MOZ",
            "MRT",
            "MWI",
            "MYT",
            "NAM",
            "NER",
            "NGA",
            "RWA",
            "SDN",
            "SEN",
            "SLE",
            "SOM",
            "SSD",
            "STP",
            "SUR",
            "SWZ",
            "TCD",
            "TGO",
            "TZA",
            "UGA",
            "ZAF",
            "ZMB",
            "ZWE"
           ],
           "name": "",
           "type": "choropleth",
           "z": [
            229.367069975744,
            287.604821964682,
            405.045258601711,
            319.02059849270995,
            1.03142432771818,
            334.99091201886597,
            269.175218501594,
            237.233096811929,
            329.758488074037,
            244.8396630538,
            54.550026133656495,
            0.0091998805131559,
            43.5809137787371,
            0,
            12.4507362303505,
            43.2193894163743,
            176.161669266746,
            168.50228802484702,
            348.992306031524,
            102.493298652053,
            64.5382814804092,
            259.481351591626,
            61.2385130432304,
            355.87065366459296,
            0,
            99.5091403154285,
            207.672949251199,
            319.22901195495,
            127.577376984298,
            205.71865274465,
            0,
            39.0095771195159,
            296.06063541489203,
            297.266172321603,
            64.1803057336155,
            59.282486253795206,
            94.1442982548988,
            346.70034871968903,
            55.614784895570594,
            275.401855384311,
            23.982361127232203,
            0.0372383281798735,
            2.18108158930867,
            220.574860137136,
            243.819997385236,
            113.47235976101,
            254.50751614010397,
            0.912482005237812,
            184.18731862176,
            97.11891632156532
           ]
          }
         ],
         "name": "2018"
        },
        {
         "data": [
          {
           "coloraxis": "coloraxis",
           "customdata": [
            [
             239.197357260423
            ],
            [
             294.543166846716
            ],
            [
             397.968519930148
            ],
            [
             307.966765985055
            ],
            [
             0.331480382982932
            ],
            [
             329.69084386646205
            ],
            [
             278.35457851455595
            ],
            [
             230.47702036561705
            ],
            [
             331.214954506779
            ],
            [
             241.562237888679
            ],
            [
             60.193728879094095
            ],
            [
             0.0011517490140959
            ],
            [
             96.2037727818593
            ],
            [
             0
            ],
            [
             28.252313377852506
            ],
            [
             35.453672179183094
            ],
            [
             179.475472354053
            ],
            [
             162.03483380689
            ],
            [
             320.009157585528
            ],
            [
             64.16531714073561
            ],
            [
             72.2644844391708
            ],
            [
             240.947367266627
            ],
            [
             58.6463757392969
            ],
            [
             342.62479801981
            ],
            [
             0
            ],
            [
             115.020395047185
            ],
            [
             214.518574111036
            ],
            [
             309.927781066987
            ],
            [
             99.8800129398676
            ],
            [
             199.678771464465
            ],
            [
             0
            ],
            [
             22.4619477235554
            ],
            [
             298.808123663344
            ],
            [
             299.88780633960897
            ],
            [
             52.552859637521394
            ],
            [
             64.6472064835695
            ],
            [
             64.38706167814209
            ],
            [
             326.599728940005
            ],
            [
             55.719686833941495
            ],
            [
             296.608534352099
            ],
            [
             21.927570304568498
            ],
            [
             0
            ],
            [
             0.805862667589914
            ],
            [
             213.079140221107
            ],
            [
             229.727044611991
            ],
            [
             117.917588232819
            ],
            [
             260.13205786297
            ],
            [
             0.515076701632997
            ],
            [
             179.49007427750098
            ],
            [
             105.201555103618
            ]
           ],
           "geo": "geo",
           "hovertemplate": "<b>%{hovertext}</b><br><br>Year=2019<br>ISO3=%{location}<br>Value=%{z}<extra></extra>",
           "hovertext": [
            "Angola",
            "Burundi",
            "Benin",
            "Burkina Faso",
            "Botswana",
            "Central African Republic",
            "Côte d'Ivoire",
            "Cameroon",
            "Democratic Republic of the Congo",
            "Congo",
            "Comoros",
            "Cape Verde",
            "Djibouti",
            "Algeria",
            "Eritrea",
            "Ethiopia",
            "Gabon",
            "Ghana",
            "Guinea",
            "Gambia",
            "Guinea-Bissau",
            "Equatorial Guinea",
            "Kenya",
            "Liberia",
            "Morocco",
            "Madagascar",
            "Mali",
            "Mozambique",
            "Mauritania",
            "Malawi",
            "Mayotte",
            "Namibia",
            "Niger",
            "Nigeria",
            "Rwanda",
            "Sudan",
            "Senegal",
            "Sierra Leone",
            "Somalia",
            "South Sudan",
            "Sao Tome And Principe",
            "Suriname",
            "Eswatini",
            "Chad",
            "Togo",
            "Tanzania",
            "Uganda",
            "South Africa",
            "Zambia",
            "Zimbabwe"
           ],
           "locationmode": "ISO-3",
           "locations": [
            "AGO",
            "BDI",
            "BEN",
            "BFA",
            "BWA",
            "CAF",
            "CIV",
            "CMR",
            "COD",
            "COG",
            "COM",
            "CPV",
            "DJI",
            "DZA",
            "ERI",
            "ETH",
            "GAB",
            "GHA",
            "GIN",
            "GMB",
            "GNB",
            "GNQ",
            "KEN",
            "LBR",
            "MAR",
            "MDG",
            "MLI",
            "MOZ",
            "MRT",
            "MWI",
            "MYT",
            "NAM",
            "NER",
            "NGA",
            "RWA",
            "SDN",
            "SEN",
            "SLE",
            "SOM",
            "SSD",
            "STP",
            "SUR",
            "SWZ",
            "TCD",
            "TGO",
            "TZA",
            "UGA",
            "ZAF",
            "ZMB",
            "ZWE"
           ],
           "name": "",
           "type": "choropleth",
           "z": [
            239.197357260423,
            294.543166846716,
            397.968519930148,
            307.966765985055,
            0.331480382982932,
            329.69084386646205,
            278.35457851455595,
            230.47702036561705,
            331.214954506779,
            241.562237888679,
            60.193728879094095,
            0.0011517490140959,
            96.2037727818593,
            0,
            28.252313377852506,
            35.453672179183094,
            179.475472354053,
            162.03483380689,
            320.009157585528,
            64.16531714073561,
            72.2644844391708,
            240.947367266627,
            58.6463757392969,
            342.62479801981,
            0,
            115.020395047185,
            214.518574111036,
            309.927781066987,
            99.8800129398676,
            199.678771464465,
            0,
            22.4619477235554,
            298.808123663344,
            299.88780633960897,
            52.552859637521394,
            64.6472064835695,
            64.38706167814209,
            326.599728940005,
            55.719686833941495,
            296.608534352099,
            21.927570304568498,
            0,
            0.805862667589914,
            213.079140221107,
            229.727044611991,
            117.917588232819,
            260.13205786297,
            0.515076701632997,
            179.49007427750098,
            105.201555103618
           ]
          }
         ],
         "name": "2019"
        },
        {
         "data": [
          {
           "coloraxis": "coloraxis",
           "customdata": [
            [
             235.067712891204
            ],
            [
             307.053448199624
            ],
            [
             376.9426850889
            ],
            [
             303.8106209487
            ],
            [
             1.7302249545066002
            ],
            [
             316.307459743385
            ],
            [
             282.288378911712
            ],
            [
             233.723450966417
            ],
            [
             311.998797306631
            ],
            [
             233.892016062933
            ],
            [
             15.0574674457312
            ],
            [
             0
            ],
            [
             116.956359014373
            ],
            [
             0
            ],
            [
             22.7923936550883
            ],
            [
             58.2527604282112
            ],
            [
             180.87332127845295
            ],
            [
             162.64393854968102
            ],
            [
             293.220037225309
            ],
            [
             82.9474910882116
            ],
            [
             91.2121519964756
            ],
            [
             238.232868864056
            ],
            [
             61.4127017335734
            ],
            [
             335.07289731691696
            ],
            [
             0
            ],
            [
             127.509423526392
            ],
            [
             210.411667335402
            ],
            [
             316.407197685463
            ],
            [
             98.04583116997688
            ],
            [
             215.837256405246
            ],
            [
             0
            ],
            [
             17.374465218866202
            ],
            [
             297.30415927217604
            ],
            [
             316.278286365334
            ],
            [
             39.2004109703824
            ],
            [
             68.26251265352951
            ],
            [
             80.69947489725091
            ],
            [
             317.94996730296697
            ],
            [
             55.8195025334581
            ],
            [
             282.93933627822196
            ],
            [
             15.310499402955
            ],
            [
             0
            ],
            [
             0.749413815991271
            ],
            [
             206.812912319881
            ],
            [
             234.152991450336
            ],
            [
             123.090679011362
            ],
            [
             259.743650276954
            ],
            [
             0.528981417249323
            ],
            [
             177.630273353582
            ],
            [
             126.449573680327
            ]
           ],
           "geo": "geo",
           "hovertemplate": "<b>%{hovertext}</b><br><br>Year=2020<br>ISO3=%{location}<br>Value=%{z}<extra></extra>",
           "hovertext": [
            "Angola",
            "Burundi",
            "Benin",
            "Burkina Faso",
            "Botswana",
            "Central African Republic",
            "Côte d'Ivoire",
            "Cameroon",
            "Democratic Republic of the Congo",
            "Congo",
            "Comoros",
            "Cape Verde",
            "Djibouti",
            "Algeria",
            "Eritrea",
            "Ethiopia",
            "Gabon",
            "Ghana",
            "Guinea",
            "Gambia",
            "Guinea-Bissau",
            "Equatorial Guinea",
            "Kenya",
            "Liberia",
            "Morocco",
            "Madagascar",
            "Mali",
            "Mozambique",
            "Mauritania",
            "Malawi",
            "Mayotte",
            "Namibia",
            "Niger",
            "Nigeria",
            "Rwanda",
            "Sudan",
            "Senegal",
            "Sierra Leone",
            "Somalia",
            "South Sudan",
            "Sao Tome And Principe",
            "Suriname",
            "Eswatini",
            "Chad",
            "Togo",
            "Tanzania",
            "Uganda",
            "South Africa",
            "Zambia",
            "Zimbabwe"
           ],
           "locationmode": "ISO-3",
           "locations": [
            "AGO",
            "BDI",
            "BEN",
            "BFA",
            "BWA",
            "CAF",
            "CIV",
            "CMR",
            "COD",
            "COG",
            "COM",
            "CPV",
            "DJI",
            "DZA",
            "ERI",
            "ETH",
            "GAB",
            "GHA",
            "GIN",
            "GMB",
            "GNB",
            "GNQ",
            "KEN",
            "LBR",
            "MAR",
            "MDG",
            "MLI",
            "MOZ",
            "MRT",
            "MWI",
            "MYT",
            "NAM",
            "NER",
            "NGA",
            "RWA",
            "SDN",
            "SEN",
            "SLE",
            "SOM",
            "SSD",
            "STP",
            "SUR",
            "SWZ",
            "TCD",
            "TGO",
            "TZA",
            "UGA",
            "ZAF",
            "ZMB",
            "ZWE"
           ],
           "name": "",
           "type": "choropleth",
           "z": [
            235.067712891204,
            307.053448199624,
            376.9426850889,
            303.8106209487,
            1.7302249545066002,
            316.307459743385,
            282.288378911712,
            233.723450966417,
            311.998797306631,
            233.892016062933,
            15.0574674457312,
            0,
            116.956359014373,
            0,
            22.7923936550883,
            58.2527604282112,
            180.87332127845295,
            162.64393854968102,
            293.220037225309,
            82.9474910882116,
            91.2121519964756,
            238.232868864056,
            61.4127017335734,
            335.07289731691696,
            0,
            127.509423526392,
            210.411667335402,
            316.407197685463,
            98.04583116997688,
            215.837256405246,
            0,
            17.374465218866202,
            297.30415927217604,
            316.278286365334,
            39.2004109703824,
            68.26251265352951,
            80.69947489725091,
            317.94996730296697,
            55.8195025334581,
            282.93933627822196,
            15.310499402955,
            0,
            0.749413815991271,
            206.812912319881,
            234.152991450336,
            123.090679011362,
            259.743650276954,
            0.528981417249323,
            177.630273353582,
            126.449573680327
           ]
          }
         ],
         "name": "2020"
        },
        {
         "data": [
          {
           "coloraxis": "coloraxis",
           "customdata": [
            [
             233.79609940857
            ],
            [
             295.970101709189
            ],
            [
             369.5463860362421
            ],
            [
             293.003340218514
            ],
            [
             1.41535610199712
            ],
            [
             308.26441218286396
            ],
            [
             285.09887002365605
            ],
            [
             246.992734301352
            ],
            [
             301.898510771923
            ],
            [
             223.77895122677495
            ],
            [
             34.3284854665399
            ],
            [
             0.0008973386486712
            ],
            [
             109.675098761797
            ],
            [
             0
            ],
            [
             13.4725440664675
            ],
            [
             42.4624343596375
            ],
            [
             179.026209763645
            ],
            [
             156.201001385459
            ],
            [
             271.184375384593
            ],
            [
             80.999498381673
            ],
            [
             101.803191479401
            ],
            [
             228.07361783613
            ],
            [
             62.3482020656229
            ],
            [
             316.59160629645
            ],
            [
             0
            ],
            [
             136.91056638582
            ],
            [
             203.107223459838
            ],
            [
             312.478667843328
            ],
            [
             45.7629112351063
            ],
            [
             210.72445907678
            ],
            [
             0
            ],
            [
             16.2381795871836
            ],
            [
             294.65826600697596
            ],
            [
             309.09509318165703
            ],
            [
             41.2843698784516
            ],
            [
             66.5622695392982
            ],
            [
             94.652370968079
            ],
            [
             307.503696643972
            ],
            [
             54.0658798926537
            ],
            [
             266.98467828080703
            ],
            [
             21.1483197491886
            ],
            [
             0
            ],
            [
             1.77981692882481
            ],
            [
             201.217166840078
            ],
            [
             222.540486696955
            ],
            [
             135.21367404891498
            ],
            [
             254.366771402456
            ],
            [
             0.356921283106172
            ],
            [
             177.12478225015
            ],
            [
             57.3436170797917
            ]
           ],
           "geo": "geo",
           "hovertemplate": "<b>%{hovertext}</b><br><br>Year=2021<br>ISO3=%{location}<br>Value=%{z}<extra></extra>",
           "hovertext": [
            "Angola",
            "Burundi",
            "Benin",
            "Burkina Faso",
            "Botswana",
            "Central African Republic",
            "Côte d'Ivoire",
            "Cameroon",
            "Democratic Republic of the Congo",
            "Congo",
            "Comoros",
            "Cape Verde",
            "Djibouti",
            "Algeria",
            "Eritrea",
            "Ethiopia",
            "Gabon",
            "Ghana",
            "Guinea",
            "Gambia",
            "Guinea-Bissau",
            "Equatorial Guinea",
            "Kenya",
            "Liberia",
            "Morocco",
            "Madagascar",
            "Mali",
            "Mozambique",
            "Mauritania",
            "Malawi",
            "Mayotte",
            "Namibia",
            "Niger",
            "Nigeria",
            "Rwanda",
            "Sudan",
            "Senegal",
            "Sierra Leone",
            "Somalia",
            "South Sudan",
            "Sao Tome And Principe",
            "Suriname",
            "Eswatini",
            "Chad",
            "Togo",
            "Tanzania",
            "Uganda",
            "South Africa",
            "Zambia",
            "Zimbabwe"
           ],
           "locationmode": "ISO-3",
           "locations": [
            "AGO",
            "BDI",
            "BEN",
            "BFA",
            "BWA",
            "CAF",
            "CIV",
            "CMR",
            "COD",
            "COG",
            "COM",
            "CPV",
            "DJI",
            "DZA",
            "ERI",
            "ETH",
            "GAB",
            "GHA",
            "GIN",
            "GMB",
            "GNB",
            "GNQ",
            "KEN",
            "LBR",
            "MAR",
            "MDG",
            "MLI",
            "MOZ",
            "MRT",
            "MWI",
            "MYT",
            "NAM",
            "NER",
            "NGA",
            "RWA",
            "SDN",
            "SEN",
            "SLE",
            "SOM",
            "SSD",
            "STP",
            "SUR",
            "SWZ",
            "TCD",
            "TGO",
            "TZA",
            "UGA",
            "ZAF",
            "ZMB",
            "ZWE"
           ],
           "name": "",
           "type": "choropleth",
           "z": [
            233.79609940857,
            295.970101709189,
            369.5463860362421,
            293.003340218514,
            1.41535610199712,
            308.26441218286396,
            285.09887002365605,
            246.992734301352,
            301.898510771923,
            223.77895122677495,
            34.3284854665399,
            0.0008973386486712,
            109.675098761797,
            0,
            13.4725440664675,
            42.4624343596375,
            179.026209763645,
            156.201001385459,
            271.184375384593,
            80.999498381673,
            101.803191479401,
            228.07361783613,
            62.3482020656229,
            316.59160629645,
            0,
            136.91056638582,
            203.107223459838,
            312.478667843328,
            45.7629112351063,
            210.72445907678,
            0,
            16.2381795871836,
            294.65826600697596,
            309.09509318165703,
            41.2843698784516,
            66.5622695392982,
            94.652370968079,
            307.503696643972,
            54.0658798926537,
            266.98467828080703,
            21.1483197491886,
            0,
            1.77981692882481,
            201.217166840078,
            222.540486696955,
            135.21367404891498,
            254.366771402456,
            0.356921283106172,
            177.12478225015,
            57.3436170797917
           ]
          }
         ],
         "name": "2021"
        },
        {
         "data": [
          {
           "coloraxis": "coloraxis",
           "customdata": [
            [
             232.046130386296
            ],
            [
             274.96754094874495
            ],
            [
             369.284213237772
            ],
            [
             289.837229543558
            ],
            [
             0.786491392523787
            ],
            [
             313.161784296782
            ],
            [
             288.13905845257096
            ],
            [
             250.36184997357705
            ],
            [
             296.937372392647
            ],
            [
             216.056728892045
            ],
            [
             66.19907472282651
            ],
            [
             0.0017260000444754
            ],
            [
             75.67552697660659
            ],
            [
             0
            ],
            [
             18.7465495280113
            ],
            [
             52.7978259888975
            ],
            [
             173.270514026106
            ],
            [
             156.925609375188
            ],
            [
             262.833371636371
            ],
            [
             126.169373183324
            ],
            [
             106.968662560975
            ],
            [
             229.249602939614
            ],
            [
             63.5758683151154
            ],
            [
             308.08759196712
            ],
            [
             0
            ],
            [
             123.683277195778
            ],
            [
             231.135494378034
            ],
            [
             315.908472903453
            ],
            [
             88.9846634617981
            ],
            [
             220.699328510712
            ],
            [
             0
            ],
            [
             13.2897897878305
            ],
            [
             243.719690159031
            ],
            [
             294.447556730481
            ],
            [
             39.8660067622031
            ],
            [
             67.13474968586621
            ],
            [
             64.9162082621359
            ],
            [
             298.45293997299
            ],
            [
             53.3977677316558
            ],
            [
             253.101770573162
            ],
            [
             30.321137931665803
            ],
            [
             0.0005975944131409
            ],
            [
             0.724953474177554
            ],
            [
             207.351132393264
            ],
            [
             225.525326081631
            ],
            [
             146.796187528698
            ],
            [
             257.65975936790096
            ],
            [
             0.256400794051814
            ],
            [
             180.627032966307
            ],
            [
             52.0786891674213
            ]
           ],
           "geo": "geo",
           "hovertemplate": "<b>%{hovertext}</b><br><br>Year=2022<br>ISO3=%{location}<br>Value=%{z}<extra></extra>",
           "hovertext": [
            "Angola",
            "Burundi",
            "Benin",
            "Burkina Faso",
            "Botswana",
            "Central African Republic",
            "Côte d'Ivoire",
            "Cameroon",
            "Democratic Republic of the Congo",
            "Congo",
            "Comoros",
            "Cape Verde",
            "Djibouti",
            "Algeria",
            "Eritrea",
            "Ethiopia",
            "Gabon",
            "Ghana",
            "Guinea",
            "Gambia",
            "Guinea-Bissau",
            "Equatorial Guinea",
            "Kenya",
            "Liberia",
            "Morocco",
            "Madagascar",
            "Mali",
            "Mozambique",
            "Mauritania",
            "Malawi",
            "Mayotte",
            "Namibia",
            "Niger",
            "Nigeria",
            "Rwanda",
            "Sudan",
            "Senegal",
            "Sierra Leone",
            "Somalia",
            "South Sudan",
            "Sao Tome And Principe",
            "Suriname",
            "Eswatini",
            "Chad",
            "Togo",
            "Tanzania",
            "Uganda",
            "South Africa",
            "Zambia",
            "Zimbabwe"
           ],
           "locationmode": "ISO-3",
           "locations": [
            "AGO",
            "BDI",
            "BEN",
            "BFA",
            "BWA",
            "CAF",
            "CIV",
            "CMR",
            "COD",
            "COG",
            "COM",
            "CPV",
            "DJI",
            "DZA",
            "ERI",
            "ETH",
            "GAB",
            "GHA",
            "GIN",
            "GMB",
            "GNB",
            "GNQ",
            "KEN",
            "LBR",
            "MAR",
            "MDG",
            "MLI",
            "MOZ",
            "MRT",
            "MWI",
            "MYT",
            "NAM",
            "NER",
            "NGA",
            "RWA",
            "SDN",
            "SEN",
            "SLE",
            "SOM",
            "SSD",
            "STP",
            "SUR",
            "SWZ",
            "TCD",
            "TGO",
            "TZA",
            "UGA",
            "ZAF",
            "ZMB",
            "ZWE"
           ],
           "name": "",
           "type": "choropleth",
           "z": [
            232.046130386296,
            274.96754094874495,
            369.284213237772,
            289.837229543558,
            0.786491392523787,
            313.161784296782,
            288.13905845257096,
            250.36184997357705,
            296.937372392647,
            216.056728892045,
            66.19907472282651,
            0.0017260000444754,
            75.67552697660659,
            0,
            18.7465495280113,
            52.7978259888975,
            173.270514026106,
            156.925609375188,
            262.833371636371,
            126.169373183324,
            106.968662560975,
            229.249602939614,
            63.5758683151154,
            308.08759196712,
            0,
            123.683277195778,
            231.135494378034,
            315.908472903453,
            88.9846634617981,
            220.699328510712,
            0,
            13.2897897878305,
            243.719690159031,
            294.447556730481,
            39.8660067622031,
            67.13474968586621,
            64.9162082621359,
            298.45293997299,
            53.3977677316558,
            253.101770573162,
            30.321137931665803,
            0.0005975944131409,
            0.724953474177554,
            207.351132393264,
            225.525326081631,
            146.796187528698,
            257.65975936790096,
            0.256400794051814,
            180.627032966307,
            52.0786891674213
           ]
          }
         ],
         "name": "2022"
        }
       ],
       "layout": {
        "coloraxis": {
         "cmax": 560.269703448359,
         "cmin": 0,
         "colorbar": {
          "title": {
           "text": "Value"
          }
         },
         "colorscale": [
          [
           0,
           "rgb(255,255,204)"
          ],
          [
           0.125,
           "rgb(255,237,160)"
          ],
          [
           0.25,
           "rgb(254,217,118)"
          ],
          [
           0.375,
           "rgb(254,178,76)"
          ],
          [
           0.5,
           "rgb(253,141,60)"
          ],
          [
           0.625,
           "rgb(252,78,42)"
          ],
          [
           0.75,
           "rgb(227,26,28)"
          ],
          [
           0.875,
           "rgb(189,0,38)"
          ],
          [
           1,
           "rgb(128,0,38)"
          ]
         ]
        },
        "geo": {
         "center": {},
         "coastlinecolor": "Gray",
         "domain": {
          "x": [
           0,
           1
          ],
          "y": [
           0,
           1
          ]
         },
         "landcolor": "white",
         "scope": "africa",
         "showcoastlines": true,
         "showland": true
        },
        "legend": {
         "tracegroupgap": 0
        },
        "sliders": [
         {
          "active": 0,
          "currentvalue": {
           "prefix": "Year="
          },
          "len": 0.9,
          "pad": {
           "b": 10,
           "t": 60
          },
          "steps": [
           {
            "args": [
             [
              "2010"
             ],
             {
              "frame": {
               "duration": 0,
               "redraw": true
              },
              "fromcurrent": true,
              "mode": "immediate",
              "transition": {
               "duration": 0,
               "easing": "linear"
              }
             }
            ],
            "label": "2010",
            "method": "animate"
           },
           {
            "args": [
             [
              "2011"
             ],
             {
              "frame": {
               "duration": 0,
               "redraw": true
              },
              "fromcurrent": true,
              "mode": "immediate",
              "transition": {
               "duration": 0,
               "easing": "linear"
              }
             }
            ],
            "label": "2011",
            "method": "animate"
           },
           {
            "args": [
             [
              "2012"
             ],
             {
              "frame": {
               "duration": 0,
               "redraw": true
              },
              "fromcurrent": true,
              "mode": "immediate",
              "transition": {
               "duration": 0,
               "easing": "linear"
              }
             }
            ],
            "label": "2012",
            "method": "animate"
           },
           {
            "args": [
             [
              "2013"
             ],
             {
              "frame": {
               "duration": 0,
               "redraw": true
              },
              "fromcurrent": true,
              "mode": "immediate",
              "transition": {
               "duration": 0,
               "easing": "linear"
              }
             }
            ],
            "label": "2013",
            "method": "animate"
           },
           {
            "args": [
             [
              "2014"
             ],
             {
              "frame": {
               "duration": 0,
               "redraw": true
              },
              "fromcurrent": true,
              "mode": "immediate",
              "transition": {
               "duration": 0,
               "easing": "linear"
              }
             }
            ],
            "label": "2014",
            "method": "animate"
           },
           {
            "args": [
             [
              "2015"
             ],
             {
              "frame": {
               "duration": 0,
               "redraw": true
              },
              "fromcurrent": true,
              "mode": "immediate",
              "transition": {
               "duration": 0,
               "easing": "linear"
              }
             }
            ],
            "label": "2015",
            "method": "animate"
           },
           {
            "args": [
             [
              "2016"
             ],
             {
              "frame": {
               "duration": 0,
               "redraw": true
              },
              "fromcurrent": true,
              "mode": "immediate",
              "transition": {
               "duration": 0,
               "easing": "linear"
              }
             }
            ],
            "label": "2016",
            "method": "animate"
           },
           {
            "args": [
             [
              "2017"
             ],
             {
              "frame": {
               "duration": 0,
               "redraw": true
              },
              "fromcurrent": true,
              "mode": "immediate",
              "transition": {
               "duration": 0,
               "easing": "linear"
              }
             }
            ],
            "label": "2017",
            "method": "animate"
           },
           {
            "args": [
             [
              "2018"
             ],
             {
              "frame": {
               "duration": 0,
               "redraw": true
              },
              "fromcurrent": true,
              "mode": "immediate",
              "transition": {
               "duration": 0,
               "easing": "linear"
              }
             }
            ],
            "label": "2018",
            "method": "animate"
           },
           {
            "args": [
             [
              "2019"
             ],
             {
              "frame": {
               "duration": 0,
               "redraw": true
              },
              "fromcurrent": true,
              "mode": "immediate",
              "transition": {
               "duration": 0,
               "easing": "linear"
              }
             }
            ],
            "label": "2019",
            "method": "animate"
           },
           {
            "args": [
             [
              "2020"
             ],
             {
              "frame": {
               "duration": 0,
               "redraw": true
              },
              "fromcurrent": true,
              "mode": "immediate",
              "transition": {
               "duration": 0,
               "easing": "linear"
              }
             }
            ],
            "label": "2020",
            "method": "animate"
           },
           {
            "args": [
             [
              "2021"
             ],
             {
              "frame": {
               "duration": 0,
               "redraw": true
              },
              "fromcurrent": true,
              "mode": "immediate",
              "transition": {
               "duration": 0,
               "easing": "linear"
              }
             }
            ],
            "label": "2021",
            "method": "animate"
           },
           {
            "args": [
             [
              "2022"
             ],
             {
              "frame": {
               "duration": 0,
               "redraw": true
              },
              "fromcurrent": true,
              "mode": "immediate",
              "transition": {
               "duration": 0,
               "easing": "linear"
              }
             }
            ],
            "label": "2022",
            "method": "animate"
           }
          ],
          "x": 0.1,
          "xanchor": "left",
          "y": 0,
          "yanchor": "top"
         }
        ],
        "template": {
         "data": {
          "bar": [
           {
            "error_x": {
             "color": "#2a3f5f"
            },
            "error_y": {
             "color": "#2a3f5f"
            },
            "marker": {
             "line": {
              "color": "#E5ECF6",
              "width": 0.5
             },
             "pattern": {
              "fillmode": "overlay",
              "size": 10,
              "solidity": 0.2
             }
            },
            "type": "bar"
           }
          ],
          "barpolar": [
           {
            "marker": {
             "line": {
              "color": "#E5ECF6",
              "width": 0.5
             },
             "pattern": {
              "fillmode": "overlay",
              "size": 10,
              "solidity": 0.2
             }
            },
            "type": "barpolar"
           }
          ],
          "carpet": [
           {
            "aaxis": {
             "endlinecolor": "#2a3f5f",
             "gridcolor": "white",
             "linecolor": "white",
             "minorgridcolor": "white",
             "startlinecolor": "#2a3f5f"
            },
            "baxis": {
             "endlinecolor": "#2a3f5f",
             "gridcolor": "white",
             "linecolor": "white",
             "minorgridcolor": "white",
             "startlinecolor": "#2a3f5f"
            },
            "type": "carpet"
           }
          ],
          "choropleth": [
           {
            "colorbar": {
             "outlinewidth": 0,
             "ticks": ""
            },
            "type": "choropleth"
           }
          ],
          "contour": [
           {
            "colorbar": {
             "outlinewidth": 0,
             "ticks": ""
            },
            "colorscale": [
             [
              0,
              "#0d0887"
             ],
             [
              0.1111111111111111,
              "#46039f"
             ],
             [
              0.2222222222222222,
              "#7201a8"
             ],
             [
              0.3333333333333333,
              "#9c179e"
             ],
             [
              0.4444444444444444,
              "#bd3786"
             ],
             [
              0.5555555555555556,
              "#d8576b"
             ],
             [
              0.6666666666666666,
              "#ed7953"
             ],
             [
              0.7777777777777778,
              "#fb9f3a"
             ],
             [
              0.8888888888888888,
              "#fdca26"
             ],
             [
              1,
              "#f0f921"
             ]
            ],
            "type": "contour"
           }
          ],
          "contourcarpet": [
           {
            "colorbar": {
             "outlinewidth": 0,
             "ticks": ""
            },
            "type": "contourcarpet"
           }
          ],
          "heatmap": [
           {
            "colorbar": {
             "outlinewidth": 0,
             "ticks": ""
            },
            "colorscale": [
             [
              0,
              "#0d0887"
             ],
             [
              0.1111111111111111,
              "#46039f"
             ],
             [
              0.2222222222222222,
              "#7201a8"
             ],
             [
              0.3333333333333333,
              "#9c179e"
             ],
             [
              0.4444444444444444,
              "#bd3786"
             ],
             [
              0.5555555555555556,
              "#d8576b"
             ],
             [
              0.6666666666666666,
              "#ed7953"
             ],
             [
              0.7777777777777778,
              "#fb9f3a"
             ],
             [
              0.8888888888888888,
              "#fdca26"
             ],
             [
              1,
              "#f0f921"
             ]
            ],
            "type": "heatmap"
           }
          ],
          "heatmapgl": [
           {
            "colorbar": {
             "outlinewidth": 0,
             "ticks": ""
            },
            "colorscale": [
             [
              0,
              "#0d0887"
             ],
             [
              0.1111111111111111,
              "#46039f"
             ],
             [
              0.2222222222222222,
              "#7201a8"
             ],
             [
              0.3333333333333333,
              "#9c179e"
             ],
             [
              0.4444444444444444,
              "#bd3786"
             ],
             [
              0.5555555555555556,
              "#d8576b"
             ],
             [
              0.6666666666666666,
              "#ed7953"
             ],
             [
              0.7777777777777778,
              "#fb9f3a"
             ],
             [
              0.8888888888888888,
              "#fdca26"
             ],
             [
              1,
              "#f0f921"
             ]
            ],
            "type": "heatmapgl"
           }
          ],
          "histogram": [
           {
            "marker": {
             "pattern": {
              "fillmode": "overlay",
              "size": 10,
              "solidity": 0.2
             }
            },
            "type": "histogram"
           }
          ],
          "histogram2d": [
           {
            "colorbar": {
             "outlinewidth": 0,
             "ticks": ""
            },
            "colorscale": [
             [
              0,
              "#0d0887"
             ],
             [
              0.1111111111111111,
              "#46039f"
             ],
             [
              0.2222222222222222,
              "#7201a8"
             ],
             [
              0.3333333333333333,
              "#9c179e"
             ],
             [
              0.4444444444444444,
              "#bd3786"
             ],
             [
              0.5555555555555556,
              "#d8576b"
             ],
             [
              0.6666666666666666,
              "#ed7953"
             ],
             [
              0.7777777777777778,
              "#fb9f3a"
             ],
             [
              0.8888888888888888,
              "#fdca26"
             ],
             [
              1,
              "#f0f921"
             ]
            ],
            "type": "histogram2d"
           }
          ],
          "histogram2dcontour": [
           {
            "colorbar": {
             "outlinewidth": 0,
             "ticks": ""
            },
            "colorscale": [
             [
              0,
              "#0d0887"
             ],
             [
              0.1111111111111111,
              "#46039f"
             ],
             [
              0.2222222222222222,
              "#7201a8"
             ],
             [
              0.3333333333333333,
              "#9c179e"
             ],
             [
              0.4444444444444444,
              "#bd3786"
             ],
             [
              0.5555555555555556,
              "#d8576b"
             ],
             [
              0.6666666666666666,
              "#ed7953"
             ],
             [
              0.7777777777777778,
              "#fb9f3a"
             ],
             [
              0.8888888888888888,
              "#fdca26"
             ],
             [
              1,
              "#f0f921"
             ]
            ],
            "type": "histogram2dcontour"
           }
          ],
          "mesh3d": [
           {
            "colorbar": {
             "outlinewidth": 0,
             "ticks": ""
            },
            "type": "mesh3d"
           }
          ],
          "parcoords": [
           {
            "line": {
             "colorbar": {
              "outlinewidth": 0,
              "ticks": ""
             }
            },
            "type": "parcoords"
           }
          ],
          "pie": [
           {
            "automargin": true,
            "type": "pie"
           }
          ],
          "scatter": [
           {
            "fillpattern": {
             "fillmode": "overlay",
             "size": 10,
             "solidity": 0.2
            },
            "type": "scatter"
           }
          ],
          "scatter3d": [
           {
            "line": {
             "colorbar": {
              "outlinewidth": 0,
              "ticks": ""
             }
            },
            "marker": {
             "colorbar": {
              "outlinewidth": 0,
              "ticks": ""
             }
            },
            "type": "scatter3d"
           }
          ],
          "scattercarpet": [
           {
            "marker": {
             "colorbar": {
              "outlinewidth": 0,
              "ticks": ""
             }
            },
            "type": "scattercarpet"
           }
          ],
          "scattergeo": [
           {
            "marker": {
             "colorbar": {
              "outlinewidth": 0,
              "ticks": ""
             }
            },
            "type": "scattergeo"
           }
          ],
          "scattergl": [
           {
            "marker": {
             "colorbar": {
              "outlinewidth": 0,
              "ticks": ""
             }
            },
            "type": "scattergl"
           }
          ],
          "scattermapbox": [
           {
            "marker": {
             "colorbar": {
              "outlinewidth": 0,
              "ticks": ""
             }
            },
            "type": "scattermapbox"
           }
          ],
          "scatterpolar": [
           {
            "marker": {
             "colorbar": {
              "outlinewidth": 0,
              "ticks": ""
             }
            },
            "type": "scatterpolar"
           }
          ],
          "scatterpolargl": [
           {
            "marker": {
             "colorbar": {
              "outlinewidth": 0,
              "ticks": ""
             }
            },
            "type": "scatterpolargl"
           }
          ],
          "scatterternary": [
           {
            "marker": {
             "colorbar": {
              "outlinewidth": 0,
              "ticks": ""
             }
            },
            "type": "scatterternary"
           }
          ],
          "surface": [
           {
            "colorbar": {
             "outlinewidth": 0,
             "ticks": ""
            },
            "colorscale": [
             [
              0,
              "#0d0887"
             ],
             [
              0.1111111111111111,
              "#46039f"
             ],
             [
              0.2222222222222222,
              "#7201a8"
             ],
             [
              0.3333333333333333,
              "#9c179e"
             ],
             [
              0.4444444444444444,
              "#bd3786"
             ],
             [
              0.5555555555555556,
              "#d8576b"
             ],
             [
              0.6666666666666666,
              "#ed7953"
             ],
             [
              0.7777777777777778,
              "#fb9f3a"
             ],
             [
              0.8888888888888888,
              "#fdca26"
             ],
             [
              1,
              "#f0f921"
             ]
            ],
            "type": "surface"
           }
          ],
          "table": [
           {
            "cells": {
             "fill": {
              "color": "#EBF0F8"
             },
             "line": {
              "color": "white"
             }
            },
            "header": {
             "fill": {
              "color": "#C8D4E3"
             },
             "line": {
              "color": "white"
             }
            },
            "type": "table"
           }
          ]
         },
         "layout": {
          "annotationdefaults": {
           "arrowcolor": "#2a3f5f",
           "arrowhead": 0,
           "arrowwidth": 1
          },
          "autotypenumbers": "strict",
          "coloraxis": {
           "colorbar": {
            "outlinewidth": 0,
            "ticks": ""
           }
          },
          "colorscale": {
           "diverging": [
            [
             0,
             "#8e0152"
            ],
            [
             0.1,
             "#c51b7d"
            ],
            [
             0.2,
             "#de77ae"
            ],
            [
             0.3,
             "#f1b6da"
            ],
            [
             0.4,
             "#fde0ef"
            ],
            [
             0.5,
             "#f7f7f7"
            ],
            [
             0.6,
             "#e6f5d0"
            ],
            [
             0.7,
             "#b8e186"
            ],
            [
             0.8,
             "#7fbc41"
            ],
            [
             0.9,
             "#4d9221"
            ],
            [
             1,
             "#276419"
            ]
           ],
           "sequential": [
            [
             0,
             "#0d0887"
            ],
            [
             0.1111111111111111,
             "#46039f"
            ],
            [
             0.2222222222222222,
             "#7201a8"
            ],
            [
             0.3333333333333333,
             "#9c179e"
            ],
            [
             0.4444444444444444,
             "#bd3786"
            ],
            [
             0.5555555555555556,
             "#d8576b"
            ],
            [
             0.6666666666666666,
             "#ed7953"
            ],
            [
             0.7777777777777778,
             "#fb9f3a"
            ],
            [
             0.8888888888888888,
             "#fdca26"
            ],
            [
             1,
             "#f0f921"
            ]
           ],
           "sequentialminus": [
            [
             0,
             "#0d0887"
            ],
            [
             0.1111111111111111,
             "#46039f"
            ],
            [
             0.2222222222222222,
             "#7201a8"
            ],
            [
             0.3333333333333333,
             "#9c179e"
            ],
            [
             0.4444444444444444,
             "#bd3786"
            ],
            [
             0.5555555555555556,
             "#d8576b"
            ],
            [
             0.6666666666666666,
             "#ed7953"
            ],
            [
             0.7777777777777778,
             "#fb9f3a"
            ],
            [
             0.8888888888888888,
             "#fdca26"
            ],
            [
             1,
             "#f0f921"
            ]
           ]
          },
          "colorway": [
           "#636efa",
           "#EF553B",
           "#00cc96",
           "#ab63fa",
           "#FFA15A",
           "#19d3f3",
           "#FF6692",
           "#B6E880",
           "#FF97FF",
           "#FECB52"
          ],
          "font": {
           "color": "#2a3f5f"
          },
          "geo": {
           "bgcolor": "white",
           "lakecolor": "white",
           "landcolor": "#E5ECF6",
           "showlakes": true,
           "showland": true,
           "subunitcolor": "white"
          },
          "hoverlabel": {
           "align": "left"
          },
          "hovermode": "closest",
          "mapbox": {
           "style": "light"
          },
          "paper_bgcolor": "white",
          "plot_bgcolor": "#E5ECF6",
          "polar": {
           "angularaxis": {
            "gridcolor": "white",
            "linecolor": "white",
            "ticks": ""
           },
           "bgcolor": "#E5ECF6",
           "radialaxis": {
            "gridcolor": "white",
            "linecolor": "white",
            "ticks": ""
           }
          },
          "scene": {
           "xaxis": {
            "backgroundcolor": "#E5ECF6",
            "gridcolor": "white",
            "gridwidth": 2,
            "linecolor": "white",
            "showbackground": true,
            "ticks": "",
            "zerolinecolor": "white"
           },
           "yaxis": {
            "backgroundcolor": "#E5ECF6",
            "gridcolor": "white",
            "gridwidth": 2,
            "linecolor": "white",
            "showbackground": true,
            "ticks": "",
            "zerolinecolor": "white"
           },
           "zaxis": {
            "backgroundcolor": "#E5ECF6",
            "gridcolor": "white",
            "gridwidth": 2,
            "linecolor": "white",
            "showbackground": true,
            "ticks": "",
            "zerolinecolor": "white"
           }
          },
          "shapedefaults": {
           "line": {
            "color": "#2a3f5f"
           }
          },
          "ternary": {
           "aaxis": {
            "gridcolor": "white",
            "linecolor": "white",
            "ticks": ""
           },
           "baxis": {
            "gridcolor": "white",
            "linecolor": "white",
            "ticks": ""
           },
           "bgcolor": "#E5ECF6",
           "caxis": {
            "gridcolor": "white",
            "linecolor": "white",
            "ticks": ""
           }
          },
          "title": {
           "x": 0.05
          },
          "xaxis": {
           "automargin": true,
           "gridcolor": "white",
           "linecolor": "white",
           "ticks": "",
           "title": {
            "standoff": 15
           },
           "zerolinecolor": "white",
           "zerolinewidth": 2
          },
          "yaxis": {
           "automargin": true,
           "gridcolor": "white",
           "linecolor": "white",
           "ticks": "",
           "title": {
            "standoff": 15
           },
           "zerolinecolor": "white",
           "zerolinewidth": 2
          }
         }
        },
        "title": {
         "text": "Malaria Incidence Rate in Africa"
        },
        "updatemenus": [
         {
          "buttons": [
           {
            "args": [
             null,
             {
              "frame": {
               "duration": 500,
               "redraw": true
              },
              "fromcurrent": true,
              "mode": "immediate",
              "transition": {
               "duration": 500,
               "easing": "linear"
              }
             }
            ],
            "label": "&#9654;",
            "method": "animate"
           },
           {
            "args": [
             [
              null
             ],
             {
              "frame": {
               "duration": 0,
               "redraw": true
              },
              "fromcurrent": true,
              "mode": "immediate",
              "transition": {
               "duration": 0,
               "easing": "linear"
              }
             }
            ],
            "label": "&#9724;",
            "method": "animate"
           }
          ],
          "direction": "left",
          "pad": {
           "r": 10,
           "t": 70
          },
          "showactive": false,
          "type": "buttons",
          "x": 0.1,
          "xanchor": "right",
          "y": 0,
          "yanchor": "top"
         }
        ]
       }
      },
      "text/html": [
       "<div>                            <div id=\"28d25ff5-7ef0-4cdc-a30e-db408fa0e2f6\" class=\"plotly-graph-div\" style=\"height:525px; width:100%;\"></div>            <script type=\"text/javascript\">                require([\"plotly\"], function(Plotly) {                    window.PLOTLYENV=window.PLOTLYENV || {};                                    if (document.getElementById(\"28d25ff5-7ef0-4cdc-a30e-db408fa0e2f6\")) {                    Plotly.newPlot(                        \"28d25ff5-7ef0-4cdc-a30e-db408fa0e2f6\",                        [{\"coloraxis\":\"coloraxis\",\"customdata\":[[170.528639164104],[169.149489144511],[414.681516736922],[560.269703448359],[2.47151091417165],[409.631575763183],[464.946223509612],[297.17133414959403],[385.374694902412],[215.016956566321],[206.65620461106295],[0.340043029178498],[2.83081732674666],[1.09578186790296e-15],[12.2054373314182],[156.33955073072102],[171.311491759761],[369.45788097368],[412.080600133526],[287.561331144649],[123.085928892066],[287.322448812358],[65.5828439728554],[322.42163339547903],[3.1896543834930503e-19],[90.9954851063694],[371.58024708897],[370.821106787606],[67.2833396109472],[373.291328210963],[0.0],[1.89209792046845],[345.84025477726397],[373.054855943521],[70.9923234470929],[33.0444099351249],[127.479818215246],[446.50789162515497],[41.281929009611],[280.650905173661],[29.9567407603664],[2.79289176355178],[1.88966610340674],[239.438938309324],[309.479099705331],[145.969950636519],[406.520001435192],[0.532456588443035],[165.32635102339],[154.955133605989]],\"geo\":\"geo\",\"hovertemplate\":\"<b>%{hovertext}</b><br><br>Year=2010<br>ISO3=%{location}<br>Value=%{z}<extra></extra>\",\"hovertext\":[\"Angola\",\"Burundi\",\"Benin\",\"Burkina Faso\",\"Botswana\",\"Central African Republic\",\"C\\u00f4te d'Ivoire\",\"Cameroon\",\"Democratic Republic of the Congo\",\"Congo\",\"Comoros\",\"Cape Verde\",\"Djibouti\",\"Algeria\",\"Eritrea\",\"Ethiopia\",\"Gabon\",\"Ghana\",\"Guinea\",\"Gambia\",\"Guinea-Bissau\",\"Equatorial Guinea\",\"Kenya\",\"Liberia\",\"Morocco\",\"Madagascar\",\"Mali\",\"Mozambique\",\"Mauritania\",\"Malawi\",\"Mayotte\",\"Namibia\",\"Niger\",\"Nigeria\",\"Rwanda\",\"Sudan\",\"Senegal\",\"Sierra Leone\",\"Somalia\",\"South Sudan\",\"Sao Tome And Principe\",\"Suriname\",\"Eswatini\",\"Chad\",\"Togo\",\"Tanzania\",\"Uganda\",\"South Africa\",\"Zambia\",\"Zimbabwe\"],\"locationmode\":\"ISO-3\",\"locations\":[\"AGO\",\"BDI\",\"BEN\",\"BFA\",\"BWA\",\"CAF\",\"CIV\",\"CMR\",\"COD\",\"COG\",\"COM\",\"CPV\",\"DJI\",\"DZA\",\"ERI\",\"ETH\",\"GAB\",\"GHA\",\"GIN\",\"GMB\",\"GNB\",\"GNQ\",\"KEN\",\"LBR\",\"MAR\",\"MDG\",\"MLI\",\"MOZ\",\"MRT\",\"MWI\",\"MYT\",\"NAM\",\"NER\",\"NGA\",\"RWA\",\"SDN\",\"SEN\",\"SLE\",\"SOM\",\"SSD\",\"STP\",\"SUR\",\"SWZ\",\"TCD\",\"TGO\",\"TZA\",\"UGA\",\"ZAF\",\"ZMB\",\"ZWE\"],\"name\":\"\",\"z\":[170.528639164104,169.149489144511,414.681516736922,560.269703448359,2.47151091417165,409.631575763183,464.946223509612,297.17133414959403,385.374694902412,215.016956566321,206.65620461106295,0.340043029178498,2.83081732674666,1.09578186790296e-15,12.2054373314182,156.33955073072102,171.311491759761,369.45788097368,412.080600133526,287.561331144649,123.085928892066,287.322448812358,65.5828439728554,322.42163339547903,3.1896543834930503e-19,90.9954851063694,371.58024708897,370.821106787606,67.2833396109472,373.291328210963,0.0,1.89209792046845,345.84025477726397,373.054855943521,70.9923234470929,33.0444099351249,127.479818215246,446.50789162515497,41.281929009611,280.650905173661,29.9567407603664,2.79289176355178,1.88966610340674,239.438938309324,309.479099705331,145.969950636519,406.520001435192,0.532456588443035,165.32635102339,154.955133605989],\"type\":\"choropleth\"}],                        {\"template\":{\"data\":{\"histogram2dcontour\":[{\"type\":\"histogram2dcontour\",\"colorbar\":{\"outlinewidth\":0,\"ticks\":\"\"},\"colorscale\":[[0.0,\"#0d0887\"],[0.1111111111111111,\"#46039f\"],[0.2222222222222222,\"#7201a8\"],[0.3333333333333333,\"#9c179e\"],[0.4444444444444444,\"#bd3786\"],[0.5555555555555556,\"#d8576b\"],[0.6666666666666666,\"#ed7953\"],[0.7777777777777778,\"#fb9f3a\"],[0.8888888888888888,\"#fdca26\"],[1.0,\"#f0f921\"]]}],\"choropleth\":[{\"type\":\"choropleth\",\"colorbar\":{\"outlinewidth\":0,\"ticks\":\"\"}}],\"histogram2d\":[{\"type\":\"histogram2d\",\"colorbar\":{\"outlinewidth\":0,\"ticks\":\"\"},\"colorscale\":[[0.0,\"#0d0887\"],[0.1111111111111111,\"#46039f\"],[0.2222222222222222,\"#7201a8\"],[0.3333333333333333,\"#9c179e\"],[0.4444444444444444,\"#bd3786\"],[0.5555555555555556,\"#d8576b\"],[0.6666666666666666,\"#ed7953\"],[0.7777777777777778,\"#fb9f3a\"],[0.8888888888888888,\"#fdca26\"],[1.0,\"#f0f921\"]]}],\"heatmap\":[{\"type\":\"heatmap\",\"colorbar\":{\"outlinewidth\":0,\"ticks\":\"\"},\"colorscale\":[[0.0,\"#0d0887\"],[0.1111111111111111,\"#46039f\"],[0.2222222222222222,\"#7201a8\"],[0.3333333333333333,\"#9c179e\"],[0.4444444444444444,\"#bd3786\"],[0.5555555555555556,\"#d8576b\"],[0.6666666666666666,\"#ed7953\"],[0.7777777777777778,\"#fb9f3a\"],[0.8888888888888888,\"#fdca26\"],[1.0,\"#f0f921\"]]}],\"heatmapgl\":[{\"type\":\"heatmapgl\",\"colorbar\":{\"outlinewidth\":0,\"ticks\":\"\"},\"colorscale\":[[0.0,\"#0d0887\"],[0.1111111111111111,\"#46039f\"],[0.2222222222222222,\"#7201a8\"],[0.3333333333333333,\"#9c179e\"],[0.4444444444444444,\"#bd3786\"],[0.5555555555555556,\"#d8576b\"],[0.6666666666666666,\"#ed7953\"],[0.7777777777777778,\"#fb9f3a\"],[0.8888888888888888,\"#fdca26\"],[1.0,\"#f0f921\"]]}],\"contourcarpet\":[{\"type\":\"contourcarpet\",\"colorbar\":{\"outlinewidth\":0,\"ticks\":\"\"}}],\"contour\":[{\"type\":\"contour\",\"colorbar\":{\"outlinewidth\":0,\"ticks\":\"\"},\"colorscale\":[[0.0,\"#0d0887\"],[0.1111111111111111,\"#46039f\"],[0.2222222222222222,\"#7201a8\"],[0.3333333333333333,\"#9c179e\"],[0.4444444444444444,\"#bd3786\"],[0.5555555555555556,\"#d8576b\"],[0.6666666666666666,\"#ed7953\"],[0.7777777777777778,\"#fb9f3a\"],[0.8888888888888888,\"#fdca26\"],[1.0,\"#f0f921\"]]}],\"surface\":[{\"type\":\"surface\",\"colorbar\":{\"outlinewidth\":0,\"ticks\":\"\"},\"colorscale\":[[0.0,\"#0d0887\"],[0.1111111111111111,\"#46039f\"],[0.2222222222222222,\"#7201a8\"],[0.3333333333333333,\"#9c179e\"],[0.4444444444444444,\"#bd3786\"],[0.5555555555555556,\"#d8576b\"],[0.6666666666666666,\"#ed7953\"],[0.7777777777777778,\"#fb9f3a\"],[0.8888888888888888,\"#fdca26\"],[1.0,\"#f0f921\"]]}],\"mesh3d\":[{\"type\":\"mesh3d\",\"colorbar\":{\"outlinewidth\":0,\"ticks\":\"\"}}],\"scatter\":[{\"fillpattern\":{\"fillmode\":\"overlay\",\"size\":10,\"solidity\":0.2},\"type\":\"scatter\"}],\"parcoords\":[{\"type\":\"parcoords\",\"line\":{\"colorbar\":{\"outlinewidth\":0,\"ticks\":\"\"}}}],\"scatterpolargl\":[{\"type\":\"scatterpolargl\",\"marker\":{\"colorbar\":{\"outlinewidth\":0,\"ticks\":\"\"}}}],\"bar\":[{\"error_x\":{\"color\":\"#2a3f5f\"},\"error_y\":{\"color\":\"#2a3f5f\"},\"marker\":{\"line\":{\"color\":\"#E5ECF6\",\"width\":0.5},\"pattern\":{\"fillmode\":\"overlay\",\"size\":10,\"solidity\":0.2}},\"type\":\"bar\"}],\"scattergeo\":[{\"type\":\"scattergeo\",\"marker\":{\"colorbar\":{\"outlinewidth\":0,\"ticks\":\"\"}}}],\"scatterpolar\":[{\"type\":\"scatterpolar\",\"marker\":{\"colorbar\":{\"outlinewidth\":0,\"ticks\":\"\"}}}],\"histogram\":[{\"marker\":{\"pattern\":{\"fillmode\":\"overlay\",\"size\":10,\"solidity\":0.2}},\"type\":\"histogram\"}],\"scattergl\":[{\"type\":\"scattergl\",\"marker\":{\"colorbar\":{\"outlinewidth\":0,\"ticks\":\"\"}}}],\"scatter3d\":[{\"type\":\"scatter3d\",\"line\":{\"colorbar\":{\"outlinewidth\":0,\"ticks\":\"\"}},\"marker\":{\"colorbar\":{\"outlinewidth\":0,\"ticks\":\"\"}}}],\"scattermapbox\":[{\"type\":\"scattermapbox\",\"marker\":{\"colorbar\":{\"outlinewidth\":0,\"ticks\":\"\"}}}],\"scatterternary\":[{\"type\":\"scatterternary\",\"marker\":{\"colorbar\":{\"outlinewidth\":0,\"ticks\":\"\"}}}],\"scattercarpet\":[{\"type\":\"scattercarpet\",\"marker\":{\"colorbar\":{\"outlinewidth\":0,\"ticks\":\"\"}}}],\"carpet\":[{\"aaxis\":{\"endlinecolor\":\"#2a3f5f\",\"gridcolor\":\"white\",\"linecolor\":\"white\",\"minorgridcolor\":\"white\",\"startlinecolor\":\"#2a3f5f\"},\"baxis\":{\"endlinecolor\":\"#2a3f5f\",\"gridcolor\":\"white\",\"linecolor\":\"white\",\"minorgridcolor\":\"white\",\"startlinecolor\":\"#2a3f5f\"},\"type\":\"carpet\"}],\"table\":[{\"cells\":{\"fill\":{\"color\":\"#EBF0F8\"},\"line\":{\"color\":\"white\"}},\"header\":{\"fill\":{\"color\":\"#C8D4E3\"},\"line\":{\"color\":\"white\"}},\"type\":\"table\"}],\"barpolar\":[{\"marker\":{\"line\":{\"color\":\"#E5ECF6\",\"width\":0.5},\"pattern\":{\"fillmode\":\"overlay\",\"size\":10,\"solidity\":0.2}},\"type\":\"barpolar\"}],\"pie\":[{\"automargin\":true,\"type\":\"pie\"}]},\"layout\":{\"autotypenumbers\":\"strict\",\"colorway\":[\"#636efa\",\"#EF553B\",\"#00cc96\",\"#ab63fa\",\"#FFA15A\",\"#19d3f3\",\"#FF6692\",\"#B6E880\",\"#FF97FF\",\"#FECB52\"],\"font\":{\"color\":\"#2a3f5f\"},\"hovermode\":\"closest\",\"hoverlabel\":{\"align\":\"left\"},\"paper_bgcolor\":\"white\",\"plot_bgcolor\":\"#E5ECF6\",\"polar\":{\"bgcolor\":\"#E5ECF6\",\"angularaxis\":{\"gridcolor\":\"white\",\"linecolor\":\"white\",\"ticks\":\"\"},\"radialaxis\":{\"gridcolor\":\"white\",\"linecolor\":\"white\",\"ticks\":\"\"}},\"ternary\":{\"bgcolor\":\"#E5ECF6\",\"aaxis\":{\"gridcolor\":\"white\",\"linecolor\":\"white\",\"ticks\":\"\"},\"baxis\":{\"gridcolor\":\"white\",\"linecolor\":\"white\",\"ticks\":\"\"},\"caxis\":{\"gridcolor\":\"white\",\"linecolor\":\"white\",\"ticks\":\"\"}},\"coloraxis\":{\"colorbar\":{\"outlinewidth\":0,\"ticks\":\"\"}},\"colorscale\":{\"sequential\":[[0.0,\"#0d0887\"],[0.1111111111111111,\"#46039f\"],[0.2222222222222222,\"#7201a8\"],[0.3333333333333333,\"#9c179e\"],[0.4444444444444444,\"#bd3786\"],[0.5555555555555556,\"#d8576b\"],[0.6666666666666666,\"#ed7953\"],[0.7777777777777778,\"#fb9f3a\"],[0.8888888888888888,\"#fdca26\"],[1.0,\"#f0f921\"]],\"sequentialminus\":[[0.0,\"#0d0887\"],[0.1111111111111111,\"#46039f\"],[0.2222222222222222,\"#7201a8\"],[0.3333333333333333,\"#9c179e\"],[0.4444444444444444,\"#bd3786\"],[0.5555555555555556,\"#d8576b\"],[0.6666666666666666,\"#ed7953\"],[0.7777777777777778,\"#fb9f3a\"],[0.8888888888888888,\"#fdca26\"],[1.0,\"#f0f921\"]],\"diverging\":[[0,\"#8e0152\"],[0.1,\"#c51b7d\"],[0.2,\"#de77ae\"],[0.3,\"#f1b6da\"],[0.4,\"#fde0ef\"],[0.5,\"#f7f7f7\"],[0.6,\"#e6f5d0\"],[0.7,\"#b8e186\"],[0.8,\"#7fbc41\"],[0.9,\"#4d9221\"],[1,\"#276419\"]]},\"xaxis\":{\"gridcolor\":\"white\",\"linecolor\":\"white\",\"ticks\":\"\",\"title\":{\"standoff\":15},\"zerolinecolor\":\"white\",\"automargin\":true,\"zerolinewidth\":2},\"yaxis\":{\"gridcolor\":\"white\",\"linecolor\":\"white\",\"ticks\":\"\",\"title\":{\"standoff\":15},\"zerolinecolor\":\"white\",\"automargin\":true,\"zerolinewidth\":2},\"scene\":{\"xaxis\":{\"backgroundcolor\":\"#E5ECF6\",\"gridcolor\":\"white\",\"linecolor\":\"white\",\"showbackground\":true,\"ticks\":\"\",\"zerolinecolor\":\"white\",\"gridwidth\":2},\"yaxis\":{\"backgroundcolor\":\"#E5ECF6\",\"gridcolor\":\"white\",\"linecolor\":\"white\",\"showbackground\":true,\"ticks\":\"\",\"zerolinecolor\":\"white\",\"gridwidth\":2},\"zaxis\":{\"backgroundcolor\":\"#E5ECF6\",\"gridcolor\":\"white\",\"linecolor\":\"white\",\"showbackground\":true,\"ticks\":\"\",\"zerolinecolor\":\"white\",\"gridwidth\":2}},\"shapedefaults\":{\"line\":{\"color\":\"#2a3f5f\"}},\"annotationdefaults\":{\"arrowcolor\":\"#2a3f5f\",\"arrowhead\":0,\"arrowwidth\":1},\"geo\":{\"bgcolor\":\"white\",\"landcolor\":\"#E5ECF6\",\"subunitcolor\":\"white\",\"showland\":true,\"showlakes\":true,\"lakecolor\":\"white\"},\"title\":{\"x\":0.05},\"mapbox\":{\"style\":\"light\"}}},\"geo\":{\"domain\":{\"x\":[0.0,1.0],\"y\":[0.0,1.0]},\"center\":{},\"scope\":\"africa\",\"showcoastlines\":true,\"coastlinecolor\":\"Gray\",\"showland\":true,\"landcolor\":\"white\"},\"coloraxis\":{\"colorbar\":{\"title\":{\"text\":\"Value\"}},\"colorscale\":[[0.0,\"rgb(255,255,204)\"],[0.125,\"rgb(255,237,160)\"],[0.25,\"rgb(254,217,118)\"],[0.375,\"rgb(254,178,76)\"],[0.5,\"rgb(253,141,60)\"],[0.625,\"rgb(252,78,42)\"],[0.75,\"rgb(227,26,28)\"],[0.875,\"rgb(189,0,38)\"],[1.0,\"rgb(128,0,38)\"]],\"cmin\":0,\"cmax\":560.269703448359},\"legend\":{\"tracegroupgap\":0},\"title\":{\"text\":\"Malaria Incidence Rate in Africa\"},\"updatemenus\":[{\"buttons\":[{\"args\":[null,{\"frame\":{\"duration\":500,\"redraw\":true},\"mode\":\"immediate\",\"fromcurrent\":true,\"transition\":{\"duration\":500,\"easing\":\"linear\"}}],\"label\":\"&#9654;\",\"method\":\"animate\"},{\"args\":[[null],{\"frame\":{\"duration\":0,\"redraw\":true},\"mode\":\"immediate\",\"fromcurrent\":true,\"transition\":{\"duration\":0,\"easing\":\"linear\"}}],\"label\":\"&#9724;\",\"method\":\"animate\"}],\"direction\":\"left\",\"pad\":{\"r\":10,\"t\":70},\"showactive\":false,\"type\":\"buttons\",\"x\":0.1,\"xanchor\":\"right\",\"y\":0,\"yanchor\":\"top\"}],\"sliders\":[{\"active\":0,\"currentvalue\":{\"prefix\":\"Year=\"},\"len\":0.9,\"pad\":{\"b\":10,\"t\":60},\"steps\":[{\"args\":[[\"2010\"],{\"frame\":{\"duration\":0,\"redraw\":true},\"mode\":\"immediate\",\"fromcurrent\":true,\"transition\":{\"duration\":0,\"easing\":\"linear\"}}],\"label\":\"2010\",\"method\":\"animate\"},{\"args\":[[\"2011\"],{\"frame\":{\"duration\":0,\"redraw\":true},\"mode\":\"immediate\",\"fromcurrent\":true,\"transition\":{\"duration\":0,\"easing\":\"linear\"}}],\"label\":\"2011\",\"method\":\"animate\"},{\"args\":[[\"2012\"],{\"frame\":{\"duration\":0,\"redraw\":true},\"mode\":\"immediate\",\"fromcurrent\":true,\"transition\":{\"duration\":0,\"easing\":\"linear\"}}],\"label\":\"2012\",\"method\":\"animate\"},{\"args\":[[\"2013\"],{\"frame\":{\"duration\":0,\"redraw\":true},\"mode\":\"immediate\",\"fromcurrent\":true,\"transition\":{\"duration\":0,\"easing\":\"linear\"}}],\"label\":\"2013\",\"method\":\"animate\"},{\"args\":[[\"2014\"],{\"frame\":{\"duration\":0,\"redraw\":true},\"mode\":\"immediate\",\"fromcurrent\":true,\"transition\":{\"duration\":0,\"easing\":\"linear\"}}],\"label\":\"2014\",\"method\":\"animate\"},{\"args\":[[\"2015\"],{\"frame\":{\"duration\":0,\"redraw\":true},\"mode\":\"immediate\",\"fromcurrent\":true,\"transition\":{\"duration\":0,\"easing\":\"linear\"}}],\"label\":\"2015\",\"method\":\"animate\"},{\"args\":[[\"2016\"],{\"frame\":{\"duration\":0,\"redraw\":true},\"mode\":\"immediate\",\"fromcurrent\":true,\"transition\":{\"duration\":0,\"easing\":\"linear\"}}],\"label\":\"2016\",\"method\":\"animate\"},{\"args\":[[\"2017\"],{\"frame\":{\"duration\":0,\"redraw\":true},\"mode\":\"immediate\",\"fromcurrent\":true,\"transition\":{\"duration\":0,\"easing\":\"linear\"}}],\"label\":\"2017\",\"method\":\"animate\"},{\"args\":[[\"2018\"],{\"frame\":{\"duration\":0,\"redraw\":true},\"mode\":\"immediate\",\"fromcurrent\":true,\"transition\":{\"duration\":0,\"easing\":\"linear\"}}],\"label\":\"2018\",\"method\":\"animate\"},{\"args\":[[\"2019\"],{\"frame\":{\"duration\":0,\"redraw\":true},\"mode\":\"immediate\",\"fromcurrent\":true,\"transition\":{\"duration\":0,\"easing\":\"linear\"}}],\"label\":\"2019\",\"method\":\"animate\"},{\"args\":[[\"2020\"],{\"frame\":{\"duration\":0,\"redraw\":true},\"mode\":\"immediate\",\"fromcurrent\":true,\"transition\":{\"duration\":0,\"easing\":\"linear\"}}],\"label\":\"2020\",\"method\":\"animate\"},{\"args\":[[\"2021\"],{\"frame\":{\"duration\":0,\"redraw\":true},\"mode\":\"immediate\",\"fromcurrent\":true,\"transition\":{\"duration\":0,\"easing\":\"linear\"}}],\"label\":\"2021\",\"method\":\"animate\"},{\"args\":[[\"2022\"],{\"frame\":{\"duration\":0,\"redraw\":true},\"mode\":\"immediate\",\"fromcurrent\":true,\"transition\":{\"duration\":0,\"easing\":\"linear\"}}],\"label\":\"2022\",\"method\":\"animate\"}],\"x\":0.1,\"xanchor\":\"left\",\"y\":0,\"yanchor\":\"top\"}]},                        {\"responsive\": true}                    ).then(function(){\n",
       "                            Plotly.addFrames('28d25ff5-7ef0-4cdc-a30e-db408fa0e2f6', [{\"data\":[{\"coloraxis\":\"coloraxis\",\"customdata\":[[170.528639164104],[169.149489144511],[414.681516736922],[560.269703448359],[2.47151091417165],[409.631575763183],[464.946223509612],[297.17133414959403],[385.374694902412],[215.016956566321],[206.65620461106295],[0.340043029178498],[2.83081732674666],[1.09578186790296e-15],[12.2054373314182],[156.33955073072102],[171.311491759761],[369.45788097368],[412.080600133526],[287.561331144649],[123.085928892066],[287.322448812358],[65.5828439728554],[322.42163339547903],[3.1896543834930503e-19],[90.9954851063694],[371.58024708897],[370.821106787606],[67.2833396109472],[373.291328210963],[0.0],[1.89209792046845],[345.84025477726397],[373.054855943521],[70.9923234470929],[33.0444099351249],[127.479818215246],[446.50789162515497],[41.281929009611],[280.650905173661],[29.9567407603664],[2.79289176355178],[1.88966610340674],[239.438938309324],[309.479099705331],[145.969950636519],[406.520001435192],[0.532456588443035],[165.32635102339],[154.955133605989]],\"geo\":\"geo\",\"hovertemplate\":\"<b>%{hovertext}</b><br><br>Year=2010<br>ISO3=%{location}<br>Value=%{z}<extra></extra>\",\"hovertext\":[\"Angola\",\"Burundi\",\"Benin\",\"Burkina Faso\",\"Botswana\",\"Central African Republic\",\"C\\u00f4te d'Ivoire\",\"Cameroon\",\"Democratic Republic of the Congo\",\"Congo\",\"Comoros\",\"Cape Verde\",\"Djibouti\",\"Algeria\",\"Eritrea\",\"Ethiopia\",\"Gabon\",\"Ghana\",\"Guinea\",\"Gambia\",\"Guinea-Bissau\",\"Equatorial Guinea\",\"Kenya\",\"Liberia\",\"Morocco\",\"Madagascar\",\"Mali\",\"Mozambique\",\"Mauritania\",\"Malawi\",\"Mayotte\",\"Namibia\",\"Niger\",\"Nigeria\",\"Rwanda\",\"Sudan\",\"Senegal\",\"Sierra Leone\",\"Somalia\",\"South Sudan\",\"Sao Tome And Principe\",\"Suriname\",\"Eswatini\",\"Chad\",\"Togo\",\"Tanzania\",\"Uganda\",\"South Africa\",\"Zambia\",\"Zimbabwe\"],\"locationmode\":\"ISO-3\",\"locations\":[\"AGO\",\"BDI\",\"BEN\",\"BFA\",\"BWA\",\"CAF\",\"CIV\",\"CMR\",\"COD\",\"COG\",\"COM\",\"CPV\",\"DJI\",\"DZA\",\"ERI\",\"ETH\",\"GAB\",\"GHA\",\"GIN\",\"GMB\",\"GNB\",\"GNQ\",\"KEN\",\"LBR\",\"MAR\",\"MDG\",\"MLI\",\"MOZ\",\"MRT\",\"MWI\",\"MYT\",\"NAM\",\"NER\",\"NGA\",\"RWA\",\"SDN\",\"SEN\",\"SLE\",\"SOM\",\"SSD\",\"STP\",\"SUR\",\"SWZ\",\"TCD\",\"TGO\",\"TZA\",\"UGA\",\"ZAF\",\"ZMB\",\"ZWE\"],\"name\":\"\",\"z\":[170.528639164104,169.149489144511,414.681516736922,560.269703448359,2.47151091417165,409.631575763183,464.946223509612,297.17133414959403,385.374694902412,215.016956566321,206.65620461106295,0.340043029178498,2.83081732674666,1.09578186790296e-15,12.2054373314182,156.33955073072102,171.311491759761,369.45788097368,412.080600133526,287.561331144649,123.085928892066,287.322448812358,65.5828439728554,322.42163339547903,3.1896543834930503e-19,90.9954851063694,371.58024708897,370.821106787606,67.2833396109472,373.291328210963,0.0,1.89209792046845,345.84025477726397,373.054855943521,70.9923234470929,33.0444099351249,127.479818215246,446.50789162515497,41.281929009611,280.650905173661,29.9567407603664,2.79289176355178,1.88966610340674,239.438938309324,309.479099705331,145.969950636519,406.520001435192,0.532456588443035,165.32635102339,154.955133605989],\"type\":\"choropleth\"}],\"name\":\"2010\"},{\"data\":[{\"coloraxis\":\"coloraxis\",\"customdata\":[[156.72034170101702],[163.574248874801],[382.572767760647],[542.1844197948529],[0.7990053317174399],[397.7336108565139],[461.457696456553],[265.68538154254003],[361.858198491598],[215.361140123327],[163.87066245078998],[0.0495311353078],[0.101790286295816],[5.882888182455132e-16],[15.848603205628],[126.374475924687],[188.815128083613],[374.540135912533],[425.81506059316297],[460.664946029491],[127.448571415357],[287.962583038255],[67.34675215348999],[307.93069648301304],[1.6265747923426902e-19],[83.89496989314469],[392.618441498426],[368.428853939031],[90.3561782347168],[363.35440064970896],[0.0],[2.40716095463497],[348.223224818599],[347.46896802892604],[71.0298903428755],[32.5298140373659],[103.595263123432],[436.345713457722],[33.8084326056559],[286.802270730113],[76.324084711701],[1.39724231600726],[1.43547456143898],[224.097014606663],[301.93841953135296],[132.38259532439102],[384.840089163899],[0.6880308193269661],[175.759593436511],[107.424674154693]],\"geo\":\"geo\",\"hovertemplate\":\"<b>%{hovertext}</b><br><br>Year=2011<br>ISO3=%{location}<br>Value=%{z}<extra></extra>\",\"hovertext\":[\"Angola\",\"Burundi\",\"Benin\",\"Burkina Faso\",\"Botswana\",\"Central African Republic\",\"C\\u00f4te d'Ivoire\",\"Cameroon\",\"Democratic Republic of the Congo\",\"Congo\",\"Comoros\",\"Cape Verde\",\"Djibouti\",\"Algeria\",\"Eritrea\",\"Ethiopia\",\"Gabon\",\"Ghana\",\"Guinea\",\"Gambia\",\"Guinea-Bissau\",\"Equatorial Guinea\",\"Kenya\",\"Liberia\",\"Morocco\",\"Madagascar\",\"Mali\",\"Mozambique\",\"Mauritania\",\"Malawi\",\"Mayotte\",\"Namibia\",\"Niger\",\"Nigeria\",\"Rwanda\",\"Sudan\",\"Senegal\",\"Sierra Leone\",\"Somalia\",\"South Sudan\",\"Sao Tome And Principe\",\"Suriname\",\"Eswatini\",\"Chad\",\"Togo\",\"Tanzania\",\"Uganda\",\"South Africa\",\"Zambia\",\"Zimbabwe\"],\"locationmode\":\"ISO-3\",\"locations\":[\"AGO\",\"BDI\",\"BEN\",\"BFA\",\"BWA\",\"CAF\",\"CIV\",\"CMR\",\"COD\",\"COG\",\"COM\",\"CPV\",\"DJI\",\"DZA\",\"ERI\",\"ETH\",\"GAB\",\"GHA\",\"GIN\",\"GMB\",\"GNB\",\"GNQ\",\"KEN\",\"LBR\",\"MAR\",\"MDG\",\"MLI\",\"MOZ\",\"MRT\",\"MWI\",\"MYT\",\"NAM\",\"NER\",\"NGA\",\"RWA\",\"SDN\",\"SEN\",\"SLE\",\"SOM\",\"SSD\",\"STP\",\"SUR\",\"SWZ\",\"TCD\",\"TGO\",\"TZA\",\"UGA\",\"ZAF\",\"ZMB\",\"ZWE\"],\"name\":\"\",\"z\":[156.72034170101702,163.574248874801,382.572767760647,542.1844197948529,0.7990053317174399,397.7336108565139,461.457696456553,265.68538154254003,361.858198491598,215.361140123327,163.87066245078998,0.0495311353078,0.101790286295816,5.882888182455132e-16,15.848603205628,126.374475924687,188.815128083613,374.540135912533,425.81506059316297,460.664946029491,127.448571415357,287.962583038255,67.34675215348999,307.93069648301304,1.6265747923426902e-19,83.89496989314469,392.618441498426,368.428853939031,90.3561782347168,363.35440064970896,0.0,2.40716095463497,348.223224818599,347.46896802892604,71.0298903428755,32.5298140373659,103.595263123432,436.345713457722,33.8084326056559,286.802270730113,76.324084711701,1.39724231600726,1.43547456143898,224.097014606663,301.93841953135296,132.38259532439102,384.840089163899,0.6880308193269661,175.759593436511,107.424674154693],\"type\":\"choropleth\"}],\"name\":\"2011\"},{\"data\":[{\"coloraxis\":\"coloraxis\",\"customdata\":[[153.04567217423502],[163.633904717758],[364.706090661041],[519.798730580462],[0.349755658260848],[387.107888499934],[374.609564158203],[255.65941907533],[334.43195122209903],[215.484817527018],[197.864746302366],[0.0062385693400906],[0.059569192805281],[0.00071578554298],[9.0237890802126],[144.052013354405],[196.492171741729],[363.40538875939],[429.405159002899],[493.89250822534495],[124.297307205905],[307.691400584711],[69.83200028131931],[292.654211231316],[2.02472208010982e-07],[86.0171933381911],[426.170890583854],[367.9085792087],[49.9796709613274],[318.506794094302],[0.0],[0.352094790400672],[345.575343989818],[325.991392813646],[60.7960026080368],[32.818014903158605],[116.339205897921],[426.006570720831],[34.2662059193741],[282.96763777587205],[113.134287596695],[1.01705680902764],[1.34175528045476],[212.52773785629304],[330.128225085301],[120.971810606374],[356.31248814835396],[0.514763185578388],[195.538535333912],[93.5468401606945]],\"geo\":\"geo\",\"hovertemplate\":\"<b>%{hovertext}</b><br><br>Year=2012<br>ISO3=%{location}<br>Value=%{z}<extra></extra>\",\"hovertext\":[\"Angola\",\"Burundi\",\"Benin\",\"Burkina Faso\",\"Botswana\",\"Central African Republic\",\"C\\u00f4te d'Ivoire\",\"Cameroon\",\"Democratic Republic of the Congo\",\"Congo\",\"Comoros\",\"Cape Verde\",\"Djibouti\",\"Algeria\",\"Eritrea\",\"Ethiopia\",\"Gabon\",\"Ghana\",\"Guinea\",\"Gambia\",\"Guinea-Bissau\",\"Equatorial Guinea\",\"Kenya\",\"Liberia\",\"Morocco\",\"Madagascar\",\"Mali\",\"Mozambique\",\"Mauritania\",\"Malawi\",\"Mayotte\",\"Namibia\",\"Niger\",\"Nigeria\",\"Rwanda\",\"Sudan\",\"Senegal\",\"Sierra Leone\",\"Somalia\",\"South Sudan\",\"Sao Tome And Principe\",\"Suriname\",\"Eswatini\",\"Chad\",\"Togo\",\"Tanzania\",\"Uganda\",\"South Africa\",\"Zambia\",\"Zimbabwe\"],\"locationmode\":\"ISO-3\",\"locations\":[\"AGO\",\"BDI\",\"BEN\",\"BFA\",\"BWA\",\"CAF\",\"CIV\",\"CMR\",\"COD\",\"COG\",\"COM\",\"CPV\",\"DJI\",\"DZA\",\"ERI\",\"ETH\",\"GAB\",\"GHA\",\"GIN\",\"GMB\",\"GNB\",\"GNQ\",\"KEN\",\"LBR\",\"MAR\",\"MDG\",\"MLI\",\"MOZ\",\"MRT\",\"MWI\",\"MYT\",\"NAM\",\"NER\",\"NGA\",\"RWA\",\"SDN\",\"SEN\",\"SLE\",\"SOM\",\"SSD\",\"STP\",\"SUR\",\"SWZ\",\"TCD\",\"TGO\",\"TZA\",\"UGA\",\"ZAF\",\"ZMB\",\"ZWE\"],\"name\":\"\",\"z\":[153.04567217423502,163.633904717758,364.706090661041,519.798730580462,0.349755658260848,387.107888499934,374.609564158203,255.65941907533,334.43195122209903,215.484817527018,197.864746302366,0.0062385693400906,0.059569192805281,0.00071578554298,9.0237890802126,144.052013354405,196.492171741729,363.40538875939,429.405159002899,493.89250822534495,124.297307205905,307.691400584711,69.83200028131931,292.654211231316,2.02472208010982e-07,86.0171933381911,426.170890583854,367.9085792087,49.9796709613274,318.506794094302,0.0,0.352094790400672,345.575343989818,325.991392813646,60.7960026080368,32.818014903158605,116.339205897921,426.006570720831,34.2662059193741,282.96763777587205,113.134287596695,1.01705680902764,1.34175528045476,212.52773785629304,330.128225085301,120.971810606374,356.31248814835396,0.514763185578388,195.538535333912,93.5468401606945],\"type\":\"choropleth\"}],\"name\":\"2012\"},{\"data\":[{\"coloraxis\":\"coloraxis\",\"customdata\":[[156.94473700890498],[171.55797045189598],[360.63093231659],[480.391706739056],[0.821467476387445],[378.85822571925297],[287.646833002764],[263.610525564356],[308.01562061772705],[216.139893972278],[182.844682335854],[0.1138410775861119],[3.26747823614565],[7.493604421426669e-16],[6.17233665223083],[160.67713652332398],[202.177577430629],[339.038176914299],[411.172595414993],[425.27210274606296],[118.729331427563],[327.519670822632],[70.6096911715774],[294.785707573179],[2.0385384864995501e-19],[93.6756235846658],[441.468524118792],[366.15232059797296],[58.993712693539905],[283.77258983582897],[0.0],[5.9460446840520005],[343.445515764807],[307.39465865779],[50.6086436482328],[34.414893875183],[95.9379247927703],[409.526517159629],[40.2111488515686],[279.47195388234803],[91.1507259349595],[0.970861371483538],[3.12366798058088],[207.125669168827],[361.908040054153],[131.070120437154],[315.692145971929],[0.938991628068556],[223.455314468961],[134.115684137192]],\"geo\":\"geo\",\"hovertemplate\":\"<b>%{hovertext}</b><br><br>Year=2013<br>ISO3=%{location}<br>Value=%{z}<extra></extra>\",\"hovertext\":[\"Angola\",\"Burundi\",\"Benin\",\"Burkina Faso\",\"Botswana\",\"Central African Republic\",\"C\\u00f4te d'Ivoire\",\"Cameroon\",\"Democratic Republic of the Congo\",\"Congo\",\"Comoros\",\"Cape Verde\",\"Djibouti\",\"Algeria\",\"Eritrea\",\"Ethiopia\",\"Gabon\",\"Ghana\",\"Guinea\",\"Gambia\",\"Guinea-Bissau\",\"Equatorial Guinea\",\"Kenya\",\"Liberia\",\"Morocco\",\"Madagascar\",\"Mali\",\"Mozambique\",\"Mauritania\",\"Malawi\",\"Mayotte\",\"Namibia\",\"Niger\",\"Nigeria\",\"Rwanda\",\"Sudan\",\"Senegal\",\"Sierra Leone\",\"Somalia\",\"South Sudan\",\"Sao Tome And Principe\",\"Suriname\",\"Eswatini\",\"Chad\",\"Togo\",\"Tanzania\",\"Uganda\",\"South Africa\",\"Zambia\",\"Zimbabwe\"],\"locationmode\":\"ISO-3\",\"locations\":[\"AGO\",\"BDI\",\"BEN\",\"BFA\",\"BWA\",\"CAF\",\"CIV\",\"CMR\",\"COD\",\"COG\",\"COM\",\"CPV\",\"DJI\",\"DZA\",\"ERI\",\"ETH\",\"GAB\",\"GHA\",\"GIN\",\"GMB\",\"GNB\",\"GNQ\",\"KEN\",\"LBR\",\"MAR\",\"MDG\",\"MLI\",\"MOZ\",\"MRT\",\"MWI\",\"MYT\",\"NAM\",\"NER\",\"NGA\",\"RWA\",\"SDN\",\"SEN\",\"SLE\",\"SOM\",\"SSD\",\"STP\",\"SUR\",\"SWZ\",\"TCD\",\"TGO\",\"TZA\",\"UGA\",\"ZAF\",\"ZMB\",\"ZWE\"],\"name\":\"\",\"z\":[156.94473700890498,171.55797045189598,360.63093231659,480.391706739056,0.821467476387445,378.85822571925297,287.646833002764,263.610525564356,308.01562061772705,216.139893972278,182.844682335854,0.1138410775861119,3.26747823614565,7.493604421426669e-16,6.17233665223083,160.67713652332398,202.177577430629,339.038176914299,411.172595414993,425.27210274606296,118.729331427563,327.519670822632,70.6096911715774,294.785707573179,2.0385384864995501e-19,93.6756235846658,441.468524118792,366.15232059797296,58.993712693539905,283.77258983582897,0.0,5.9460446840520005,343.445515764807,307.39465865779,50.6086436482328,34.414893875183,95.9379247927703,409.526517159629,40.2111488515686,279.47195388234803,91.1507259349595,0.970861371483538,3.12366798058088,207.125669168827,361.908040054153,131.070120437154,315.692145971929,0.938991628068556,223.455314468961,134.115684137192],\"type\":\"choropleth\"}],\"name\":\"2013\"},{\"data\":[{\"coloraxis\":\"coloraxis\",\"customdata\":[[164.041126850167],[179.15183743350897],[366.868776221183],[443.061107329034],[2.24373983725935],[370.774860306137],[257.982830282941],[265.31368267979997],[295.041358887949],[209.930082030757],[8.19382187910378],[0.134457066869397],[27.1872675301902],[0.0],[15.5814795738565],[80.03925746568571],[198.712870916796],[307.699715680932],[394.418576447097],[264.885296937599],[104.258686938464],[327.504434174677],[70.6208442633442],[315.466340197903],[0.0],[97.0713945170247],[416.843522477759],[356.843092522643],[109.663777562309],[256.800970046616],[0.0],[19.5380409358638],[338.902715989026],[297.422350307639],[47.7344785127407],[38.099843360382195],[60.3195725239488],[391.224460783308],[46.4545961880848],[271.094142234081],[17.1586968819652],[0.9286038602651768],[1.2760386957918],[210.983040022702],[364.323849288265],[144.85170506723998],[293.306680431279],[0.97295687787822],[228.647596957489],[165.458028872301]],\"geo\":\"geo\",\"hovertemplate\":\"<b>%{hovertext}</b><br><br>Year=2014<br>ISO3=%{location}<br>Value=%{z}<extra></extra>\",\"hovertext\":[\"Angola\",\"Burundi\",\"Benin\",\"Burkina Faso\",\"Botswana\",\"Central African Republic\",\"C\\u00f4te d'Ivoire\",\"Cameroon\",\"Democratic Republic of the Congo\",\"Congo\",\"Comoros\",\"Cape Verde\",\"Djibouti\",\"Algeria\",\"Eritrea\",\"Ethiopia\",\"Gabon\",\"Ghana\",\"Guinea\",\"Gambia\",\"Guinea-Bissau\",\"Equatorial Guinea\",\"Kenya\",\"Liberia\",\"Morocco\",\"Madagascar\",\"Mali\",\"Mozambique\",\"Mauritania\",\"Malawi\",\"Mayotte\",\"Namibia\",\"Niger\",\"Nigeria\",\"Rwanda\",\"Sudan\",\"Senegal\",\"Sierra Leone\",\"Somalia\",\"South Sudan\",\"Sao Tome And Principe\",\"Suriname\",\"Eswatini\",\"Chad\",\"Togo\",\"Tanzania\",\"Uganda\",\"South Africa\",\"Zambia\",\"Zimbabwe\"],\"locationmode\":\"ISO-3\",\"locations\":[\"AGO\",\"BDI\",\"BEN\",\"BFA\",\"BWA\",\"CAF\",\"CIV\",\"CMR\",\"COD\",\"COG\",\"COM\",\"CPV\",\"DJI\",\"DZA\",\"ERI\",\"ETH\",\"GAB\",\"GHA\",\"GIN\",\"GMB\",\"GNB\",\"GNQ\",\"KEN\",\"LBR\",\"MAR\",\"MDG\",\"MLI\",\"MOZ\",\"MRT\",\"MWI\",\"MYT\",\"NAM\",\"NER\",\"NGA\",\"RWA\",\"SDN\",\"SEN\",\"SLE\",\"SOM\",\"SSD\",\"STP\",\"SUR\",\"SWZ\",\"TCD\",\"TGO\",\"TZA\",\"UGA\",\"ZAF\",\"ZMB\",\"ZWE\"],\"name\":\"\",\"z\":[164.041126850167,179.15183743350897,366.868776221183,443.061107329034,2.24373983725935,370.774860306137,257.982830282941,265.31368267979997,295.041358887949,209.930082030757,8.19382187910378,0.134457066869397,27.1872675301902,0.0,15.5814795738565,80.03925746568571,198.712870916796,307.699715680932,394.418576447097,264.885296937599,104.258686938464,327.504434174677,70.6208442633442,315.466340197903,0.0,97.0713945170247,416.843522477759,356.843092522643,109.663777562309,256.800970046616,0.0,19.5380409358638,338.902715989026,297.422350307639,47.7344785127407,38.099843360382195,60.3195725239488,391.224460783308,46.4545961880848,271.094142234081,17.1586968819652,0.9286038602651768,1.2760386957918,210.983040022702,364.323849288265,144.85170506723998,293.306680431279,0.97295687787822,228.647596957489,165.458028872301],\"type\":\"choropleth\"}],\"name\":\"2014\"},{\"data\":[{\"coloraxis\":\"coloraxis\",\"customdata\":[[174.499634385672],[198.506747818672],[391.2965551156579],[409.480707564792],[0.543892886374424],[353.921407113811],[243.936970718339],[264.29215088686396],[298.88812794283797],[207.709416054907],[6.72491970937699],[0.0347894031151822],[25.7952344599366],[0.0],[9.52612006952165],[81.57116211161241],[188.801070665618],[270.710682442238],[383.313115649396],[346.03437385159805],[89.2416502940882],[325.620635323496],[69.2078830826312],[325.035060203373],[0.0],[92.7432408390509],[345.426415538792],[345.879425071762],[129.825966863465],[236.735970433368],[0.0],[10.9319057292935],[326.983624345993],[290.800354723328],[50.157231822296296],[41.6939365927263],[95.6820733877915],[377.602907824589],[55.049482285972],[266.709433444667],[17.5575233150213],[0.0906140534071283],[1.0107593143216],[210.545493212078],[350.66219073691303],[141.57952785263998],[264.44539885578797],[0.3728273552304589],[214.54611336836],[150.47711732516]],\"geo\":\"geo\",\"hovertemplate\":\"<b>%{hovertext}</b><br><br>Year=2015<br>ISO3=%{location}<br>Value=%{z}<extra></extra>\",\"hovertext\":[\"Angola\",\"Burundi\",\"Benin\",\"Burkina Faso\",\"Botswana\",\"Central African Republic\",\"C\\u00f4te d'Ivoire\",\"Cameroon\",\"Democratic Republic of the Congo\",\"Congo\",\"Comoros\",\"Cape Verde\",\"Djibouti\",\"Algeria\",\"Eritrea\",\"Ethiopia\",\"Gabon\",\"Ghana\",\"Guinea\",\"Gambia\",\"Guinea-Bissau\",\"Equatorial Guinea\",\"Kenya\",\"Liberia\",\"Morocco\",\"Madagascar\",\"Mali\",\"Mozambique\",\"Mauritania\",\"Malawi\",\"Mayotte\",\"Namibia\",\"Niger\",\"Nigeria\",\"Rwanda\",\"Sudan\",\"Senegal\",\"Sierra Leone\",\"Somalia\",\"South Sudan\",\"Sao Tome And Principe\",\"Suriname\",\"Eswatini\",\"Chad\",\"Togo\",\"Tanzania\",\"Uganda\",\"South Africa\",\"Zambia\",\"Zimbabwe\"],\"locationmode\":\"ISO-3\",\"locations\":[\"AGO\",\"BDI\",\"BEN\",\"BFA\",\"BWA\",\"CAF\",\"CIV\",\"CMR\",\"COD\",\"COG\",\"COM\",\"CPV\",\"DJI\",\"DZA\",\"ERI\",\"ETH\",\"GAB\",\"GHA\",\"GIN\",\"GMB\",\"GNB\",\"GNQ\",\"KEN\",\"LBR\",\"MAR\",\"MDG\",\"MLI\",\"MOZ\",\"MRT\",\"MWI\",\"MYT\",\"NAM\",\"NER\",\"NGA\",\"RWA\",\"SDN\",\"SEN\",\"SLE\",\"SOM\",\"SSD\",\"STP\",\"SUR\",\"SWZ\",\"TCD\",\"TGO\",\"TZA\",\"UGA\",\"ZAF\",\"ZMB\",\"ZWE\"],\"name\":\"\",\"z\":[174.499634385672,198.506747818672,391.2965551156579,409.480707564792,0.543892886374424,353.921407113811,243.936970718339,264.29215088686396,298.88812794283797,207.709416054907,6.72491970937699,0.0347894031151822,25.7952344599366,0.0,9.52612006952165,81.57116211161241,188.801070665618,270.710682442238,383.313115649396,346.03437385159805,89.2416502940882,325.620635323496,69.2078830826312,325.035060203373,0.0,92.7432408390509,345.426415538792,345.879425071762,129.825966863465,236.735970433368,0.0,10.9319057292935,326.983624345993,290.800354723328,50.157231822296296,41.6939365927263,95.6820733877915,377.602907824589,55.049482285972,266.709433444667,17.5575233150213,0.0906140534071283,1.0107593143216,210.545493212078,350.66219073691303,141.57952785263998,264.44539885578797,0.3728273552304589,214.54611336836,150.47711732516],\"type\":\"choropleth\"}],\"name\":\"2015\"},{\"data\":[{\"coloraxis\":\"coloraxis\",\"customdata\":[[187.862720380855],[232.337151949804],[420.480955396724],[360.895944792002],[1.31246641292217],[340.286460287459],[245.141906908453],[261.50579814961003],[305.811203941089],[214.297586334843],[5.14013942331076],[0.2456624444711949],[33.6637214476239],[0.0],[13.5647916112603],[63.5021451184246],[183.679823339277],[229.473488633415],[366.388447993376],[204.354120377427],[74.4563802380115],[306.561331891049],[64.9370949856526],[349.186960858158],[0.0],[89.8577852756908],[265.641677840743],[337.15078955641496],[161.78450063601],[221.601504957562],[0.0],[23.930897690705105],[308.158594135885],[284.264403200465],[56.7417665401405],[50.6266037719502],[63.67695640314471],[373.463927038922],[54.6723148576583],[258.66340925180197],[18.9156216313445],[0.0208405081529078],[0.8164403613859801],[209.92911063748],[318.492118497184],[134.75201104051098],[276.50560971359],[0.441627319281366],[200.090745488371],[110.836149247623]],\"geo\":\"geo\",\"hovertemplate\":\"<b>%{hovertext}</b><br><br>Year=2016<br>ISO3=%{location}<br>Value=%{z}<extra></extra>\",\"hovertext\":[\"Angola\",\"Burundi\",\"Benin\",\"Burkina Faso\",\"Botswana\",\"Central African Republic\",\"C\\u00f4te d'Ivoire\",\"Cameroon\",\"Democratic Republic of the Congo\",\"Congo\",\"Comoros\",\"Cape Verde\",\"Djibouti\",\"Algeria\",\"Eritrea\",\"Ethiopia\",\"Gabon\",\"Ghana\",\"Guinea\",\"Gambia\",\"Guinea-Bissau\",\"Equatorial Guinea\",\"Kenya\",\"Liberia\",\"Morocco\",\"Madagascar\",\"Mali\",\"Mozambique\",\"Mauritania\",\"Malawi\",\"Mayotte\",\"Namibia\",\"Niger\",\"Nigeria\",\"Rwanda\",\"Sudan\",\"Senegal\",\"Sierra Leone\",\"Somalia\",\"South Sudan\",\"Sao Tome And Principe\",\"Suriname\",\"Eswatini\",\"Chad\",\"Togo\",\"Tanzania\",\"Uganda\",\"South Africa\",\"Zambia\",\"Zimbabwe\"],\"locationmode\":\"ISO-3\",\"locations\":[\"AGO\",\"BDI\",\"BEN\",\"BFA\",\"BWA\",\"CAF\",\"CIV\",\"CMR\",\"COD\",\"COG\",\"COM\",\"CPV\",\"DJI\",\"DZA\",\"ERI\",\"ETH\",\"GAB\",\"GHA\",\"GIN\",\"GMB\",\"GNB\",\"GNQ\",\"KEN\",\"LBR\",\"MAR\",\"MDG\",\"MLI\",\"MOZ\",\"MRT\",\"MWI\",\"MYT\",\"NAM\",\"NER\",\"NGA\",\"RWA\",\"SDN\",\"SEN\",\"SLE\",\"SOM\",\"SSD\",\"STP\",\"SUR\",\"SWZ\",\"TCD\",\"TGO\",\"TZA\",\"UGA\",\"ZAF\",\"ZMB\",\"ZWE\"],\"name\":\"\",\"z\":[187.862720380855,232.337151949804,420.480955396724,360.895944792002,1.31246641292217,340.286460287459,245.141906908453,261.50579814961003,305.811203941089,214.297586334843,5.14013942331076,0.2456624444711949,33.6637214476239,0.0,13.5647916112603,63.5021451184246,183.679823339277,229.473488633415,366.388447993376,204.354120377427,74.4563802380115,306.561331891049,64.9370949856526,349.186960858158,0.0,89.8577852756908,265.641677840743,337.15078955641496,161.78450063601,221.601504957562,0.0,23.930897690705105,308.158594135885,284.264403200465,56.7417665401405,50.6266037719502,63.67695640314471,373.463927038922,54.6723148576583,258.66340925180197,18.9156216313445,0.0208405081529078,0.8164403613859801,209.92911063748,318.492118497184,134.75201104051098,276.50560971359,0.441627319281366,200.090745488371,110.836149247623],\"type\":\"choropleth\"}],\"name\":\"2016\"},{\"data\":[{\"coloraxis\":\"coloraxis\",\"customdata\":[[213.022318671321],[250.795780447647],[418.21129156979],[335.848355238161],[3.49532180261492],[336.51412129518],[254.675222926133],[249.294375376546],[316.215409708732],[231.693936033622],[13.369773197919098],[1.89305959012866],[26.346240430862498],[0.0],[14.4478382160457],[56.359085490686894],[179.939428364141],[194.366264844427],[358.718071056564],[98.8486588428154],[64.81434504222031],[284.16889023123997],[63.6040807176894],[365.415322910268],[0.0],[91.9631190398386],[224.860090351473],[326.309384082523],[124.302604136036],[216.129800463335],[0.0],[67.10768257711611],[300.026071910141],[289.565147324314],[64.7972395790986],[53.0418370896948],[70.2467680971567],[360.189488427073],[54.9015196511108],[269.30357098251],[18.3789106220968],[0.111932500109277],[1.4565607575742998],[212.060834749428],[270.946115213702],[123.910840567415],[271.507009539484],[2.18001812760451],[184.572641251927],[161.80048679682298]],\"geo\":\"geo\",\"hovertemplate\":\"<b>%{hovertext}</b><br><br>Year=2017<br>ISO3=%{location}<br>Value=%{z}<extra></extra>\",\"hovertext\":[\"Angola\",\"Burundi\",\"Benin\",\"Burkina Faso\",\"Botswana\",\"Central African Republic\",\"C\\u00f4te d'Ivoire\",\"Cameroon\",\"Democratic Republic of the Congo\",\"Congo\",\"Comoros\",\"Cape Verde\",\"Djibouti\",\"Algeria\",\"Eritrea\",\"Ethiopia\",\"Gabon\",\"Ghana\",\"Guinea\",\"Gambia\",\"Guinea-Bissau\",\"Equatorial Guinea\",\"Kenya\",\"Liberia\",\"Morocco\",\"Madagascar\",\"Mali\",\"Mozambique\",\"Mauritania\",\"Malawi\",\"Mayotte\",\"Namibia\",\"Niger\",\"Nigeria\",\"Rwanda\",\"Sudan\",\"Senegal\",\"Sierra Leone\",\"Somalia\",\"South Sudan\",\"Sao Tome And Principe\",\"Suriname\",\"Eswatini\",\"Chad\",\"Togo\",\"Tanzania\",\"Uganda\",\"South Africa\",\"Zambia\",\"Zimbabwe\"],\"locationmode\":\"ISO-3\",\"locations\":[\"AGO\",\"BDI\",\"BEN\",\"BFA\",\"BWA\",\"CAF\",\"CIV\",\"CMR\",\"COD\",\"COG\",\"COM\",\"CPV\",\"DJI\",\"DZA\",\"ERI\",\"ETH\",\"GAB\",\"GHA\",\"GIN\",\"GMB\",\"GNB\",\"GNQ\",\"KEN\",\"LBR\",\"MAR\",\"MDG\",\"MLI\",\"MOZ\",\"MRT\",\"MWI\",\"MYT\",\"NAM\",\"NER\",\"NGA\",\"RWA\",\"SDN\",\"SEN\",\"SLE\",\"SOM\",\"SSD\",\"STP\",\"SUR\",\"SWZ\",\"TCD\",\"TGO\",\"TZA\",\"UGA\",\"ZAF\",\"ZMB\",\"ZWE\"],\"name\":\"\",\"z\":[213.022318671321,250.795780447647,418.21129156979,335.848355238161,3.49532180261492,336.51412129518,254.675222926133,249.294375376546,316.215409708732,231.693936033622,13.369773197919098,1.89305959012866,26.346240430862498,0.0,14.4478382160457,56.359085490686894,179.939428364141,194.366264844427,358.718071056564,98.8486588428154,64.81434504222031,284.16889023123997,63.6040807176894,365.415322910268,0.0,91.9631190398386,224.860090351473,326.309384082523,124.302604136036,216.129800463335,0.0,67.10768257711611,300.026071910141,289.565147324314,64.7972395790986,53.0418370896948,70.2467680971567,360.189488427073,54.9015196511108,269.30357098251,18.3789106220968,0.111932500109277,1.4565607575742998,212.060834749428,270.946115213702,123.910840567415,271.507009539484,2.18001812760451,184.572641251927,161.80048679682298],\"type\":\"choropleth\"}],\"name\":\"2017\"},{\"data\":[{\"coloraxis\":\"coloraxis\",\"customdata\":[[229.367069975744],[287.604821964682],[405.045258601711],[319.02059849270995],[1.03142432771818],[334.99091201886597],[269.175218501594],[237.233096811929],[329.758488074037],[244.8396630538],[54.550026133656495],[0.0091998805131559],[43.5809137787371],[0.0],[12.4507362303505],[43.2193894163743],[176.161669266746],[168.50228802484702],[348.992306031524],[102.493298652053],[64.5382814804092],[259.481351591626],[61.2385130432304],[355.87065366459296],[0.0],[99.5091403154285],[207.672949251199],[319.22901195495],[127.577376984298],[205.71865274465],[0.0],[39.0095771195159],[296.06063541489203],[297.266172321603],[64.1803057336155],[59.282486253795206],[94.1442982548988],[346.70034871968903],[55.614784895570594],[275.401855384311],[23.982361127232203],[0.0372383281798735],[2.18108158930867],[220.574860137136],[243.819997385236],[113.47235976101],[254.50751614010397],[0.912482005237812],[184.18731862176],[97.11891632156532]],\"geo\":\"geo\",\"hovertemplate\":\"<b>%{hovertext}</b><br><br>Year=2018<br>ISO3=%{location}<br>Value=%{z}<extra></extra>\",\"hovertext\":[\"Angola\",\"Burundi\",\"Benin\",\"Burkina Faso\",\"Botswana\",\"Central African Republic\",\"C\\u00f4te d'Ivoire\",\"Cameroon\",\"Democratic Republic of the Congo\",\"Congo\",\"Comoros\",\"Cape Verde\",\"Djibouti\",\"Algeria\",\"Eritrea\",\"Ethiopia\",\"Gabon\",\"Ghana\",\"Guinea\",\"Gambia\",\"Guinea-Bissau\",\"Equatorial Guinea\",\"Kenya\",\"Liberia\",\"Morocco\",\"Madagascar\",\"Mali\",\"Mozambique\",\"Mauritania\",\"Malawi\",\"Mayotte\",\"Namibia\",\"Niger\",\"Nigeria\",\"Rwanda\",\"Sudan\",\"Senegal\",\"Sierra Leone\",\"Somalia\",\"South Sudan\",\"Sao Tome And Principe\",\"Suriname\",\"Eswatini\",\"Chad\",\"Togo\",\"Tanzania\",\"Uganda\",\"South Africa\",\"Zambia\",\"Zimbabwe\"],\"locationmode\":\"ISO-3\",\"locations\":[\"AGO\",\"BDI\",\"BEN\",\"BFA\",\"BWA\",\"CAF\",\"CIV\",\"CMR\",\"COD\",\"COG\",\"COM\",\"CPV\",\"DJI\",\"DZA\",\"ERI\",\"ETH\",\"GAB\",\"GHA\",\"GIN\",\"GMB\",\"GNB\",\"GNQ\",\"KEN\",\"LBR\",\"MAR\",\"MDG\",\"MLI\",\"MOZ\",\"MRT\",\"MWI\",\"MYT\",\"NAM\",\"NER\",\"NGA\",\"RWA\",\"SDN\",\"SEN\",\"SLE\",\"SOM\",\"SSD\",\"STP\",\"SUR\",\"SWZ\",\"TCD\",\"TGO\",\"TZA\",\"UGA\",\"ZAF\",\"ZMB\",\"ZWE\"],\"name\":\"\",\"z\":[229.367069975744,287.604821964682,405.045258601711,319.02059849270995,1.03142432771818,334.99091201886597,269.175218501594,237.233096811929,329.758488074037,244.8396630538,54.550026133656495,0.0091998805131559,43.5809137787371,0.0,12.4507362303505,43.2193894163743,176.161669266746,168.50228802484702,348.992306031524,102.493298652053,64.5382814804092,259.481351591626,61.2385130432304,355.87065366459296,0.0,99.5091403154285,207.672949251199,319.22901195495,127.577376984298,205.71865274465,0.0,39.0095771195159,296.06063541489203,297.266172321603,64.1803057336155,59.282486253795206,94.1442982548988,346.70034871968903,55.614784895570594,275.401855384311,23.982361127232203,0.0372383281798735,2.18108158930867,220.574860137136,243.819997385236,113.47235976101,254.50751614010397,0.912482005237812,184.18731862176,97.11891632156532],\"type\":\"choropleth\"}],\"name\":\"2018\"},{\"data\":[{\"coloraxis\":\"coloraxis\",\"customdata\":[[239.197357260423],[294.543166846716],[397.968519930148],[307.966765985055],[0.331480382982932],[329.69084386646205],[278.35457851455595],[230.47702036561705],[331.214954506779],[241.562237888679],[60.193728879094095],[0.0011517490140959],[96.2037727818593],[0.0],[28.252313377852506],[35.453672179183094],[179.475472354053],[162.03483380689],[320.009157585528],[64.16531714073561],[72.2644844391708],[240.947367266627],[58.6463757392969],[342.62479801981],[0.0],[115.020395047185],[214.518574111036],[309.927781066987],[99.8800129398676],[199.678771464465],[0.0],[22.4619477235554],[298.808123663344],[299.88780633960897],[52.552859637521394],[64.6472064835695],[64.38706167814209],[326.599728940005],[55.719686833941495],[296.608534352099],[21.927570304568498],[0.0],[0.805862667589914],[213.079140221107],[229.727044611991],[117.917588232819],[260.13205786297],[0.515076701632997],[179.49007427750098],[105.201555103618]],\"geo\":\"geo\",\"hovertemplate\":\"<b>%{hovertext}</b><br><br>Year=2019<br>ISO3=%{location}<br>Value=%{z}<extra></extra>\",\"hovertext\":[\"Angola\",\"Burundi\",\"Benin\",\"Burkina Faso\",\"Botswana\",\"Central African Republic\",\"C\\u00f4te d'Ivoire\",\"Cameroon\",\"Democratic Republic of the Congo\",\"Congo\",\"Comoros\",\"Cape Verde\",\"Djibouti\",\"Algeria\",\"Eritrea\",\"Ethiopia\",\"Gabon\",\"Ghana\",\"Guinea\",\"Gambia\",\"Guinea-Bissau\",\"Equatorial Guinea\",\"Kenya\",\"Liberia\",\"Morocco\",\"Madagascar\",\"Mali\",\"Mozambique\",\"Mauritania\",\"Malawi\",\"Mayotte\",\"Namibia\",\"Niger\",\"Nigeria\",\"Rwanda\",\"Sudan\",\"Senegal\",\"Sierra Leone\",\"Somalia\",\"South Sudan\",\"Sao Tome And Principe\",\"Suriname\",\"Eswatini\",\"Chad\",\"Togo\",\"Tanzania\",\"Uganda\",\"South Africa\",\"Zambia\",\"Zimbabwe\"],\"locationmode\":\"ISO-3\",\"locations\":[\"AGO\",\"BDI\",\"BEN\",\"BFA\",\"BWA\",\"CAF\",\"CIV\",\"CMR\",\"COD\",\"COG\",\"COM\",\"CPV\",\"DJI\",\"DZA\",\"ERI\",\"ETH\",\"GAB\",\"GHA\",\"GIN\",\"GMB\",\"GNB\",\"GNQ\",\"KEN\",\"LBR\",\"MAR\",\"MDG\",\"MLI\",\"MOZ\",\"MRT\",\"MWI\",\"MYT\",\"NAM\",\"NER\",\"NGA\",\"RWA\",\"SDN\",\"SEN\",\"SLE\",\"SOM\",\"SSD\",\"STP\",\"SUR\",\"SWZ\",\"TCD\",\"TGO\",\"TZA\",\"UGA\",\"ZAF\",\"ZMB\",\"ZWE\"],\"name\":\"\",\"z\":[239.197357260423,294.543166846716,397.968519930148,307.966765985055,0.331480382982932,329.69084386646205,278.35457851455595,230.47702036561705,331.214954506779,241.562237888679,60.193728879094095,0.0011517490140959,96.2037727818593,0.0,28.252313377852506,35.453672179183094,179.475472354053,162.03483380689,320.009157585528,64.16531714073561,72.2644844391708,240.947367266627,58.6463757392969,342.62479801981,0.0,115.020395047185,214.518574111036,309.927781066987,99.8800129398676,199.678771464465,0.0,22.4619477235554,298.808123663344,299.88780633960897,52.552859637521394,64.6472064835695,64.38706167814209,326.599728940005,55.719686833941495,296.608534352099,21.927570304568498,0.0,0.805862667589914,213.079140221107,229.727044611991,117.917588232819,260.13205786297,0.515076701632997,179.49007427750098,105.201555103618],\"type\":\"choropleth\"}],\"name\":\"2019\"},{\"data\":[{\"coloraxis\":\"coloraxis\",\"customdata\":[[235.067712891204],[307.053448199624],[376.9426850889],[303.8106209487],[1.7302249545066002],[316.307459743385],[282.288378911712],[233.723450966417],[311.998797306631],[233.892016062933],[15.0574674457312],[0.0],[116.956359014373],[0.0],[22.7923936550883],[58.2527604282112],[180.87332127845295],[162.64393854968102],[293.220037225309],[82.9474910882116],[91.2121519964756],[238.232868864056],[61.4127017335734],[335.07289731691696],[0.0],[127.509423526392],[210.411667335402],[316.407197685463],[98.04583116997688],[215.837256405246],[0.0],[17.374465218866202],[297.30415927217604],[316.278286365334],[39.2004109703824],[68.26251265352951],[80.69947489725091],[317.94996730296697],[55.8195025334581],[282.93933627822196],[15.310499402955],[0.0],[0.749413815991271],[206.812912319881],[234.152991450336],[123.090679011362],[259.743650276954],[0.528981417249323],[177.630273353582],[126.449573680327]],\"geo\":\"geo\",\"hovertemplate\":\"<b>%{hovertext}</b><br><br>Year=2020<br>ISO3=%{location}<br>Value=%{z}<extra></extra>\",\"hovertext\":[\"Angola\",\"Burundi\",\"Benin\",\"Burkina Faso\",\"Botswana\",\"Central African Republic\",\"C\\u00f4te d'Ivoire\",\"Cameroon\",\"Democratic Republic of the Congo\",\"Congo\",\"Comoros\",\"Cape Verde\",\"Djibouti\",\"Algeria\",\"Eritrea\",\"Ethiopia\",\"Gabon\",\"Ghana\",\"Guinea\",\"Gambia\",\"Guinea-Bissau\",\"Equatorial Guinea\",\"Kenya\",\"Liberia\",\"Morocco\",\"Madagascar\",\"Mali\",\"Mozambique\",\"Mauritania\",\"Malawi\",\"Mayotte\",\"Namibia\",\"Niger\",\"Nigeria\",\"Rwanda\",\"Sudan\",\"Senegal\",\"Sierra Leone\",\"Somalia\",\"South Sudan\",\"Sao Tome And Principe\",\"Suriname\",\"Eswatini\",\"Chad\",\"Togo\",\"Tanzania\",\"Uganda\",\"South Africa\",\"Zambia\",\"Zimbabwe\"],\"locationmode\":\"ISO-3\",\"locations\":[\"AGO\",\"BDI\",\"BEN\",\"BFA\",\"BWA\",\"CAF\",\"CIV\",\"CMR\",\"COD\",\"COG\",\"COM\",\"CPV\",\"DJI\",\"DZA\",\"ERI\",\"ETH\",\"GAB\",\"GHA\",\"GIN\",\"GMB\",\"GNB\",\"GNQ\",\"KEN\",\"LBR\",\"MAR\",\"MDG\",\"MLI\",\"MOZ\",\"MRT\",\"MWI\",\"MYT\",\"NAM\",\"NER\",\"NGA\",\"RWA\",\"SDN\",\"SEN\",\"SLE\",\"SOM\",\"SSD\",\"STP\",\"SUR\",\"SWZ\",\"TCD\",\"TGO\",\"TZA\",\"UGA\",\"ZAF\",\"ZMB\",\"ZWE\"],\"name\":\"\",\"z\":[235.067712891204,307.053448199624,376.9426850889,303.8106209487,1.7302249545066002,316.307459743385,282.288378911712,233.723450966417,311.998797306631,233.892016062933,15.0574674457312,0.0,116.956359014373,0.0,22.7923936550883,58.2527604282112,180.87332127845295,162.64393854968102,293.220037225309,82.9474910882116,91.2121519964756,238.232868864056,61.4127017335734,335.07289731691696,0.0,127.509423526392,210.411667335402,316.407197685463,98.04583116997688,215.837256405246,0.0,17.374465218866202,297.30415927217604,316.278286365334,39.2004109703824,68.26251265352951,80.69947489725091,317.94996730296697,55.8195025334581,282.93933627822196,15.310499402955,0.0,0.749413815991271,206.812912319881,234.152991450336,123.090679011362,259.743650276954,0.528981417249323,177.630273353582,126.449573680327],\"type\":\"choropleth\"}],\"name\":\"2020\"},{\"data\":[{\"coloraxis\":\"coloraxis\",\"customdata\":[[233.79609940857],[295.970101709189],[369.5463860362421],[293.003340218514],[1.41535610199712],[308.26441218286396],[285.09887002365605],[246.992734301352],[301.898510771923],[223.77895122677495],[34.3284854665399],[0.0008973386486712],[109.675098761797],[0.0],[13.4725440664675],[42.4624343596375],[179.026209763645],[156.201001385459],[271.184375384593],[80.999498381673],[101.803191479401],[228.07361783613],[62.3482020656229],[316.59160629645],[0.0],[136.91056638582],[203.107223459838],[312.478667843328],[45.7629112351063],[210.72445907678],[0.0],[16.2381795871836],[294.65826600697596],[309.09509318165703],[41.2843698784516],[66.5622695392982],[94.652370968079],[307.503696643972],[54.0658798926537],[266.98467828080703],[21.1483197491886],[0.0],[1.77981692882481],[201.217166840078],[222.540486696955],[135.21367404891498],[254.366771402456],[0.356921283106172],[177.12478225015],[57.3436170797917]],\"geo\":\"geo\",\"hovertemplate\":\"<b>%{hovertext}</b><br><br>Year=2021<br>ISO3=%{location}<br>Value=%{z}<extra></extra>\",\"hovertext\":[\"Angola\",\"Burundi\",\"Benin\",\"Burkina Faso\",\"Botswana\",\"Central African Republic\",\"C\\u00f4te d'Ivoire\",\"Cameroon\",\"Democratic Republic of the Congo\",\"Congo\",\"Comoros\",\"Cape Verde\",\"Djibouti\",\"Algeria\",\"Eritrea\",\"Ethiopia\",\"Gabon\",\"Ghana\",\"Guinea\",\"Gambia\",\"Guinea-Bissau\",\"Equatorial Guinea\",\"Kenya\",\"Liberia\",\"Morocco\",\"Madagascar\",\"Mali\",\"Mozambique\",\"Mauritania\",\"Malawi\",\"Mayotte\",\"Namibia\",\"Niger\",\"Nigeria\",\"Rwanda\",\"Sudan\",\"Senegal\",\"Sierra Leone\",\"Somalia\",\"South Sudan\",\"Sao Tome And Principe\",\"Suriname\",\"Eswatini\",\"Chad\",\"Togo\",\"Tanzania\",\"Uganda\",\"South Africa\",\"Zambia\",\"Zimbabwe\"],\"locationmode\":\"ISO-3\",\"locations\":[\"AGO\",\"BDI\",\"BEN\",\"BFA\",\"BWA\",\"CAF\",\"CIV\",\"CMR\",\"COD\",\"COG\",\"COM\",\"CPV\",\"DJI\",\"DZA\",\"ERI\",\"ETH\",\"GAB\",\"GHA\",\"GIN\",\"GMB\",\"GNB\",\"GNQ\",\"KEN\",\"LBR\",\"MAR\",\"MDG\",\"MLI\",\"MOZ\",\"MRT\",\"MWI\",\"MYT\",\"NAM\",\"NER\",\"NGA\",\"RWA\",\"SDN\",\"SEN\",\"SLE\",\"SOM\",\"SSD\",\"STP\",\"SUR\",\"SWZ\",\"TCD\",\"TGO\",\"TZA\",\"UGA\",\"ZAF\",\"ZMB\",\"ZWE\"],\"name\":\"\",\"z\":[233.79609940857,295.970101709189,369.5463860362421,293.003340218514,1.41535610199712,308.26441218286396,285.09887002365605,246.992734301352,301.898510771923,223.77895122677495,34.3284854665399,0.0008973386486712,109.675098761797,0.0,13.4725440664675,42.4624343596375,179.026209763645,156.201001385459,271.184375384593,80.999498381673,101.803191479401,228.07361783613,62.3482020656229,316.59160629645,0.0,136.91056638582,203.107223459838,312.478667843328,45.7629112351063,210.72445907678,0.0,16.2381795871836,294.65826600697596,309.09509318165703,41.2843698784516,66.5622695392982,94.652370968079,307.503696643972,54.0658798926537,266.98467828080703,21.1483197491886,0.0,1.77981692882481,201.217166840078,222.540486696955,135.21367404891498,254.366771402456,0.356921283106172,177.12478225015,57.3436170797917],\"type\":\"choropleth\"}],\"name\":\"2021\"},{\"data\":[{\"coloraxis\":\"coloraxis\",\"customdata\":[[232.046130386296],[274.96754094874495],[369.284213237772],[289.837229543558],[0.786491392523787],[313.161784296782],[288.13905845257096],[250.36184997357705],[296.937372392647],[216.056728892045],[66.19907472282651],[0.0017260000444754],[75.67552697660659],[0.0],[18.7465495280113],[52.7978259888975],[173.270514026106],[156.925609375188],[262.833371636371],[126.169373183324],[106.968662560975],[229.249602939614],[63.5758683151154],[308.08759196712],[0.0],[123.683277195778],[231.135494378034],[315.908472903453],[88.9846634617981],[220.699328510712],[0.0],[13.2897897878305],[243.719690159031],[294.447556730481],[39.8660067622031],[67.13474968586621],[64.9162082621359],[298.45293997299],[53.3977677316558],[253.101770573162],[30.321137931665803],[0.0005975944131409],[0.724953474177554],[207.351132393264],[225.525326081631],[146.796187528698],[257.65975936790096],[0.256400794051814],[180.627032966307],[52.0786891674213]],\"geo\":\"geo\",\"hovertemplate\":\"<b>%{hovertext}</b><br><br>Year=2022<br>ISO3=%{location}<br>Value=%{z}<extra></extra>\",\"hovertext\":[\"Angola\",\"Burundi\",\"Benin\",\"Burkina Faso\",\"Botswana\",\"Central African Republic\",\"C\\u00f4te d'Ivoire\",\"Cameroon\",\"Democratic Republic of the Congo\",\"Congo\",\"Comoros\",\"Cape Verde\",\"Djibouti\",\"Algeria\",\"Eritrea\",\"Ethiopia\",\"Gabon\",\"Ghana\",\"Guinea\",\"Gambia\",\"Guinea-Bissau\",\"Equatorial Guinea\",\"Kenya\",\"Liberia\",\"Morocco\",\"Madagascar\",\"Mali\",\"Mozambique\",\"Mauritania\",\"Malawi\",\"Mayotte\",\"Namibia\",\"Niger\",\"Nigeria\",\"Rwanda\",\"Sudan\",\"Senegal\",\"Sierra Leone\",\"Somalia\",\"South Sudan\",\"Sao Tome And Principe\",\"Suriname\",\"Eswatini\",\"Chad\",\"Togo\",\"Tanzania\",\"Uganda\",\"South Africa\",\"Zambia\",\"Zimbabwe\"],\"locationmode\":\"ISO-3\",\"locations\":[\"AGO\",\"BDI\",\"BEN\",\"BFA\",\"BWA\",\"CAF\",\"CIV\",\"CMR\",\"COD\",\"COG\",\"COM\",\"CPV\",\"DJI\",\"DZA\",\"ERI\",\"ETH\",\"GAB\",\"GHA\",\"GIN\",\"GMB\",\"GNB\",\"GNQ\",\"KEN\",\"LBR\",\"MAR\",\"MDG\",\"MLI\",\"MOZ\",\"MRT\",\"MWI\",\"MYT\",\"NAM\",\"NER\",\"NGA\",\"RWA\",\"SDN\",\"SEN\",\"SLE\",\"SOM\",\"SSD\",\"STP\",\"SUR\",\"SWZ\",\"TCD\",\"TGO\",\"TZA\",\"UGA\",\"ZAF\",\"ZMB\",\"ZWE\"],\"name\":\"\",\"z\":[232.046130386296,274.96754094874495,369.284213237772,289.837229543558,0.786491392523787,313.161784296782,288.13905845257096,250.36184997357705,296.937372392647,216.056728892045,66.19907472282651,0.0017260000444754,75.67552697660659,0.0,18.7465495280113,52.7978259888975,173.270514026106,156.925609375188,262.833371636371,126.169373183324,106.968662560975,229.249602939614,63.5758683151154,308.08759196712,0.0,123.683277195778,231.135494378034,315.908472903453,88.9846634617981,220.699328510712,0.0,13.2897897878305,243.719690159031,294.447556730481,39.8660067622031,67.13474968586621,64.9162082621359,298.45293997299,53.3977677316558,253.101770573162,30.321137931665803,0.0005975944131409,0.724953474177554,207.351132393264,225.525326081631,146.796187528698,257.65975936790096,0.256400794051814,180.627032966307,52.0786891674213],\"type\":\"choropleth\"}],\"name\":\"2022\"}]);\n",
       "                        }).then(function(){\n",
       "                            \n",
       "var gd = document.getElementById('28d25ff5-7ef0-4cdc-a30e-db408fa0e2f6');\n",
       "var x = new MutationObserver(function (mutations, observer) {{\n",
       "        var display = window.getComputedStyle(gd).display;\n",
       "        if (!display || display === 'none') {{\n",
       "            console.log([gd, 'removed!']);\n",
       "            Plotly.purge(gd);\n",
       "            observer.disconnect();\n",
       "        }}\n",
       "}});\n",
       "\n",
       "// Listen for the removal of the full notebook cells\n",
       "var notebookContainer = gd.closest('#notebook-container');\n",
       "if (notebookContainer) {{\n",
       "    x.observe(notebookContainer, {childList: true});\n",
       "}}\n",
       "\n",
       "// Listen for the clearing of the current output cell\n",
       "var outputEl = gd.closest('.output');\n",
       "if (outputEl) {{\n",
       "    x.observe(outputEl, {childList: true});\n",
       "}}\n",
       "\n",
       "                        })                };                });            </script>        </div>"
      ]
     },
     "metadata": {},
     "output_type": "display_data"
    },
    {
     "name": "stdout",
     "output_type": "stream",
     "text": [
      "Dynamic map has been saved to your Desktop as 'africa_malaria_dynamic_map.html'\n"
     ]
    }
   ],
   "source": [
    "import pandas as pd\n",
    "import plotly.express as px\n",
    "\n",
    "file_path = '/Users/MinxuanLuo/Desktop/National Unit-data.csv'  \n",
    "df = pd.read_csv(file_path)\n",
    "\n",
    "print(\"Data Preview:\")\n",
    "print(df.head())\n",
    "print(f\"Number of countries included: {df['ISO3'].nunique()}\")\n",
    "print(f\"List of countries: {df['ISO3'].unique()}\")\n",
    "\n",
    "fig = px.choropleth(\n",
    "    df,\n",
    "    locations=\"ISO3\",                   # Use ISO-3 codes for countries\n",
    "    locationmode=\"ISO-3\",               # Match locations to ISO-3 codes\n",
    "    color=\"Value\",                      # Color based on malaria incidence rate\n",
    "    animation_frame=\"Year\",             # Add a time slider based on Year\n",
    "    hover_name=\"Name\",                  # Show country name on hover\n",
    "    hover_data={\"Value\": True},         # Show malaria incidence value on hover\n",
    "    color_continuous_scale=px.colors.sequential.YlOrRd,  # Color scale\n",
    "    range_color=[0, df['Value'].max()], # Define color range\n",
    "    title=\"Malaria Incidence Rate in Africa\"  # Map title\n",
    ")\n",
    "\n",
    "fig.update_geos(\n",
    "    scope='africa',                     # Restrict the map to Africa\n",
    "    showcoastlines=True,                # Display coastlines\n",
    "    coastlinecolor=\"Gray\",              # Coastline color\n",
    "    showland=True,                      # Highlight land areas\n",
    "    landcolor=\"white\"                   # Land color\n",
    ")\n",
    "\n",
    "# Display the map\n",
    "fig.show()\n",
    "\n",
    "fig.write_html(\"/Users/MinxuanLuo/Desktop/africa_malaria_dynamic_map.html\")\n",
    "print(\"Dynamic map has been saved to your Desktop as 'africa_malaria_dynamic_map.html'\")\n"
   ]
  },
  {
   "cell_type": "code",
   "execution_count": 3,
   "id": "2adfa67b",
   "metadata": {},
   "outputs": [
    {
     "name": "stderr",
     "output_type": "stream",
     "text": [
      "/Users/minxuanluo/anaconda3/lib/python3.11/site-packages/geopandas/plotting.py:48: ShapelyDeprecationWarning:\n",
      "\n",
      "The 'type' attribute is deprecated, and will be removed in the future. You can use the 'geom_type' attribute instead.\n",
      "\n",
      "/Users/minxuanluo/anaconda3/lib/python3.11/site-packages/geopandas/plotting.py:48: ShapelyDeprecationWarning:\n",
      "\n",
      "The 'type' attribute is deprecated, and will be removed in the future. You can use the 'geom_type' attribute instead.\n",
      "\n"
     ]
    },
    {
     "data": {
      "image/png": "[encoded data removed]",
      "text/plain": [
       "<Figure size 1500x1200 with 2 Axes>"
      ]
     },
     "metadata": {},
     "output_type": "display_data"
    }
   ],
   "source": [
    "import pandas as pd\n",
    "import geopandas as gpd\n",
    "import matplotlib.pyplot as plt\n",
    "\n",
    "file_path = '/Users/MinxuanLuo/Desktop/National Unit-data.csv'  \n",
    "df = pd.read_csv(file_path)\n",
    "\n",
    "year = 2010\n",
    "df_2010 = df[df['Year'] == year]\n",
    "\n",
    "africa_shapefile = gpd.datasets.get_path('naturalearth_lowres')  \n",
    "gdf = gpd.read_file(africa_shapefile)\n",
    "\n",
    "gdf_africa = gdf[gdf['continent'] == 'Africa']\n",
    "\n",
    "gdf_africa = gdf_africa.merge(df_2010, left_on='name', right_on='Name', how='left')\n",
    "\n",
    "fig, ax = plt.subplots(1, 1, figsize=(15, 12))\n",
    "\n",
    "gdf_africa.boundary.plot(ax=ax, linewidth=0.5, color='black')  \n",
    "gdf_africa.plot(column='Value', ax=ax, cmap='YlOrRd', legend=True, edgecolor='black', missing_kwds={\n",
    "    \"color\": \"lightgrey\",\n",
    "    \"label\": \"No Data\"\n",
    "})\n",
    "\n",
    "for _, row in gdf_africa.iterrows():\n",
    "    if pd.notnull(row['Value']):  \n",
    "        plt.text(\n",
    "            row.geometry.centroid.x,  \n",
    "            row.geometry.centroid.y,  \n",
    "            f\"{row['name']}\\n{row['Value']:.1f}\",  \n",
    "            ha='center', fontsize=8, color=\"black\"\n",
    "        )\n",
    "\n",
    "ax.set_title(f\"Malaria Incidence Rate in Africa ({year})\", fontsize=16)\n",
    "ax.axis(\"off\")\n",
    "\n",
    "plt.savefig(\"africa_malaria_map.png\", dpi=300, bbox_inches=\"tight\")\n",
    "\n",
    "plt.show()\n"
   ]
  },
  {
   "cell_type": "code",
   "execution_count": 28,
   "id": "1b13c08b",
   "metadata": {},
   "outputs": [
    {
     "name": "stderr",
     "output_type": "stream",
     "text": [
      "/Users/minxuanluo/anaconda3/lib/python3.11/site-packages/geopandas/plotting.py:48: ShapelyDeprecationWarning:\n",
      "\n",
      "The 'type' attribute is deprecated, and will be removed in the future. You can use the 'geom_type' attribute instead.\n",
      "\n",
      "/Users/minxuanluo/anaconda3/lib/python3.11/site-packages/geopandas/plotting.py:48: ShapelyDeprecationWarning:\n",
      "\n",
      "The 'type' attribute is deprecated, and will be removed in the future. You can use the 'geom_type' attribute instead.\n",
      "\n"
     ]
    },
    {
     "data": {
      "image/png": "[encoded data removed]",
      "text/plain": [
       "<Figure size 1500x1200 with 2 Axes>"
      ]
     },
     "metadata": {},
     "output_type": "display_data"
    }
   ],
   "source": [
    "import pandas as pd\n",
    "import geopandas as gpd\n",
    "import matplotlib.pyplot as plt\n",
    "\n",
    "file_path = '/Users/MinxuanLuo/Desktop/National Unit-data.csv'  \n",
    "df = pd.read_csv(file_path)\n",
    "\n",
    "year = 2021\n",
    "df_2021 = df[df['Year'] == year]\n",
    "\n",
    "africa_shapefile = gpd.datasets.get_path('naturalearth_lowres')  \n",
    "gdf = gpd.read_file(africa_shapefile)\n",
    "\n",
    "gdf_africa = gdf[gdf['continent'] == 'Africa']\n",
    "\n",
    "gdf_africa = gdf_africa.merge(df_2021, left_on='name', right_on='Name', how='left')\n",
    "\n",
    "fig, ax = plt.subplots(1, 1, figsize=(15, 12))\n",
    "\n",
    "gdf_africa.boundary.plot(ax=ax, linewidth=0.5, color='black')  \n",
    "gdf_africa.plot(column='Value', ax=ax, cmap='YlOrRd', legend=True, edgecolor='black', missing_kwds={\n",
    "    \"color\": \"lightgrey\",\n",
    "    \"label\": \"No Data\"\n",
    "})\n",
    "\n",
    "for _, row in gdf_africa.iterrows():\n",
    "    if pd.notnull(row['Value']):  \n",
    "        plt.text(\n",
    "            row.geometry.centroid.x,  \n",
    "            row.geometry.centroid.y,  \n",
    "            f\"{row['name']}\\n{row['Value']:.1f}\",  \n",
    "            ha='center', fontsize=8, color=\"black\"\n",
    "        )\n",
    "\n",
    "ax.set_title(f\"Malaria Incidence Rate in Africa ({year})\", fontsize=16)\n",
    "ax.axis(\"off\")\n",
    "\n",
    "plt.savefig(\"africa_malaria_map_2021.png\", dpi=300, bbox_inches=\"tight\")\n",
    "\n",
    "plt.show()\n"
   ]
  },
  {
   "cell_type": "code",
   "execution_count": 29,
   "id": "15796699",
   "metadata": {},
   "outputs": [
    {
     "name": "stderr",
     "output_type": "stream",
     "text": [
      "/Users/minxuanluo/anaconda3/lib/python3.11/site-packages/geopandas/plotting.py:48: ShapelyDeprecationWarning:\n",
      "\n",
      "The 'type' attribute is deprecated, and will be removed in the future. You can use the 'geom_type' attribute instead.\n",
      "\n",
      "/Users/minxuanluo/anaconda3/lib/python3.11/site-packages/geopandas/plotting.py:48: ShapelyDeprecationWarning:\n",
      "\n",
      "The 'type' attribute is deprecated, and will be removed in the future. You can use the 'geom_type' attribute instead.\n",
      "\n"
     ]
    },
    {
     "data": {
      "image/png": "[encoded data removed]",
      "text/plain": [
       "<Figure size 1500x1200 with 2 Axes>"
      ]
     },
     "metadata": {},
     "output_type": "display_data"
    }
   ],
   "source": [
    "import pandas as pd\n",
    "import geopandas as gpd\n",
    "import matplotlib.pyplot as plt\n",
    "\n",
    "file_path = '/Users/MinxuanLuo/Desktop/National Unit-data.csv'  \n",
    "df = pd.read_csv(file_path)\n",
    "\n",
    "df_2010 = df[df['Year'] == 2010]\n",
    "df_2021 = df[df['Year'] == 2021]\n",
    "\n",
    "df_diff = pd.merge(df_2021, df_2010, on='Name', suffixes=('_2021', '_2010'))\n",
    "df_diff['Value_Diff'] = df_diff['Value_2021'] - df_diff['Value_2010']\n",
    "\n",
    "africa_shapefile = gpd.datasets.get_path('naturalearth_lowres')  \n",
    "gdf = gpd.read_file(africa_shapefile)\n",
    "\n",
    "gdf_africa = gdf[gdf['continent'] == 'Africa']\n",
    "\n",
    "gdf_africa = gdf_africa.merge(df_diff[['Name', 'Value_Diff']], left_on='name', right_on='Name', how='left')\n",
    "\n",
    "fig, ax = plt.subplots(1, 1, figsize=(15, 12))\n",
    "\n",
    "gdf_africa.boundary.plot(ax=ax, linewidth=0.5, color='black')  \n",
    "gdf_africa.plot(column='Value_Diff', ax=ax, cmap='coolwarm', legend=True, edgecolor='black', missing_kwds={\n",
    "    \"color\": \"lightgrey\",\n",
    "    \"label\": \"No Data\"\n",
    "})\n",
    "\n",
    "for _, row in gdf_africa.iterrows():\n",
    "    if pd.notnull(row['Value_Diff']):  \n",
    "        plt.text(\n",
    "            row.geometry.centroid.x,  \n",
    "            row.geometry.centroid.y,  \n",
    "            f\"{row['name']}\\n{row['Value_Diff']:.1f}\",  \n",
    "            ha='center', fontsize=8, color=\"black\"\n",
    "        )\n",
    "\n",
    "ax.set_title(\"Change in Malaria Incidence Rate (2021 minus 2010)\", fontsize=16)\n",
    "ax.axis(\"off\")\n",
    "\n",
    "plt.savefig(\"africa_malaria_diff_map.png\", dpi=300, bbox_inches=\"tight\")\n",
    "\n",
    "plt.show()\n"
   ]
  },
  {
   "cell_type": "code",
   "execution_count": null,
   "id": "f8757427",
   "metadata": {},
   "outputs": [],
   "source": []
  }
 ],
 "metadata": {
  "kernelspec": {
   "display_name": "Python 3 (ipykernel)",
   "language": "python",
   "name": "python3"
  },
  "language_info": {
   "codemirror_mode": {
    "name": "ipython",
    "version": 3
   },
   "file_extension": ".py",
   "mimetype": "text/x-python",
   "name": "python",
   "nbconvert_exporter": "python",
   "pygments_lexer": "ipython3",
   "version": "3.11.5"
  }
 },
 "nbformat": 4,
 "nbformat_minor": 5
}
